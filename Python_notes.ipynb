{
  "nbformat": 4,
  "nbformat_minor": 0,
  "metadata": {
    "colab": {
      "provenance": [],
      "include_colab_link": true
    },
    "kernelspec": {
      "name": "python3",
      "display_name": "Python 3"
    },
    "language_info": {
      "name": "python"
    }
  },
  "cells": [
    {
      "cell_type": "markdown",
      "metadata": {
        "id": "view-in-github",
        "colab_type": "text"
      },
      "source": [
        "<a href=\"https://colab.research.google.com/github/Krishnan9074/.0/blob/master/Python_notes.ipynb\" target=\"_parent\"><img src=\"https://colab.research.google.com/assets/colab-badge.svg\" alt=\"Open In Colab\"/></a>"
      ]
    },
    {
      "cell_type": "markdown",
      "source": [
        "# **`What is Python?`**\n",
        "Python is a high-level, general-purpose programming language with an elegant syntax that allows programmers to focus more on problem-solving than on syntax errors. One of the primary goals of Python Developers is to keep it fun to use. Python has become a big buzz in the field of modern software development, infrastructure management, and especially in Data Science and Artificial Intelligence.\n",
        "            It was created by Guido van Rossum, and released in 1991."
      ],
      "metadata": {
        "id": "EbtTGimzG4-l"
      }
    },
    {
      "cell_type": "markdown",
      "source": [
        "# **`Why Python?`**\n",
        "* Python works on different platforms (Windows, Mac, Linux, Raspberry Pi, etc).\n",
        "* Python has a simple syntax similar to the English language.\n",
        "* Python has syntax that allows developers to write programs with fewer lines   than some other programming languages.\n",
        "* Python runs on an interpreter system, meaning that code can be executed as soon as it is written. This means that prototyping can be very quick.\n",
        "* Python can be treated in a procedural way, an object-oriented way or a functional way."
      ],
      "metadata": {
        "id": "8AS7oP8kgqFe"
      }
    },
    {
      "cell_type": "markdown",
      "source": [
        "# **`Why Is Python Popular for Data Science?`**\n",
        "Data science is applicable in different industries, and it's helping to solve problems and discover more about the universe. In the health industry, data science helps doctors to make use of past data in making decisions, for example, diagnosis, or the right treatment for a disease. The education sector is not left out, you can now predict students dropping out of school, all thanks to data science.\n",
        "* Python Has a Simple Syntax\n",
        "* Wide Community as more people prefer working on python rather than R\n",
        "* Python Offers All the Libraries including Numpy, Pandas, Matplotlib, Seaborn,etc."
      ],
      "metadata": {
        "id": "V0bmKnMCiSKo"
      }
    },
    {
      "cell_type": "markdown",
      "source": [
        "# Learn to write your **`first program`** in Python"
      ],
      "metadata": {
        "id": "OpgeqJcP-5RG"
      }
    },
    {
      "cell_type": "code",
      "source": [
        "print(\"Hello World\")"
      ],
      "metadata": {
        "colab": {
          "base_uri": "https://localhost:8080/"
        },
        "id": "eiyH9Bui_ELo",
        "outputId": "3b7b017b-035b-493d-d704-edc9db4ebfec"
      },
      "execution_count": null,
      "outputs": [
        {
          "output_type": "stream",
          "name": "stdout",
          "text": [
            "Hello World\n"
          ]
        }
      ]
    },
    {
      "cell_type": "markdown",
      "source": [
        "We can see that it's a cake walk, being a dynamic programming language ,Python is good option for beginners to start their coding journey."
      ],
      "metadata": {
        "id": "Q8JelJo0_Mzv"
      }
    },
    {
      "cell_type": "markdown",
      "metadata": {
        "id": "4U9a0JxgT3pD"
      },
      "source": [
        "# **`What are Identifiers in Python ?`**\n",
        "\n",
        "A Python identifier is a name used to identify a variable, function, class, module or other object.\n",
        "An identifier starts with a letter A to Z or a to z or an underscore (_) followed by zero or more\n",
        "letters, underscores and digits (0 to 9).\n",
        "\n",
        "Python does not allow punctuation characters such as @, $, and % within identifiers.Python is a case\n",
        "sensitive programming language. Thus, Manpower and manpower are two different identifiers in Python.\n",
        "\n",
        "Valid identifiers:\n",
        "\n",
        "<ul><li>ab10c: contains only letters and numbers</li>\n",
        "<li>abc_DE: contains all the valid characters</li>\n",
        "<li>_: surprisingly but Yes, underscore is a valid identifier</li>\n",
        "<li>_abc: identifier can start with an underscore</li>\n",
        "</ul>\n",
        "Invalid identifers:\n",
        "\n",
        "<ul><li>99: identifier can’t be only digits</li>\n",
        "<li>9abc: identifier can’t start with number</li>\n",
        "<li>x+y: the only special character allowed is an underscore</li>\n",
        "<li>for: it’s a reserved keyword</li></ul>"
      ]
    },
    {
      "cell_type": "markdown",
      "metadata": {
        "id": "rVhRxKnUT3pE"
      },
      "source": [
        "<h5>Worried about to confirm whether an identifier is ok or not??</h5>\n",
        "<h6>There's a built in method to confirm that.</h6>\n",
        "<h6>Let's see</h6>"
      ]
    },
    {
      "cell_type": "code",
      "execution_count": null,
      "metadata": {
        "id": "j8Dw6MYsT3pE",
        "outputId": "d674892b-9ade-4c17-9889-b6edc2a37c88"
      },
      "outputs": [
        {
          "name": "stdout",
          "output_type": "stream",
          "text": [
            "True\n",
            "False\n",
            "True\n",
            "True\n"
          ]
        }
      ],
      "source": [
        "# Run this cell and see the answer in boolean way(True, False) and don't worry if you don't understand this method right now.\n",
        "# Just keep in mind, there's a way to cross check the identifier.\n",
        "print(\"abc\".isidentifier())  # True\n",
        "print(\"99a\".isidentifier())  # False\n",
        "print(\"_\".isidentifier())  # True\n",
        "print(\"for\".isidentifier())  # True - wrong output"
      ]
    },
    {
      "cell_type": "markdown",
      "metadata": {
        "id": "jouWP2_hT3pG"
      },
      "source": [
        "<h3>Reserved words in Python</h3>"
      ]
    },
    {
      "cell_type": "markdown",
      "metadata": {
        "id": "mD9z127eT3pG"
      },
      "source": [
        "Reserved words (also called keywords) are defined with predefined meaning and syntax in the language.\n",
        "These keywords have to be used to develop programming instructions. Reserved words can’t be used as\n",
        "identifiers for other programming elements like name of variable, function etc."
      ]
    },
    {
      "cell_type": "markdown",
      "metadata": {
        "id": "diLOCHNkT3pH"
      },
      "source": [
        "<h4>Following is the list of reserved keywords in Python 3</h4>\n",
        "\n",
        "and, except, lambda, with, as, finally, nonlocal, while, assert, false, None, yield, break, for, not, class, from, or, continue\n",
        ",global, pass, def, if, raise, del, import, return, elif, in, True, else, is, try\n",
        "\n",
        "\n",
        "To see what each keyword means here, you can refer this link\n",
        "<a href=\"https://www.w3schools.com/python/python_ref_keywords.asp\">Click here</a>"
      ]
    },
    {
      "cell_type": "markdown",
      "metadata": {
        "id": "JOoTRiIHT3pH"
      },
      "source": [
        "<h5>There's another way to check reserved keywords in Python</h5>\n"
      ]
    },
    {
      "cell_type": "code",
      "execution_count": null,
      "metadata": {
        "id": "ALZx0fg9T3pI",
        "outputId": "8b2069b6-9819-48e1-815d-afa686d1a9f7"
      },
      "outputs": [
        {
          "data": {
            "text/plain": [
              "['False',\n",
              " 'None',\n",
              " 'True',\n",
              " 'and',\n",
              " 'as',\n",
              " 'assert',\n",
              " 'async',\n",
              " 'await',\n",
              " 'break',\n",
              " 'class',\n",
              " 'continue',\n",
              " 'def',\n",
              " 'del',\n",
              " 'elif',\n",
              " 'else',\n",
              " 'except',\n",
              " 'finally',\n",
              " 'for',\n",
              " 'from',\n",
              " 'global',\n",
              " 'if',\n",
              " 'import',\n",
              " 'in',\n",
              " 'is',\n",
              " 'lambda',\n",
              " 'nonlocal',\n",
              " 'not',\n",
              " 'or',\n",
              " 'pass',\n",
              " 'raise',\n",
              " 'return',\n",
              " 'try',\n",
              " 'while',\n",
              " 'with',\n",
              " 'yield']"
            ]
          },
          "execution_count": 1,
          "metadata": {},
          "output_type": "execute_result"
        }
      ],
      "source": [
        "# Run this command and you will see reserved keywords in a list(list is a data structure you will see later)\n",
        "import keyword\n",
        "keyword.kwlist"
      ]
    },
    {
      "cell_type": "markdown",
      "source": [
        "# **`Comments in Python`**\n",
        "As programs get bigger and more complicated, they get more difficult to read. Formal languages are dense, and it is often difficult to look at a piece of code and figure out what it is doing, or why.\n",
        "\n",
        "For this reason, it is a good idea to add notes to your programs to explain in natural language what the program is doing. These notes are called comments, and they are marked with the # symbol:\n",
        "\n",
        "compute the percentage of the hour that has elapsed\n",
        "percentage = (minute * 100) / 60\n",
        "\n",
        "In this case, the comment appears on a line by itself. You can also put comments at the end of a line:"
      ],
      "metadata": {
        "id": "3e0yHi2hevBP"
      }
    },
    {
      "cell_type": "code",
      "source": [
        "minute =13\n",
        "percentage = (minute * 100) / 60     # caution: integer division"
      ],
      "metadata": {
        "id": "HA6_rNMae9cw"
      },
      "execution_count": null,
      "outputs": []
    },
    {
      "cell_type": "markdown",
      "source": [
        "Everything from the # to the end of the line is ignored it has no effect on the program. The message is intended for the programmer or for future programmers who might use this code. In this case, it reminds the reader about the ever-surprising behavior of integer division.\n",
        "\n",
        "This sort of comment is less necessary if you use the integer division operation, //. It has the same effect as the division operator * Note, but it signals that the effect is deliberate.\n",
        "\n",
        "percentage = (minute * 100) // 60\n",
        "\n",
        "The integer division operator is like a comment that says, \"I know this is integer division, and I like it that way!\""
      ],
      "metadata": {
        "id": "lrLPwm7LfIKc"
      }
    },
    {
      "cell_type": "markdown",
      "source": [
        "# **`Variables in Python`**\n",
        "Variables are containers for storing data values.\n",
        "Python has no command for declaring a variable.A variable is created the moment you first assign a value to it."
      ],
      "metadata": {
        "id": "rHDVAPk3LnQy"
      }
    },
    {
      "cell_type": "code",
      "source": [
        "# example\n",
        "x=5\n",
        "s='CloudyML'\n",
        "print(x)\n",
        "print(s)"
      ],
      "metadata": {
        "colab": {
          "base_uri": "https://localhost:8080/"
        },
        "id": "lqS0xmClMFqd",
        "outputId": "1f90590e-30f8-4e28-833f-95974981ead4"
      },
      "execution_count": null,
      "outputs": [
        {
          "output_type": "stream",
          "name": "stdout",
          "text": [
            "5\n",
            "CloudyML\n"
          ]
        }
      ]
    },
    {
      "cell_type": "markdown",
      "source": [
        "Variables do not need to be declared with any particular type, and can even change type after they have been set.\n",
        "If you want to specify the data type of a variable, this can be done with **casting**"
      ],
      "metadata": {
        "id": "dccUm-_-MX84"
      }
    },
    {
      "cell_type": "code",
      "source": [
        "# example\n",
        "x=int(6)\n",
        "y=str(6)\n",
        "z=float(6)\n",
        "print(x)\n",
        "print(y)\n",
        "print(z)"
      ],
      "metadata": {
        "colab": {
          "base_uri": "https://localhost:8080/"
        },
        "id": "6TQY28vVMjGO",
        "outputId": "ad93a8c6-1d49-4395-828e-7667401e7eb9"
      },
      "execution_count": null,
      "outputs": [
        {
          "output_type": "stream",
          "name": "stdout",
          "text": [
            "6\n",
            "6\n",
            "6.0\n"
          ]
        }
      ]
    },
    {
      "cell_type": "markdown",
      "source": [
        "In the above example, the interpreter is explicitly type casting the variables and showing the necessary outputs."
      ],
      "metadata": {
        "id": "yFU00h43Nroh"
      }
    },
    {
      "cell_type": "markdown",
      "source": [
        "# Values and types\n",
        "A value is one of the fundamental things     like a letter or a number     that a program manipulates.\n",
        "\n",
        "For example, 2 is an integer, and 'Hello, World!' is a string, because it contains a \"string\" of letters. You (and the interpreter) can identify strings because they are enclosed in quotation marks.\n",
        "\n",
        "If you are not sure what type a value has, the interpreter can tell you."
      ],
      "metadata": {
        "id": "GGHIu6J6UrAI"
      }
    },
    {
      "cell_type": "code",
      "source": [
        "print(type('Hello, World!'))\n",
        "print(type(17))"
      ],
      "metadata": {
        "colab": {
          "base_uri": "https://localhost:8080/"
        },
        "id": "2vvCmdYyVJ7a",
        "outputId": "860c1270-1e9a-466f-cfdb-d419b4d911f7"
      },
      "execution_count": null,
      "outputs": [
        {
          "output_type": "stream",
          "name": "stdout",
          "text": [
            "<class 'str'>\n",
            "<class 'int'>\n"
          ]
        }
      ]
    },
    {
      "cell_type": "markdown",
      "source": [
        "Not surprisingly, strings belong to the type str and integers belong to the type int. Less obviously, numbers with a decimal point belong to a type called float, because these numbers are represented in a format called floating-point."
      ],
      "metadata": {
        "id": "aLVySB2fVUUz"
      }
    },
    {
      "cell_type": "code",
      "source": [
        "print(type(3.2))"
      ],
      "metadata": {
        "colab": {
          "base_uri": "https://localhost:8080/"
        },
        "id": "se1vD22HVYXk",
        "outputId": "791b4850-c649-4074-b911-f0a89b9ccee3"
      },
      "execution_count": null,
      "outputs": [
        {
          "output_type": "stream",
          "name": "stdout",
          "text": [
            "<class 'float'>\n"
          ]
        }
      ]
    },
    {
      "cell_type": "markdown",
      "source": [
        "What about values like '17' and '3.2'? They look like numbers, but they are in quotation marks like strings."
      ],
      "metadata": {
        "id": "o3yMUVMGVfgM"
      }
    },
    {
      "cell_type": "code",
      "source": [
        "print(type('17'))\n",
        "print(type('3.2'))"
      ],
      "metadata": {
        "colab": {
          "base_uri": "https://localhost:8080/"
        },
        "id": "EC4oXI23VjgN",
        "outputId": "401c7acd-6339-4c67-c7fa-95c7ae4dc542"
      },
      "execution_count": null,
      "outputs": [
        {
          "output_type": "stream",
          "name": "stdout",
          "text": [
            "<class 'str'>\n",
            "<class 'str'>\n"
          ]
        }
      ]
    },
    {
      "cell_type": "markdown",
      "source": [
        "They're strings.\n",
        "\n",
        "When you type a large integer, you might be tempted to use commas between groups of three digits, as in 1,000,000. This is not a legal integer in Python, but it is a legal expression:"
      ],
      "metadata": {
        "id": "qqFNixEUVvmj"
      }
    },
    {
      "cell_type": "code",
      "source": [
        "print (1,000,000100)"
      ],
      "metadata": {
        "colab": {
          "base_uri": "https://localhost:8080/",
          "height": 130
        },
        "id": "u1X_RHerXW2C",
        "outputId": "237df6a6-988b-4b45-eefb-a8a6549e8697"
      },
      "execution_count": null,
      "outputs": [
        {
          "output_type": "error",
          "ename": "SyntaxError",
          "evalue": "ignored",
          "traceback": [
            "\u001b[0;36m  File \u001b[0;32m\"<ipython-input-9-620cc0d67dc4>\"\u001b[0;36m, line \u001b[0;32m1\u001b[0m\n\u001b[0;31m    print (1,000,000100)\u001b[0m\n\u001b[0m                      ^\u001b[0m\n\u001b[0;31mSyntaxError\u001b[0m\u001b[0;31m:\u001b[0m invalid token\n"
          ]
        }
      ]
    },
    {
      "cell_type": "markdown",
      "source": [
        "Well, that's not what we expected at all! Python interprets 1,000,000 as a comma-separated list of three integers, which it prints consecutively. This is the first example we have seen of a semantic error: the code runs without producing an error message, but it doesn't do the \"right\" thing."
      ],
      "metadata": {
        "id": "dZg2b19NXfH-"
      }
    },
    {
      "cell_type": "markdown",
      "source": [
        "# **`Python operators`**\n",
        "Python operators allow us to do common processing on variables. We will look into different types of operators with examples and also operator precedence. They are the special symbols that can manipulate the values of one or more operands.\n",
        "    \n",
        "**List of Python Operators**\n",
        "Python operators can be classified into several categories.\n",
        "\n",
        "* Assignment Operators\n",
        "* Arithmetic Operators\n",
        "* Comparison Operators\n",
        "* Bitwise Operators\n",
        "* Logical Operators"
      ],
      "metadata": {
        "id": "YuQI31pFfnd-"
      }
    },
    {
      "cell_type": "markdown",
      "source": [
        "# Assignment Operators\n",
        "Assignment operators include the basic assignment operator equal to sign (=).\n",
        "\n",
        "But to simplify code, and reduce redundancy, Python also includes arithmetic assignment operators.\n",
        "\n",
        "This includes the += operator in Python used for addition assignment, //= floor division assignment operator, and others.\n",
        "\n",
        "Here’s a list of all the arithmetic assignment operators in Python.\n",
        "\n",
        "\n"
      ],
      "metadata": {
        "id": "PVSHDnfggBB_"
      }
    },
    {
      "cell_type": "code",
      "source": [
        "# take two variable, assign values with assignment operators\n",
        "a=3\n",
        "b=4\n",
        "\n",
        "print(\"a: \"+str(a))\n",
        "print(\"b: \"+str(b))\n",
        "\n",
        "# it is equivalent to a=a+b\n",
        "a+=b\n",
        "\n",
        "print(\"a: \"+str(a))\n",
        "print(\"b: \"+str(b))\n",
        "\n",
        "# it is equivalent to a=a*b\n",
        "a*=b\n",
        "print(\"a: \"+str(a))\n",
        "print(\"b: \"+str(b))\n",
        "\n",
        "# it is equivalent to a=a/b\n",
        "a/=b\n",
        "print(\"a: \"+str(a))\n",
        "print(\"b: \"+str(b))\n",
        "\n",
        "# it is equivalent to a=a%b\n",
        "a%=b\n",
        "print(\"a: \"+str(a))\n",
        "print(\"b: \"+str(b))\n",
        "\n",
        "# it is equivalent to a=a**b ( exponent operator)\n",
        "a**=b\n",
        "print(\"a: \"+str(a))\n",
        "print(\"b: \"+str(b))\n",
        "\n",
        "# it is equivalent to a=a//b ( floor division)\n",
        "a//=b\n",
        "print(\"a: \"+str(a))\n",
        "print(\"b: \"+str(b))"
      ],
      "metadata": {
        "id": "aKuQv0GOh4E3",
        "colab": {
          "base_uri": "https://localhost:8080/"
        },
        "outputId": "2cd5f6a6-a660-45df-93b2-74eece5a87fa"
      },
      "execution_count": null,
      "outputs": [
        {
          "output_type": "stream",
          "name": "stdout",
          "text": [
            "a: 3\n",
            "b: 4\n",
            "a: 7\n",
            "b: 4\n",
            "a: 28\n",
            "b: 4\n",
            "a: 7.0\n",
            "b: 4\n",
            "a: 3.0\n",
            "b: 4\n",
            "a: 81.0\n",
            "b: 4\n",
            "a: 20.0\n",
            "b: 4\n"
          ]
        }
      ]
    },
    {
      "cell_type": "markdown",
      "source": [
        "# **`Arithmetic Operators`**\n",
        "'+' is\tused to add two numbers\tsum = a + b\n",
        "\n",
        "'–'\tis used for subtraction\tdifference = a – b\n",
        "\n",
        "'*'\tused to multiply two numbers. If a string and int is multiplied then the string is repeated the int times.\n",
        "\n",
        "'/'\tused to divide two numbers\tdiv = b/a\n",
        "\n",
        "'%'\tmodulus operator, returns the remainder of division\tmod = a%b\n",
        "\n",
        "'**'\texponent operator, return a rasied to the power of b"
      ],
      "metadata": {
        "id": "DQIEeMIiiBxE"
      }
    },
    {
      "cell_type": "code",
      "source": [
        "#create two variables\n",
        "a=100\n",
        "b=2\n",
        "\n",
        "# addition (+) operator\n",
        "print(a+b)\n",
        "\n",
        "# subtraction (-) operator\n",
        "print(a-b)\n",
        "\n",
        "# multiplication (*) operator\n",
        "print(a*b)\n",
        "\n",
        "# division (/) operator\n",
        "print(b/a)\n",
        "\n",
        "# modulus (%) operator\n",
        "print(a%b) # prints the remainder of a/b\n",
        "\n",
        "# exponent (**) operator\n",
        "print(a**b) #prints a^b"
      ],
      "metadata": {
        "id": "yB1H_ATpiihf",
        "colab": {
          "base_uri": "https://localhost:8080/"
        },
        "outputId": "0298ec29-c520-4af1-a638-e7cc0d1cd1b8"
      },
      "execution_count": null,
      "outputs": [
        {
          "output_type": "stream",
          "name": "stdout",
          "text": [
            "102\n",
            "98\n",
            "200\n",
            "0.02\n",
            "0\n",
            "10000\n"
          ]
        }
      ]
    },
    {
      "cell_type": "markdown",
      "source": [
        "# **`Comparison Operators`**\n",
        "'=='\treturns True if two operands are equal, otherwise False.\n",
        "\n",
        "'!='\treturns True if two operands are not equal, otherwise False.\n",
        "\n",
        "'>'\treturns True if left operand is greater than the right operand, otherwise False.\n",
        "'<'\treturns True if left operand is smaller than the right operand, otherwise False.\n",
        "\n",
        "'>='\treturns True if left operand is greater than or equal to the right operand, otherwise False.\n",
        "\n",
        "'<='\treturns True if left operand is smaller than or equal to the right operand, otherwise False."
      ],
      "metadata": {
        "id": "IzgLNwuuiyYz"
      }
    },
    {
      "cell_type": "code",
      "source": [
        "# create two variables\n",
        "a=100\n",
        "b=200\n",
        "\n",
        "# (==) operator, checks if two operands are equal or not\n",
        "print(a==b)\n",
        "\n",
        "# (!=) operator, checks if two operands are not equal\n",
        "print(a!=b)\n",
        "\n",
        "# (>) operator, checks left operand is greater than right operand or not\n",
        "print(a>b)\n",
        "\n",
        "# (<) operator, checks left operand is less than right operand or not\n",
        "print(a<b)\n",
        "#(>=) operator, checks left operand is greater than or equal to right operand or not\n",
        "print(a>=b)\n",
        "\n",
        "# (<=) operator, checks left operand is less than or equal to right operand or not\n",
        "print(a<=b)"
      ],
      "metadata": {
        "id": "LtOZmqSHkO23",
        "colab": {
          "base_uri": "https://localhost:8080/"
        },
        "outputId": "c1dba624-eac6-417f-fa06-34a9d4c0c735"
      },
      "execution_count": null,
      "outputs": [
        {
          "output_type": "stream",
          "name": "stdout",
          "text": [
            "False\n",
            "True\n",
            "False\n",
            "True\n",
            "False\n",
            "True\n"
          ]
        }
      ]
    },
    {
      "cell_type": "markdown",
      "metadata": {
        "id": "GwqDZnagT3pN"
      },
      "source": [
        "# **`Conditional Statements`**\n",
        "\n",
        "<h2>These are the conditions used basically in if, elif, and else statement</h2>\n",
        "<ul><li>Equals: a == b</li>\n",
        "    <li>Not Equals: a != b</li>\n",
        "    <li>Less than: a < b</li>\n",
        "    <li>Less than or equal to: a <= b</li>\n",
        "<li>Greater than: a > b</li>\n",
        "    <li>Greater than or equal to: a >= b</li></ul>"
      ]
    },
    {
      "cell_type": "code",
      "execution_count": null,
      "metadata": {
        "id": "e-P2ka_lT3pN",
        "outputId": "e45321eb-df71-4569-e5a6-48d2f4b4818c"
      },
      "outputs": [
        {
          "name": "stdout",
          "output_type": "stream",
          "text": [
            "b is greater than a\n"
          ]
        }
      ],
      "source": [
        "# simple if statement\n",
        "a = 100\n",
        "b = 101\n",
        "if b > a:  # observe the ':' after if block\n",
        "  print(\"b is greater than a\")  # Observe the print statment line indentation(4 spaces gap from the line of if block)"
      ]
    },
    {
      "cell_type": "code",
      "execution_count": null,
      "metadata": {
        "id": "FFI5CqV1T3pN",
        "outputId": "6fd330a6-e595-40c5-f632-e6b54ee6896a"
      },
      "outputs": [
        {
          "name": "stdout",
          "output_type": "stream",
          "text": [
            "a is greater than b\n"
          ]
        }
      ],
      "source": [
        "a = 100\n",
        "b = 50\n",
        "if b > a:\n",
        "  print(\"b is greater than a\")\n",
        "elif a == b:                    # elif keyword is pythons way of saying \"if the previous\n",
        "  print(\"a and b are equal\")    # conditions were not true, then try this condition\".\n",
        "\n",
        "else:        # else keyword catches anything which isn't caught by the preceding conditions\n",
        "  print(\"a is greater than b\")"
      ]
    },
    {
      "cell_type": "markdown",
      "metadata": {
        "id": "PFWKyZruT3pO"
      },
      "source": [
        "<h3>Explanation</h3>\n",
        "<ol>\n",
        "<li>First if condition is checked, if it meets the requirement then code under if block is executed.</li>\n",
        "<li>If it fails the requirement of first if condition, then it goes to next condition which is elif.</li>\n",
        "<li>If it meets the requirement of elif condition, it executes code inside elif, otherwise it goes to final else block.</li></ol>"
      ]
    },
    {
      "cell_type": "markdown",
      "source": [
        "# **`Logical Operators`**\n",
        "\n",
        "'and' is\tLogical AND Operator\n",
        "\n",
        "'or' is \tLogical OR Operator\n",
        "'not' is\tLogical NOT Operator"
      ],
      "metadata": {
        "id": "mvjlmUYqmX5-"
      }
    },
    {
      "cell_type": "code",
      "source": [
        "#take user input as int\n",
        "a=int(input())\n",
        "\n",
        "# logical AND operation\n",
        "\n",
        "if a%4==0 and a%3==0:\n",
        "    print(\"divided by both 4 and 3\")\n",
        "\n",
        "# logical OR operation\n",
        "if a%4==0 or a%3==0:\n",
        "    print(\"either divided by 4 or 3\")\n",
        "\n",
        "# logical NOT operation\n",
        "if not(a%4==0 or a%3==0):\n",
        "    print(\"neither divided by 4 nor 3\")"
      ],
      "metadata": {
        "id": "zYFAtjmNm_jw",
        "colab": {
          "base_uri": "https://localhost:8080/"
        },
        "outputId": "e9da3d85-501a-4a6e-cd48-bc8cc264a177"
      },
      "execution_count": null,
      "outputs": [
        {
          "output_type": "stream",
          "name": "stdout",
          "text": [
            "47\n",
            "neither divided by 4 nor 3\n"
          ]
        }
      ]
    },
    {
      "cell_type": "markdown",
      "source": [
        "# **`Python Operators Precedence`**\n",
        "Precedence of these operators means the priority level of operators. This becomes vital when an expression has multiple operators in it.\n",
        "Below is a list of operators indicating the precedence level. It’s in descending order. That means the upper group has more precedence than that of the lower group.\n",
        "\n",
        "Parenthesis – ()\n",
        "\n",
        "Exponentiation – **\n",
        "\n",
        "Compliment, unary plus and minus – ~, +, -\n",
        "\n",
        "Multiply, Divide, modulo – *, /, %\n",
        "\n",
        "Addition and Subtraction – +, -\n",
        "\n",
        "Right and Left Shift – >>, <<\n",
        "\n",
        "Bitwise AND – &\n",
        "\n",
        "Bitwise OR and XOR – |, ^\n",
        "\n",
        "Comparison Operators – ==, !=, >, <, >=, <=\n",
        "\n",
        "Assignment Operator- ="
      ],
      "metadata": {
        "id": "IYBVfr1Oqt6Q"
      }
    },
    {
      "cell_type": "code",
      "source": [
        "print(2**9>>7//8-52+61)"
      ],
      "metadata": {
        "id": "hZ3B7zx1rIKU",
        "colab": {
          "base_uri": "https://localhost:8080/"
        },
        "outputId": "9eacccb6-6c1d-4e4d-d1a6-7a18cdd40b24"
      },
      "execution_count": null,
      "outputs": [
        {
          "output_type": "stream",
          "name": "stdout",
          "text": [
            "1\n"
          ]
        }
      ]
    },
    {
      "cell_type": "markdown",
      "source": [
        "# Identity Operators\n",
        "Identity operators are used to compare the objects, not if they are equal, but if they are actually the same object, with the same memory location:\n",
        "\n",
        "**is**\n",
        "Returns True if both variables are the same object\n",
        "\n",
        "**is not**\n",
        "Returns True if both variables are not the same object\n"
      ],
      "metadata": {
        "id": "wUtEDgqLsw5B"
      }
    },
    {
      "cell_type": "code",
      "source": [
        "a = 20\n",
        "b = 20\n",
        "\n",
        "if ( a is b ):\n",
        "   print (\"Line 1 - a and b have same identity\")\n",
        "else:\n",
        "   print (\"Line 1 - a and b do not have same identity\")\n",
        "b=30\n",
        "if ( a is not b ):\n",
        "   print (\"Line 4 - a and b do not have same identity\")\n",
        "else:\n",
        "   print (\"Line 4 - a and b have same identity\")"
      ],
      "metadata": {
        "id": "3RL3PCD1uKNO",
        "colab": {
          "base_uri": "https://localhost:8080/"
        },
        "outputId": "30d9febb-b30f-4d9b-f856-22c92743b986"
      },
      "execution_count": null,
      "outputs": [
        {
          "output_type": "stream",
          "name": "stdout",
          "text": [
            "Line 1 - a and b have same identity\n",
            "Line 4 - a and b do not have same identity\n"
          ]
        }
      ]
    },
    {
      "cell_type": "markdown",
      "source": [
        "# Membership Operators\n",
        "Membership operators are used to test if a sequence is presented in an object:\n",
        "**in** \tReturns True if a sequence with the specified value is present in the object\n",
        "**not in**\tReturns True if a sequence with the specified value is not present in the object"
      ],
      "metadata": {
        "id": "bhEKg0zH0w3h"
      }
    },
    {
      "cell_type": "code",
      "source": [
        "a = 10\n",
        "b = 20\n",
        "list = [1, 2, 3, 4, 5 ];\n",
        "\n",
        "if ( a in list ):\n",
        "   print (\"Line 1 - a is available in the given list\")\n",
        "else:\n",
        "   print (\"Line 1 - a is not available in the given list\")\n",
        "\n",
        "if ( b not in list ):\n",
        "   print (\"Line 2 - b is not available in the given list\")\n",
        "else:\n",
        "   print (\"Line 2 - b is available in the given list\")\n",
        "\n",
        "a = 2\n",
        "if ( a in list ):\n",
        "   print (\"Line 3 - a is available in the given list\")\n",
        "else:\n",
        "   print (\"Line 3 - a is not available in the given list\")"
      ],
      "metadata": {
        "id": "1dClyJ3M0_SB",
        "colab": {
          "base_uri": "https://localhost:8080/"
        },
        "outputId": "53038345-e576-4ec5-aa64-f1591bbe894f"
      },
      "execution_count": null,
      "outputs": [
        {
          "output_type": "stream",
          "name": "stdout",
          "text": [
            "Line 1 - a is not available in the given list\n",
            "Line 2 - b is not available in the given list\n",
            "Line 3 - a is available in the given list\n"
          ]
        }
      ]
    },
    {
      "cell_type": "markdown",
      "source": [
        "# Ternary Operator\n",
        "Ternary operators in Python are terse conditional expressions. These are operators that test a condition and based on that, evaluate a value."
      ],
      "metadata": {
        "id": "TjauZh2U3JpN"
      }
    },
    {
      "cell_type": "code",
      "source": [
        "a,b=2,3\n",
        "print(\"a\" if a>b else \"b\")"
      ],
      "metadata": {
        "id": "6FMTHSVw3Qaj",
        "colab": {
          "base_uri": "https://localhost:8080/"
        },
        "outputId": "6d4a68df-1e88-4f97-a88b-4ceb286fac37"
      },
      "execution_count": null,
      "outputs": [
        {
          "output_type": "stream",
          "name": "stdout",
          "text": [
            "b\n"
          ]
        }
      ]
    },
    {
      "cell_type": "markdown",
      "source": [
        "# What is String in Python?\n",
        "A string is a sequence of characters.\n",
        "\n",
        "A character is simply a symbol. For example, the English language has 26 characters.\n",
        "\n",
        "Computers do not deal with characters, they deal with numbers (binary). Even though you may see characters on your screen, internally it is stored and manipulated as a combination of 0s and 1s.\n",
        "\n",
        "This conversion of character to a number is called encoding, and the reverse process is decoding. ASCII and Unicode are some of the popular encodings used.\n",
        "\n",
        "In Python, a string is a sequence of Unicode characters. Unicode was introduced to include every character in all languages and bring uniformity in encoding. You can learn about Unicode from Python Unicode.\n",
        "\n"
      ],
      "metadata": {
        "id": "OUUi_AUs3luh"
      }
    },
    {
      "cell_type": "markdown",
      "source": [
        "#How to create a string in Python?\n",
        "Strings can be created by enclosing characters inside a single quote or double-quotes. Even triple quotes can be used in Python but generally used to represent multiline strings and docstrings."
      ],
      "metadata": {
        "id": "0NG4S9NN3wFh"
      }
    },
    {
      "cell_type": "code",
      "source": [
        "# defining strings in Python\n",
        "# all of the following are equivalent\n",
        "my_string = 'Hello'\n",
        "print(my_string)\n",
        "\n",
        "my_string = \"Hello\"\n",
        "print(my_string)\n",
        "\n",
        "my_string = '''Hello'''\n",
        "print(my_string)\n",
        "\n",
        "# triple quotes string can extend multiple lines\n",
        "my_string = \"\"\"Hello, welcome to\n",
        "           the world of Python\"\"\"\n",
        "print(my_string)"
      ],
      "metadata": {
        "id": "S6o3zyfs305M",
        "colab": {
          "base_uri": "https://localhost:8080/"
        },
        "outputId": "499b3b58-e999-4076-dd1e-f36e40a1da8f"
      },
      "execution_count": null,
      "outputs": [
        {
          "output_type": "stream",
          "name": "stdout",
          "text": [
            "Hello\n",
            "Hello\n",
            "Hello\n",
            "Hello, welcome to\n",
            "           the world of Python\n"
          ]
        }
      ]
    },
    {
      "cell_type": "markdown",
      "source": [
        "#How to access characters in a string?\n",
        "We can access individual characters using indexing and a range of characters using slicing. Index starts from 0. Trying to access a character out of index range will raise an IndexError. The index must be an integer. We can't use floats or other types, this will result into TypeError.\n",
        "\n",
        "Python allows negative indexing for its sequences.\n",
        "\n",
        "The index of -1 refers to the last item, -2 to the second last item and so on. We can access a range of items in a string by using the slicing operator :(colon)."
      ],
      "metadata": {
        "id": "34DsJcpU35OL"
      }
    },
    {
      "cell_type": "code",
      "source": [
        "#Accessing string characters in Python\n",
        "str = 'CloudyML'\n",
        "print('str = ', str)\n",
        "\n",
        "#first character\n",
        "print('str[0] = ', str[0])\n",
        "\n",
        "#last character\n",
        "print('str[-1] = ', str[-1])\n",
        "\n",
        "#slicing 2nd to 5th character\n",
        "print('str[1:5] = ', str[1:5])\n",
        "\n",
        "#slicing 6th to 2nd last character\n",
        "print('str[5:-2] = ', str[5:-2])"
      ],
      "metadata": {
        "id": "8JB4wVrt37XY",
        "colab": {
          "base_uri": "https://localhost:8080/"
        },
        "outputId": "3ac4d717-d0e5-4650-f08e-8c04c1b02829"
      },
      "execution_count": null,
      "outputs": [
        {
          "output_type": "stream",
          "name": "stdout",
          "text": [
            "str =  CloudyML\n",
            "str[0] =  C\n",
            "str[-1] =  L\n",
            "str[1:5] =  loud\n",
            "str[5:-2] =  y\n"
          ]
        }
      ]
    },
    {
      "cell_type": "markdown",
      "source": [
        "#Python String Methods\n",
        "**capitalize()** Converts the first character to upper case\n",
        "\n",
        "**casefold()**\tConverts string into lower case\n",
        "\n",
        "**center()**\tReturns a centered string\n",
        "\n",
        "**count()**\tReturns the number of times a specified value occurs in a string\n",
        "\n",
        "**encode()**\tReturns an encoded version of the string\n",
        "\n",
        "**endswith()**\tReturns true if the string ends with the specified value\n",
        "\n",
        "**expandtabs()**\tSets the tab size of the string\n",
        "\n",
        "**find()**\tSearches the string for a specified value and returns the position of where it was found\n",
        "\n",
        "**format()**\tFormats specified values in a string\n",
        "\n",
        "**format_map()**\tFormats specified values in a string\n",
        "\n",
        "**index()**\tSearches the string for a specified value and returns the position of where it was found\n",
        "\n",
        "**isalnum()**\tReturns True if all characters in the string are alphanumeric\n",
        "\n",
        "**isalpha()**\tReturns True if all characters in the string are in the alphabet\n",
        "\n",
        "**isascii()**\tReturns True if all characters in the string are ascii characters\n",
        "\n",
        "**isdecimal()**\tReturns True if all characters in the string are decimals\n",
        "\n",
        "**isdigit()**\tReturns True if all characters in the string are digits\n",
        "\n",
        "**isidentifier()**\tReturns True if the string is an identifier\n",
        "\n",
        "**islower()**\tReturns True if all characters in the string are lower case\n",
        "\n",
        "**isnumeric()**\tReturns True if all characters in the string are numeric\n",
        "\n",
        "**isprintable()**\tReturns True if all characters in the string are printable\n",
        "\n",
        "**isspace()**\tReturns True if all characters in the string are whitespaces\n",
        "\n",
        "**istitle()**\tReturns True if the string follows the rules of a title\n",
        "\n",
        "**isupper()**\tReturns True if all characters in the string are upper case\n",
        "\n",
        "**join()**\tConverts the elements of an iterable into a string\n",
        "\n",
        "**ljust()**\tReturns a left justified version of the string\n",
        "\n",
        "**lower()**\tConverts a string into lower case\n",
        "\n",
        "**lstrip()**\tReturns a left trim version of the string\n",
        "\n",
        "**maketrans()**\tReturns a translation table to be used in translations\n",
        "\n",
        "**partition()**\tReturns a tuple where the string is parted into three parts\n",
        "\n",
        "**replace()**\tReturns a string where a specified value is replaced with a specified value\n",
        "\n",
        "**rfind()**\tSearches the string for a specified value and returns the last position of where it was found\n",
        "\n",
        "**rindex()**\tSearches the string for a specified value and returns the last position of where it was found\n",
        "\n",
        "**rjust()**\tReturns a right justified version of the string\n",
        "\n",
        "**rpartition()**\tReturns a tuple where the string is parted into three parts\n",
        "\n",
        "**rsplit()**\tSplits the string at the specified separator, and returns a list\n",
        "\n",
        "**rstrip()**\tReturns a right trim version of the string\n",
        "\n",
        "**split()**\tSplits the string at the specified separator, and returns a list\n",
        "\n",
        "**splitlines()**\tSplits the string at line breaks and returns a list\n",
        "\n",
        "**startswith()**\tReturns true if the string starts with the specified value\n",
        "\n",
        "**strip()**\tReturns a trimmed version of the string\n",
        "\n",
        "**swapcase()**\tSwaps cases, lower case becomes upper case and vice versa\n",
        "\n",
        "**title()**\tConverts the first character of each word to upper case\n",
        "\n",
        "**translate()**\tReturns a translated string\n",
        "\n",
        "**upper()**\tConverts a string into upper case\n",
        "\n",
        "**zfill()**\tFills the string with a specified number of 0 values at the beginning"
      ],
      "metadata": {
        "id": "t05gJwf44WxY"
      }
    },
    {
      "cell_type": "code",
      "source": [
        "mystring = 'Hi there'\n",
        "print(mystring.capitalize())      #converting the first character of the string into uppercase\n",
        "print(mystring.casefold())        #converts the string into lowercase\n",
        "\n",
        "print(\"------------\")\n",
        "\n",
        "s = \"heLLo BuDdY\"\n",
        "s2 = s.lower()          #converts the string into lowercase\n",
        "print(s2)\n",
        "\n",
        "print(\"------------\")\n",
        "\n",
        "s = \"heLLo BuDdY\"\n",
        "s2 = s.upper()            #converts the string into uppercase\n",
        "print(s2)\n",
        "\n",
        "print(\"------------\")\n",
        "\n",
        "s = \"heLLo BuDdY\"\n",
        "s2 = s.title()          #converts first letter of each word of the string to uppercase\n",
        "print(s2)\n",
        "\n",
        "print(\"------------\")\n",
        "\n",
        "s = \"heLLo BuDdY\"\n",
        "s2 = s.swapcase()    #swap uppercase to lowercase and vice versa\n",
        "print(s2)\n",
        "\n",
        "print(\"------------\")\n",
        "\n",
        "s = \"Tech50\"\n",
        "print(s.isalnum())     #return True if all the characters of the string are alphanumeric\n",
        "s = \"Tech\"\n",
        "print(s.isalnum())\n",
        "s = \"678\"\n",
        "print(s.isalnum())\n",
        "\n",
        "print(\"------------\")\n",
        "\n",
        "s1 = \"Techvidvan\"\n",
        "s2 = \"Tech50\"\n",
        "print(s1.isalpha())           #returns True if all characters in the string are alphabet\n",
        "print(s2.isalpha())\n",
        "\n",
        "print(\"------------\")\n",
        "\n",
        "s1 = \"Tech50\"\n",
        "s2 = \"56748\"\n",
        "print(s1.isdigit())\n",
        "print(s2.isdigit())         #returns True if all characters in the string are digits\n",
        "\n",
        "print(\"------------\")\n",
        "\n",
        "mystring = \"Python\"\n",
        "print(mystring.find(\"P\"))\n",
        "print(mystring.find(\"on\"))      #sQearches the string for THE specified value and returns the position of where it is found"
      ],
      "metadata": {
        "id": "NOc4JIIS6WH6",
        "colab": {
          "base_uri": "https://localhost:8080/"
        },
        "outputId": "efafac2e-291a-41c4-ecef-359ba3500209"
      },
      "execution_count": null,
      "outputs": [
        {
          "output_type": "stream",
          "name": "stdout",
          "text": [
            "Hi there\n",
            "hi there\n",
            "------------\n",
            "hello buddy\n",
            "------------\n",
            "HELLO BUDDY\n",
            "------------\n",
            "Hello Buddy\n",
            "------------\n",
            "HEllO bUdDy\n",
            "------------\n",
            "True\n",
            "True\n",
            "True\n",
            "------------\n",
            "True\n",
            "False\n",
            "------------\n",
            "False\n",
            "True\n",
            "------------\n",
            "0\n",
            "4\n"
          ]
        }
      ]
    },
    {
      "cell_type": "markdown",
      "source": [
        "# Escape Characters in Python\n",
        "\n",
        "To insert characters that are illegal in a string, use an escape character.\n",
        "\n",
        "An escape character is a backslash \\ followed by the character you want to insert.\n",
        "\n",
        "An example of an illegal character is a double quote inside a string that is surrounded by double quotes:"
      ],
      "metadata": {
        "id": "DvHcm4BC7fwp"
      }
    },
    {
      "cell_type": "code",
      "source": [
        "txt = \"We are the so-called \\\"Vikings\\\" from the north.\"\n",
        "print(txt)"
      ],
      "metadata": {
        "id": "qOP8NnMA7xbr",
        "colab": {
          "base_uri": "https://localhost:8080/"
        },
        "outputId": "bd7972a4-0861-4df7-a76d-3eaddc869782"
      },
      "execution_count": null,
      "outputs": [
        {
          "output_type": "stream",
          "name": "stdout",
          "text": [
            "We are the so-called \"Vikings\" from the north.\n"
          ]
        }
      ]
    },
    {
      "cell_type": "markdown",
      "source": [
        "Other escape characters used in Python:\n",
        "\n",
        "\n",
        "\\' -Single Quote\n",
        "\\\\ -\tBackslash\n",
        "\\n -\tNew Line\n",
        "\\r -\tCarriage Return\n",
        "\\t -\tTab\n",
        "\\b -\tBackspace\n",
        "\\f -\tForm Feed\n",
        "\\ooo -\tOctal value\n",
        "\\xhh -\tHex value"
      ],
      "metadata": {
        "id": "D9odFd1_76Zp"
      }
    },
    {
      "cell_type": "code",
      "source": [
        "# single quote escape character\n",
        "x = 'hello\\'world'\n",
        "print(x)\n",
        "\n",
        "print(\"------------\")\n",
        "\n",
        "# double quote escape character\n",
        "x = \"hello\\\"world\"\n",
        "print(x)\n",
        "\n",
        "print(\"------------\")\n",
        "\n",
        "# backslash escape character\n",
        "x = 'hello\\\\world'\n",
        "print(x)\n",
        "\n",
        "print(\"------------\")\n",
        "\n",
        "# newline escape character\n",
        "x = 'hello\\nworld'\n",
        "print(x)\n",
        "\n",
        "print(\"------------\")\n",
        "\n",
        "# carriage return escape character\n",
        "x = 'hello\\rworld'\n",
        "print(x)\n",
        "\n",
        "print(\"------------\")\n",
        "\n",
        "# tab escape character\n",
        "x = 'hello\\tworld'\n",
        "print(x)\n",
        "\n",
        "print(\"------------\")\n",
        "\n",
        "# backspace escape character\n",
        "x = 'hello\\bworld'\n",
        "print(x)\n",
        "\n",
        "print(\"------------\")\n",
        "\n",
        "# form feed escape character\n",
        "x = 'hello\\fworld'\n",
        "print(x)\n",
        "\n",
        "print(\"------------\")\n",
        "\n",
        "# octal value escape character\n",
        "x = '\\101\\102\\103'\n",
        "print(x)\n",
        "\n",
        "print(\"------------\")\n",
        "\n",
        "# hex value escape character\n",
        "x = '\\x41\\x42\\x43'\n",
        "print(x)"
      ],
      "metadata": {
        "id": "MQiXWV1T8ZSz",
        "colab": {
          "base_uri": "https://localhost:8080/"
        },
        "outputId": "9943c138-9b77-4a26-d567-9d36e860c45f"
      },
      "execution_count": null,
      "outputs": [
        {
          "output_type": "stream",
          "name": "stdout",
          "text": [
            "hello'world\n",
            "------------\n",
            "hello\"world\n",
            "------------\n",
            "hello\\world\n",
            "------------\n",
            "hello\n",
            "world\n",
            "------------\n",
            "world\n",
            "------------\n",
            "hello\tworld\n",
            "------------\n",
            "hello\bworld\n",
            "------------\n",
            "hello\fworld\n",
            "------------\n",
            "ABC\n",
            "------------\n",
            "ABC\n"
          ]
        }
      ]
    },
    {
      "cell_type": "markdown",
      "source": [
        "## String characters & slicing\n",
        "\n",
        "You can return a range of characters by using the slice syntax.\n",
        "\n",
        "Specify the start index and the end index, separated by a colon, to return a part of the string\n",
        "\n",
        "Syntax:\n",
        "string[start:stop]         - items start through stop-1\n",
        "\n",
        "string[start:]             - items start through the rest of the array\n",
        "\n",
        "string[:stop]              - items from the beginning through stop-1\n",
        "\n",
        "string[:]                  - a copy of the whole array\n",
        "\n",
        "string[start:stop:step]    - start through not past stop, by step"
      ],
      "metadata": {
        "id": "fJ0Krlv-8dkO"
      }
    },
    {
      "cell_type": "code",
      "source": [
        "b = \"Hello, World!\"\n",
        "print(b[1:8])\n",
        "\n",
        "print(\"-----------\")\n",
        "\n",
        "# omit first or last index\n",
        "print(b[:7])\n",
        "print(b[5:])\n",
        "\n",
        "print(\"------------\")\n",
        "\n",
        "# omit both index\n",
        "print(b[:])\n",
        "\n",
        "print(\"------------\")\n",
        "\n",
        "# using negative index\n",
        "print(b[-5:-9])\n",
        "print(b[::-5])\n",
        "\n",
        "print(\"------------\")\n",
        "\n",
        "# slicing with step\n",
        "\n",
        "print(b[0:8:3])\n",
        "print(b[0::3])\n",
        "print(b[:8:3])\n",
        "print(b[::-1])"
      ],
      "metadata": {
        "id": "mEa-nJwxv6RM",
        "colab": {
          "base_uri": "https://localhost:8080/"
        },
        "outputId": "fd393f3f-b0ab-46ef-db4a-933ffbe64907"
      },
      "execution_count": null,
      "outputs": [
        {
          "output_type": "stream",
          "name": "stdout",
          "text": [
            "ello, W\n",
            "-----------\n",
            "Hello, \n",
            ", World!\n",
            "------------\n",
            "Hello, World!\n",
            "------------\n",
            "\n",
            "!Wl\n",
            "------------\n",
            "Hl \n",
            "Hl r!\n",
            "Hl \n",
            "!dlroW ,olleH\n"
          ]
        }
      ]
    },
    {
      "cell_type": "markdown",
      "source": [
        "# Booleans in Python\n",
        "The Python Boolean type is one of Python’s built-in data types. It’s used to represent the truth value of an expression. For example, the expression 1 <= 2 is True, while the expression 0 == 1 is False. Understanding how Python Boolean values behave is important to programming well in Python.\n",
        "\n",
        "The Python Boolean type has only two possible values:\n",
        "\n",
        "* True\n",
        "* False\n",
        "\n",
        "\n"
      ],
      "metadata": {
        "id": "MdZdQIVG3Enc"
      }
    },
    {
      "cell_type": "code",
      "source": [
        "print(type(False))\n",
        "print(type(True))"
      ],
      "metadata": {
        "id": "1_iO-PLDSteY",
        "colab": {
          "base_uri": "https://localhost:8080/"
        },
        "outputId": "01405be2-7d78-4c8f-93e7-8a6ba9cb2e5c"
      },
      "execution_count": null,
      "outputs": [
        {
          "output_type": "stream",
          "name": "stdout",
          "text": [
            "<class 'bool'>\n",
            "<class 'bool'>\n"
          ]
        }
      ]
    },
    {
      "cell_type": "markdown",
      "source": [
        "# Python Booleans as Keywords\n",
        "Built-in names aren’t keywords. As far as the Python language is concerned, they’re regular variables. If you assign to them, then you’ll override the built-in value.\n",
        "\n",
        "In contrast, the names True and False are not built-ins. They’re keywords. Unlike many other Python keywords, True and False are Python expressions. Since they’re expressions, they can be used wherever other expressions, like 1 + 1, can be used.\n",
        "\n",
        "It’s possible to assign a Boolean value to variables, but it’s not possible to assign a value to True:"
      ],
      "metadata": {
        "id": "DtspjYiFS8kC"
      }
    },
    {
      "cell_type": "code",
      "source": [
        "a_true_alias=True\n",
        "print(a_true_alias)"
      ],
      "metadata": {
        "id": "WWEmMcaITEgL",
        "colab": {
          "base_uri": "https://localhost:8080/"
        },
        "outputId": "ed064e58-9587-45f7-b969-b30a9db27ed7"
      },
      "execution_count": null,
      "outputs": [
        {
          "output_type": "stream",
          "name": "stdout",
          "text": [
            "True\n"
          ]
        }
      ]
    },
    {
      "cell_type": "markdown",
      "source": [
        "But, True = 5 will throw an error like this:\n",
        "\n",
        "SyntaxError: cannot assign to True\n",
        "\n",
        "Because True is a keyword, you can’t assign a value to it. The same rule applies to False"
      ],
      "metadata": {
        "id": "qvIQ20Q0TMrf"
      }
    },
    {
      "cell_type": "markdown",
      "source": [
        "# Python Booleans as Numbers\n",
        "\n",
        "Booleans are considered a numeric type in Python. This means they’re numbers for all intents and purposes. In other words, you can apply arithmetic operations to Booleans, and you can also compare them to numbers:\n"
      ],
      "metadata": {
        "id": "JhsjmT8fydSb"
      }
    },
    {
      "cell_type": "code",
      "source": [
        "print(True == 1)\n",
        "print(False == 0)\n",
        "print(True + False//True)\n"
      ],
      "metadata": {
        "id": "D5RhFIxgyhGA",
        "colab": {
          "base_uri": "https://localhost:8080/"
        },
        "outputId": "3b9c4e2b-cff0-4793-81dc-bbf3360fbaf2"
      },
      "execution_count": null,
      "outputs": [
        {
          "output_type": "stream",
          "name": "stdout",
          "text": [
            "True\n",
            "True\n",
            "1\n"
          ]
        }
      ]
    },
    {
      "cell_type": "markdown",
      "source": [
        "# Number datatypes in Python\n",
        "There are three distinct numeric types: **integers**, **floating point numbers**, and **complex numbers**\n",
        "The constructors **int()**, **float()**, and **complex()** can be used to produce numbers of a specific\n",
        "\n",
        "***Integers***\n",
        "An integer is a whole number with no decimal places. For example, 1 is an integer, but 1.0 isn’t. The name for the integer data type is int, which you can see with type() function.\n",
        "\n",
        "You can create an integer by typing the desired number. For instance, the following assigns the integer 25 to the variable num.\n",
        "\n",
        "You may already be familiar with how to convert a string containing an integer to a number using int(). For example, the following converts the string \"25\" to the integer 25"
      ],
      "metadata": {
        "id": "an2XwnvVwhJs"
      }
    },
    {
      "cell_type": "code",
      "source": [
        "print(type(1))\n",
        "num=25\n",
        "print(num)\n",
        "print(int(\"25\"))"
      ],
      "metadata": {
        "id": "3t7Oy6xLxgPi",
        "colab": {
          "base_uri": "https://localhost:8080/"
        },
        "outputId": "882314be-32e3-411a-ae29-d4ac57261660"
      },
      "execution_count": null,
      "outputs": [
        {
          "output_type": "stream",
          "name": "stdout",
          "text": [
            "<class 'int'>\n",
            "25\n",
            "25\n"
          ]
        }
      ]
    },
    {
      "cell_type": "markdown",
      "source": [
        "When you write large numbers by hand, you typically group digits into groups of three separated by a comma or a decimal point. The number 1,000,000 is a lot easier to read than 1000000.\n",
        "\n",
        "In Python, you can’t use commas to group digits in integer literals, but you can use underscores (_). Both of the following are valid ways to represent the number one million as an integer literal."
      ],
      "metadata": {
        "id": "HNcrcFByyCr4"
      }
    },
    {
      "cell_type": "code",
      "source": [
        "num=1000000\n",
        "num1=1_000_000\n",
        "print(num,\" \",num1)"
      ],
      "metadata": {
        "id": "4vLUfDy5yEXt",
        "colab": {
          "base_uri": "https://localhost:8080/"
        },
        "outputId": "d9e4d951-42e8-4c83-c79a-22fe7cc6d210"
      },
      "execution_count": null,
      "outputs": [
        {
          "output_type": "stream",
          "name": "stdout",
          "text": [
            "1000000   1000000\n"
          ]
        }
      ]
    },
    {
      "cell_type": "markdown",
      "source": [
        "***Floating-Point Numbers***\n",
        "A floating-point number, or float for short, is a number with a decimal place. 1.0 is a floating-point number, as is -2.75. The name of the floating-point data type is float.\n",
        "\n",
        "Like integers, floats can be created from floating-point literals or by converting a string to a float with float().\n",
        "\n",
        "There are three ways to represent a floating-point literal. Each of the following creates a floating-point literal with a value of one million.\n",
        "\n",
        "The first two ways are similar to the two techniques for creating integer literals. The third approach uses E notation to create a float literal.\n",
        "\n",
        "To write a float literal in E notation, type a number followed by the letter e and then another number. Python takes the number to the left of the e and multiplies it by 10 raised to the power of the number after the e. So 1e6 is equivalent to 1×10⁶.\n",
        "\n",
        "The float 200000000000000000.0 gets displayed as 2e+17. The + sign indicates that the exponent 17 is a positive number. You can also use negative numbers as the exponent."
      ],
      "metadata": {
        "id": "BhVN4JlEyXeb"
      }
    },
    {
      "cell_type": "code",
      "source": [
        "print(type(1.0))\n",
        "print(float(\"1.25\"))\n",
        "f_num=1000000\n",
        "f_num1=1_000_000\n",
        "f_num2= 1e6       #positive number as exponent\n",
        "f_num3 = 1e-4     #negative numbers as exponent\n",
        "print(f_num)\n",
        "print(f_num1)\n",
        "print(f_num2)"
      ],
      "metadata": {
        "id": "g7SX4WxWzQPW",
        "colab": {
          "base_uri": "https://localhost:8080/"
        },
        "outputId": "33b72a7d-0205-4d10-98d6-7103a39fd791"
      },
      "execution_count": null,
      "outputs": [
        {
          "output_type": "stream",
          "name": "stdout",
          "text": [
            "<class 'float'>\n",
            "1.25\n",
            "1000000\n",
            "1000000\n",
            "1000000.0\n"
          ]
        }
      ]
    },
    {
      "cell_type": "markdown",
      "source": [
        "***Complex Numbers***\n",
        "Python is one of the few programming languages that provides built-in support for complex numbers. While complex numbers don’t often come up outside the domains of scientific computing and computer graphics, Python’s support for them is one of its strengths.\n",
        "\n",
        "If you’ve ever taken a precalculus or higher-level algebra math class, then you may remember that a complex number is a number with two distinct components: a real part and an imaginary part.\n",
        "\n",
        "To create a complex number in Python, you simply write the real part, then a plus sign, then the imaginary part with the letter j at the end.\n",
        "\n",
        "When you inspect the value of n, you’ll notice that Python wraps the number with parentheses.\n",
        "\n",
        "This convention helps eliminate any confusion that the displayed output may represent a string or a mathematical expression.\n",
        "\n",
        "Imaginary numbers come with two properties, .real and .imag, that return the real and imaginary components of the number, respectively.\n",
        "\n",
        "Notice that Python returns both the real and imaginary components as floats, even though they were specified as integers.\n",
        "\n",
        "Complex numbers also have a .conjugate() method that returns the complex conjugate of the number.\n",
        "\n",
        "For any complex number, its conjugate is the complex number with the same real part and an imaginary part that is the same in absolute value but with the opposite sign. So in this case, the complex conjugate of 1 + 2j is 1 - 2j.\n",
        "\n",
        "Except for the floor division operator (//), all the arithmetic operators that work with floats and integers will also work with complex numbers. Instead, here are some examples of using complex numbers with arithmetic operators."
      ],
      "metadata": {
        "id": "DrMPjGrg10HT"
      }
    },
    {
      "cell_type": "code",
      "source": [
        "n=1 +2j\n",
        "print(n)\n",
        "\n",
        "print(n.real)\n",
        "print(n.imag)\n",
        "\n",
        "print(n.conjugate)\n",
        "\n",
        "a=1+2j\n",
        "b=3-4j\n",
        "print(a+b)\n",
        "print(a-b)\n",
        "print(a*b)\n",
        "print(a**b)\n",
        "print(a/b)"
      ],
      "metadata": {
        "id": "GQYmK9Bs2KWu",
        "colab": {
          "base_uri": "https://localhost:8080/"
        },
        "outputId": "ecc16874-8357-4ec4-b1e7-903c654571e4"
      },
      "execution_count": null,
      "outputs": [
        {
          "output_type": "stream",
          "name": "stdout",
          "text": [
            "(1+2j)\n",
            "1.0\n",
            "2.0\n",
            "<built-in method conjugate of complex object at 0x7f2f43b4b810>\n",
            "(4-2j)\n",
            "(-2+6j)\n",
            "(11+2j)\n",
            "(932.1391946432212+95.9465336603415j)\n",
            "(-0.2+0.4j)\n"
          ]
        }
      ]
    },
    {
      "cell_type": "code",
      "source": [
        "print(a//b)"
      ],
      "metadata": {
        "id": "wPk2ma-rRhGV",
        "colab": {
          "base_uri": "https://localhost:8080/",
          "height": 165
        },
        "outputId": "06381c7f-83a6-44aa-a487-5f1c2fc14280"
      },
      "execution_count": null,
      "outputs": [
        {
          "output_type": "error",
          "ename": "TypeError",
          "evalue": "ignored",
          "traceback": [
            "\u001b[0;31m---------------------------------------------------------------------------\u001b[0m",
            "\u001b[0;31mTypeError\u001b[0m                                 Traceback (most recent call last)",
            "\u001b[0;32m<ipython-input-35-1133a5709cb6>\u001b[0m in \u001b[0;36m<module>\u001b[0;34m\u001b[0m\n\u001b[0;32m----> 1\u001b[0;31m \u001b[0mprint\u001b[0m\u001b[0;34m(\u001b[0m\u001b[0ma\u001b[0m\u001b[0;34m//\u001b[0m\u001b[0mb\u001b[0m\u001b[0;34m)\u001b[0m\u001b[0;34m\u001b[0m\u001b[0;34m\u001b[0m\u001b[0m\n\u001b[0m",
            "\u001b[0;31mTypeError\u001b[0m: can't take floor of complex number."
          ]
        }
      ]
    },
    {
      "cell_type": "code",
      "source": [
        "x=34\n",
        "print(x.real)\n",
        "print(x.imag)\n",
        "print(x.conjugate)\n",
        "\n",
        "y=3.14\n",
        "print(y.real)\n",
        "print(y.imag)\n",
        "print(y.conjugate)"
      ],
      "metadata": {
        "id": "dTbI4iLA4YMb",
        "colab": {
          "base_uri": "https://localhost:8080/"
        },
        "outputId": "1739d50c-583a-4ad7-c06c-4b600160e564"
      },
      "execution_count": null,
      "outputs": [
        {
          "output_type": "stream",
          "name": "stdout",
          "text": [
            "34\n",
            "0\n",
            "<built-in method conjugate of int object at 0xa9bbc0>\n",
            "3.14\n",
            "0.0\n",
            "<built-in method conjugate of float object at 0x7f2f476e5c90>\n"
          ]
        }
      ]
    },
    {
      "cell_type": "markdown",
      "source": [
        "## Built-in Functions in Python\n",
        "\n",
        "Python has a total of 65+ built-in functions. Link to the documentation-https://docs.python.org/3/library/functions.html\n",
        "\n",
        "Commonly used built-in functions are given below:\n",
        "\n",
        "* **Python abs()**\n",
        "returns absolute value of a number\n",
        "* **Python any()**\n",
        "Checks if any Element of an Iterable is True\n",
        "* **Python bool()**\n",
        "Converts a Value to Boolean\n",
        "* **Python chr()**\n",
        "Returns a Character (a string) from an Integer\n",
        "* **Python dict()**\n",
        "Creates a Dictionary\n",
        "* **Python format()**\n",
        "returns formatted representation of a value\n",
        "* **Python id()**\n",
        "Returns Identify of an Object\n",
        "* **Python len()**\n",
        "Returns Length of an Object\n",
        "* **Python max()**\n",
        "returns the largest item\n",
        "* **Python min()**\n",
        "returns the smallest item\n",
        "* **Python ord()**\n",
        "returns an integer of the Unicode character\n",
        "* **Python pow()**\n",
        "returns the power of a number\n",
        "* **Python reversed()**\n",
        "returns the reversed iterator of a sequence\n",
        "* **Python round()**\n",
        "rounds a number to specified decimals\n",
        "* **Python set()**\n",
        "constructs and returns a set\n",
        "* **Python slice()**\n",
        "returns a slice object\n",
        "* **Python sorted()**\n",
        "returns a sorted list from the given iterable\n",
        "* **Python str()**\n",
        "returns the string version of the object\n",
        "* **Python sum()**\n",
        "Adds items of an Iterable\n",
        "* **Python tuple()**\n",
        "Returns a tuple\n",
        "* **Python type()**\n",
        "Returns the type of the object"
      ],
      "metadata": {
        "id": "pc6L7DT_5I7M"
      }
    },
    {
      "cell_type": "markdown",
      "source": [
        "# Taking User input\n",
        "input() method is used to take user input in python\n"
      ],
      "metadata": {
        "id": "n1nRkmaO-qUR"
      }
    },
    {
      "cell_type": "code",
      "source": [
        "username = input(\"Enter username:\")\n",
        "print(\"Username is: \" + username)"
      ],
      "metadata": {
        "id": "Sn0w1lotBuDN",
        "colab": {
          "base_uri": "https://localhost:8080/"
        },
        "outputId": "778b4c25-0ff8-4743-d604-768cab0b31da"
      },
      "execution_count": null,
      "outputs": [
        {
          "output_type": "stream",
          "name": "stdout",
          "text": [
            "Enter username:Taylor\n",
            "Username is: Taylor\n"
          ]
        }
      ]
    },
    {
      "cell_type": "code",
      "source": [
        "# Python program showing use of input()\n",
        "name = input(\"Enter your name: \")  # String Input\n",
        "age = int(input(\"Enter your age: \")) # Integer Input\n",
        "marks = float(input(\"Enter your marks: \")) # Float Input\n",
        "print(\"The name is:\", name)\n",
        "print(\"The age is:\", age)\n",
        "print(\"The marks is:\", marks)\n",
        "#By default, the input() function takes input as a string so\n",
        "# if we need to enter the integer or float type input then the input() function must be type casted."
      ],
      "metadata": {
        "id": "GekU0dx00Lkk",
        "colab": {
          "base_uri": "https://localhost:8080/"
        },
        "outputId": "59dad655-ad42-4a45-8c4d-868a6ec6379e"
      },
      "execution_count": null,
      "outputs": [
        {
          "output_type": "stream",
          "name": "stdout",
          "text": [
            "Enter your name: Taylor\n",
            "Enter your age: 56\n",
            "Enter your marks: 23.65\n",
            "The name is: Taylor\n",
            "The age is: 56\n",
            "The marks is: 23.65\n"
          ]
        }
      ]
    },
    {
      "cell_type": "markdown",
      "source": [
        "# Loops in python\n",
        "In general, statements are executed sequentially: The first statement in a function is executed first, followed by the second, and so on. There may be a situation when you need to execute a block of code several number of times.\n",
        "\n",
        "Programming languages provide various control structures that allow for more complicated execution paths.\n",
        "\n",
        "A loop statement allows us to execute a statement or group of statements multiple times.\n",
        "\n",
        "Python programming language provides following types of loops to handle looping requirements.\n",
        "\n",
        "\n",
        "*\t***while loop***\n",
        "repeats a statement or group of statements while a given condition is TRUE. It tests the condition before executing the loop body."
      ],
      "metadata": {
        "id": "pd98MZlT1Bn8"
      }
    },
    {
      "cell_type": "code",
      "source": [
        "print(\"use of while loop\")\n",
        "count = 0\n",
        "while (count < 3):\n",
        "    count = count + 1\n",
        "    print(\"CloudyML\")"
      ],
      "metadata": {
        "id": "sWVfJMWy6MJr",
        "colab": {
          "base_uri": "https://localhost:8080/"
        },
        "outputId": "4a209fba-e7ea-40f7-b5f9-18e5c499ad3b"
      },
      "execution_count": null,
      "outputs": [
        {
          "output_type": "stream",
          "name": "stdout",
          "text": [
            "use of while loop\n",
            "CloudyML\n",
            "CloudyML\n",
            "CloudyML\n"
          ]
        }
      ]
    },
    {
      "cell_type": "markdown",
      "source": [
        "# Range function in Python\n",
        "\n",
        "Before learning FOR loop, we need to understand range() function in python and its significance in for loop.\n",
        "\n",
        "The range() function returns a sequence of numbers, starting from 0 by default, and increments by 1 (by default), and stops before a specified number.\n",
        "\n",
        "**SYNTAX**:\n",
        "\n",
        "range(start, stop, step)\n",
        "\n",
        "where\n",
        "\n",
        "**start** is optional. It is an integer number specifying at which position to start. Default value is 0.\n",
        "\n",
        "**stop** is\trequired. It is an integer number specifying at which position to stop (not included).\n",
        "\n",
        "**step** is also optional. It is an integer number specifying the incrementation. Default value is 1."
      ],
      "metadata": {
        "id": "fzRvGvg56YUC"
      }
    },
    {
      "cell_type": "code",
      "source": [
        "x = range(3, 6)\n",
        "for n in x:\n",
        "  print(n)\n",
        "\n",
        "print(\"---------------\")\n",
        "\n",
        "y = range(3, 20, 2)\n",
        "for n in y:\n",
        "  print(n)\n",
        "\n",
        "print(\"---------------\")\n",
        "\n",
        "z = range(6)\n",
        "for n in z:\n",
        "  print(n)"
      ],
      "metadata": {
        "id": "9E0XUThi7XuF",
        "colab": {
          "base_uri": "https://localhost:8080/"
        },
        "outputId": "2a909be0-2a43-4084-a285-012f49026817"
      },
      "execution_count": null,
      "outputs": [
        {
          "output_type": "stream",
          "name": "stdout",
          "text": [
            "3\n",
            "4\n",
            "5\n",
            "---------------\n",
            "3\n",
            "5\n",
            "7\n",
            "9\n",
            "11\n",
            "13\n",
            "15\n",
            "17\n",
            "19\n",
            "---------------\n",
            "0\n",
            "1\n",
            "2\n",
            "3\n",
            "4\n",
            "5\n"
          ]
        }
      ]
    },
    {
      "cell_type": "markdown",
      "source": [
        "\n",
        "*\t***for loop***\n",
        "executes a sequence of statements multiple times and abbreviates the code that manages the loop variable."
      ],
      "metadata": {
        "id": "vG72m0Wu-uLi"
      }
    },
    {
      "cell_type": "code",
      "source": [
        "print(\"use of for loop\")\n",
        "for i in range(0,10,2):  #the for loop will go till (10-1)=9 with step 2\n",
        "  print(i)\n"
      ],
      "metadata": {
        "id": "CILqwobQ-usV",
        "colab": {
          "base_uri": "https://localhost:8080/"
        },
        "outputId": "e16950e5-adef-48de-9b59-1d3448bbe950"
      },
      "execution_count": null,
      "outputs": [
        {
          "output_type": "stream",
          "name": "stdout",
          "text": [
            "use of for loop\n",
            "0\n",
            "2\n",
            "4\n",
            "6\n",
            "8\n"
          ]
        }
      ]
    },
    {
      "cell_type": "markdown",
      "source": [
        "*\t***nested loops*** can be used with one or more loop inside any another while, for or do..while loop.\n",
        "\n",
        "\n",
        "A final note on loop nesting is that we can put any type of loop inside of any other type of loop. For example, a for loop can be inside a while loop or vice versa."
      ],
      "metadata": {
        "id": "u0u2RAJQ-u89"
      }
    },
    {
      "cell_type": "code",
      "source": [
        "print(\"Nested Loops for patterns\")\n",
        "for i in range(0,5):\n",
        "  for j in range(0,i+1):\n",
        "    print(\"*\",end=\" \")\n",
        "  print(\"\\r\")"
      ],
      "metadata": {
        "id": "vy8TW18c-vO-",
        "colab": {
          "base_uri": "https://localhost:8080/"
        },
        "outputId": "d056336c-8852-4efb-8cac-15abce56b138"
      },
      "execution_count": null,
      "outputs": [
        {
          "output_type": "stream",
          "name": "stdout",
          "text": [
            "Nested Loops for patterns\n",
            "* \r\n",
            "* * \r\n",
            "* * * \r\n",
            "* * * * \r\n",
            "* * * * * \r\n"
          ]
        }
      ]
    },
    {
      "cell_type": "markdown",
      "source": [
        "\n",
        "\n",
        "**Using else statement with while loops**: We know, while loop executes the block until a condition is satisfied. When the condition becomes false, the statement immediately after the loop is executed.\n",
        "The else clause is only executed when your while condition becomes false. If you break out of the loop, or if an exception is raised, it won’t be executed."
      ],
      "metadata": {
        "id": "wsxVfenS-vkE"
      }
    },
    {
      "cell_type": "code",
      "source": [
        "print(\"Using else with while loop\")\n",
        "count = 4\n",
        "while (count <7 ):\n",
        "    count = count + 1\n",
        "    print(\"Hello World\")\n",
        "else:\n",
        "    print(\"Else executed\")  #else statement gets executed after condition becomes false"
      ],
      "metadata": {
        "id": "JF2-HBcx-vzw",
        "colab": {
          "base_uri": "https://localhost:8080/"
        },
        "outputId": "c7bd8293-c2db-4cdb-d090-224c4eae3800"
      },
      "execution_count": null,
      "outputs": [
        {
          "output_type": "stream",
          "name": "stdout",
          "text": [
            "Using else with while loop\n",
            "Hello World\n",
            "Hello World\n",
            "Hello World\n",
            "Else executed\n"
          ]
        }
      ]
    },
    {
      "cell_type": "markdown",
      "source": [
        "**using else statement with for loops:** We can also combine else statement with for loop like in while loop. But as there is no condition in for loop based on which the execution will terminate so the else block will be executed immediately after for block finishes execution."
      ],
      "metadata": {
        "id": "w3cK5Caa_kda"
      }
    },
    {
      "cell_type": "code",
      "source": [
        "print(\"Using else with for loop\")\n",
        "list = [\"apple\", \"banana\", \"mango\"]\n",
        "for index in range(len(list)):\n",
        "    print (list[index])\n",
        "else:\n",
        "    print (\"Else executed\")  # else statement gets executed after for loop gets over"
      ],
      "metadata": {
        "id": "ycHrlxW3_kvO",
        "colab": {
          "base_uri": "https://localhost:8080/"
        },
        "outputId": "145cacb2-bef0-4057-cbc1-a54c2156f527"
      },
      "execution_count": null,
      "outputs": [
        {
          "output_type": "stream",
          "name": "stdout",
          "text": [
            "Using else with for loop\n",
            "apple\n",
            "banana\n",
            "mango\n",
            "Else executed\n"
          ]
        }
      ]
    },
    {
      "cell_type": "markdown",
      "source": [
        "# Loop control Statements\n",
        "\n",
        "Loop control statements change execution from their normal sequence. When execution leaves a scope, all automatic objects that were created in that scope are destroyed. Python supports the following control statements.\n",
        "\n",
        "* ***Continue Statement***: It returns the control to the beginning of the loop.\n",
        "* ***Break Statement***: It brings control out of the loop.\n",
        "* ***Pass Statement*** : We use pass statement to write empty loops. Pass is also used for empty control statements, functions and classes."
      ],
      "metadata": {
        "id": "AFD1dO_EQY3l"
      }
    },
    {
      "cell_type": "code",
      "source": [
        "string=\"It is a sunny day\"\n",
        "# use of continue statement with for loop\n",
        "for char in string:\n",
        "  if char==\"a\" or char==\"i\" or char==\"u\":\n",
        "    continue\n",
        "  else:\n",
        "    print(char,end=\"\")\n",
        "print(\"\\r\")\n",
        "# use of break statement with for loop\n",
        "for char in string:\n",
        "  if char==\"a\":\n",
        "    break\n",
        "  else:\n",
        "    print(char,end=\"\")\n",
        "# use of pass statement with for loop\n",
        "for char in string:\n",
        "  pass\n",
        "print(\"Last letter :\",char)"
      ],
      "metadata": {
        "id": "r-QV8ONEUK_D",
        "colab": {
          "base_uri": "https://localhost:8080/"
        },
        "outputId": "a8fdad1b-192f-4ba0-c49e-4638911a5934"
      },
      "execution_count": null,
      "outputs": [
        {
          "output_type": "stream",
          "name": "stdout",
          "text": [
            "It s  snny dy\r\n",
            "It is Last letter : y\n"
          ]
        }
      ]
    },
    {
      "cell_type": "code",
      "source": [
        "#use of continue statement with while loop\n",
        "num = 0\n",
        "while num < 10:\n",
        "    num += 1\n",
        "    if num == 6:\n",
        "        continue\n",
        "    print(num)\n",
        "# use of break statement with while loop\n",
        "num = 1\n",
        "odd_nums = []\n",
        "while num:\n",
        "    if num % 2 != 0:\n",
        "        odd_nums.append(num)\n",
        "    if num >=20:\n",
        "        break\n",
        "    num += 1\n",
        "print(\"Odd numbers: \", odd_nums)\n",
        "# use of pass statement with while loop\n",
        "num = 1\n",
        "while num <= 10:\n",
        "    if num == 6:\n",
        "        pass\n",
        "    print(num)\n",
        "    num += 1"
      ],
      "metadata": {
        "id": "4nYn6nqUDvGb",
        "colab": {
          "base_uri": "https://localhost:8080/"
        },
        "outputId": "f6bb96df-5c9a-47b1-9afc-e6a631adef6e"
      },
      "execution_count": null,
      "outputs": [
        {
          "output_type": "stream",
          "name": "stdout",
          "text": [
            "1\n",
            "2\n",
            "3\n",
            "4\n",
            "5\n",
            "7\n",
            "8\n",
            "9\n",
            "10\n",
            "Odd numbers:  [1, 3, 5, 7, 9, 11, 13, 15, 17, 19]\n",
            "1\n",
            "2\n",
            "3\n",
            "4\n",
            "5\n",
            "6\n",
            "7\n",
            "8\n",
            "9\n",
            "10\n"
          ]
        }
      ]
    },
    {
      "cell_type": "markdown",
      "source": [
        "# Functions in Python\n",
        "\n",
        "A function is a block of code which only runs when it is called.\n",
        "You can pass data, known as parameters, into a function.\n",
        "A function can return data as a result.\n",
        "\n",
        "**Creating a Function**:\n",
        "In Python a function is defined using the def keyword.\n"
      ],
      "metadata": {
        "id": "O26vlek8FqFE"
      }
    },
    {
      "cell_type": "code",
      "source": [
        "def my_function():\n",
        "  print(\"It is a function\")"
      ],
      "metadata": {
        "id": "mUb9i_LXGEmk"
      },
      "execution_count": null,
      "outputs": []
    },
    {
      "cell_type": "markdown",
      "source": [
        "**Calling a Function** :\n",
        "To call a function, use the function name followed by parenthesis:"
      ],
      "metadata": {
        "id": "Ns843RlVGNPr"
      }
    },
    {
      "cell_type": "code",
      "source": [
        "def my_function():\n",
        "  print(\"It is a function\")\n",
        "\n",
        "my_function()"
      ],
      "metadata": {
        "id": "XwV9-gtKGVF8",
        "colab": {
          "base_uri": "https://localhost:8080/"
        },
        "outputId": "216e5320-807b-429f-e8ea-d85932f3bdf8"
      },
      "execution_count": null,
      "outputs": [
        {
          "output_type": "stream",
          "name": "stdout",
          "text": [
            "It is a function\n"
          ]
        }
      ]
    },
    {
      "cell_type": "markdown",
      "source": [
        "In the above example, there is no output because we have only created the function. But,in second code snippet we have called the function. The interpreter will call and then execute the function."
      ],
      "metadata": {
        "id": "RnQBZkg7GplG"
      }
    },
    {
      "cell_type": "markdown",
      "source": [
        "# Arguements in Python Function\n",
        "\n",
        "Information can be passed into functions as arguments.\n",
        "\n",
        "Arguments are specified after the function name, inside the parentheses. You can add as many arguments as you want, just separate them with a comma.\n",
        "\n",
        "The following example has a function with one argument (fname). When the function is called, we pass along a first name, which is used inside the function to print the full name"
      ],
      "metadata": {
        "id": "2bFPQAL29EbS"
      }
    },
    {
      "cell_type": "code",
      "source": [
        "def my_func(fname):\n",
        "  print(fname + \" Refsnes\")\n",
        "\n",
        "my_func(\"Emil\")\n",
        "my_func(\"Tobias\")\n",
        "my_func(\"Linus\")"
      ],
      "metadata": {
        "id": "MXHiz3n-9wAS",
        "colab": {
          "base_uri": "https://localhost:8080/"
        },
        "outputId": "d377e59f-d26b-4fb8-f44c-3130328d7348"
      },
      "execution_count": null,
      "outputs": [
        {
          "output_type": "stream",
          "name": "stdout",
          "text": [
            "Emil Refsnes\n",
            "Tobias Refsnes\n",
            "Linus Refsnes\n"
          ]
        }
      ]
    },
    {
      "cell_type": "markdown",
      "source": [
        "## Types of Arguments in Python\n",
        "\n",
        "There are two types of arguments: **positional arguments** and **keyword arguments**.\n",
        "\n",
        "***Positional arguments***\n",
        "\n",
        "\n",
        "Positional arguments are values that are passed into a function based on the order in which the parameters were listed during the function definition. Here, the order is especially important as values passed into these functions are assigned to corresponding parameters based on their position.\n"
      ],
      "metadata": {
        "id": "y478EJZjLJML"
      }
    },
    {
      "cell_type": "code",
      "source": [
        "def team(name, project):\n",
        "    print(name, \"is working on an\", project)        #example A\n",
        "\n",
        "team(\"John\", \"Titanic.csv\")\n",
        "\n",
        "\n",
        "def team(name, project):\n",
        "    print(name, \"is working on an\", project)        #example B\n",
        "\n",
        "team(\"Titanic.csv\", \"John\")"
      ],
      "metadata": {
        "id": "zYx0aVe1LUh-",
        "colab": {
          "base_uri": "https://localhost:8080/"
        },
        "outputId": "ec94204d-6075-406d-99b7-18081bb5b6aa"
      },
      "execution_count": null,
      "outputs": [
        {
          "output_type": "stream",
          "name": "stdout",
          "text": [
            "John is working on an Titanic.csv\n",
            "Titanic.csv is working on an John\n"
          ]
        }
      ]
    },
    {
      "cell_type": "markdown",
      "source": [
        "In this example, we see that when the positions of the arguments are changed, the output produces different results. Though the code in example B isn’t wrong, the values that have been passed into the function are in the wrong order; thus, producing a result that does not match our desired output. Titanic.csv is the name of the project that is being worked on by the person, John, not the other way around."
      ],
      "metadata": {
        "id": "kl0QBfWWLY3I"
      }
    },
    {
      "cell_type": "markdown",
      "source": [
        "***Keyword arguments***\n",
        "\n",
        "Keyword arguments (or named arguments) are values that, when passed into a function, are identifiable by specific parameter names. A keyword argument is preceded by a parameter and the assignment operator, = .\n",
        "\n",
        "Keyword arguments can be likened to dictionaries in that they map a value to a keyword."
      ],
      "metadata": {
        "id": "61vvuO8uOOAM"
      }
    },
    {
      "cell_type": "code",
      "source": [
        "def team(name, project):\n",
        "    print(name, \"is working on an\", project)\n",
        "\n",
        "team(project = \"John\", name = 'Titanic.csv')\n",
        "\n",
        "\n",
        "def team(name, project):\n",
        "    print(name, \"is working on an\", project)\n",
        "\n",
        "team(name = \"Titanic.csv\", project = 'John')"
      ],
      "metadata": {
        "id": "h5kgHJGZOumF",
        "colab": {
          "base_uri": "https://localhost:8080/"
        },
        "outputId": "3a8a5e10-c8a2-493f-ef2c-c2f1b43ac295"
      },
      "execution_count": null,
      "outputs": [
        {
          "output_type": "stream",
          "name": "stdout",
          "text": [
            "Titanic.csv is working on an John\n",
            "Titanic.csv is working on an John\n"
          ]
        }
      ]
    },
    {
      "cell_type": "markdown",
      "source": [
        "As you can see, we had the same output from both codes although, when calling the function, the arguments in each code had different positions.\n",
        "\n",
        "With keyword arguments, as long as you assign a value to the parameter, the positions of the arguments do not matter.\n",
        "\n",
        "However, they do have to come after positional arguments and before default/optional arguments in a function call."
      ],
      "metadata": {
        "id": "HNqxoLY7O9za"
      }
    },
    {
      "cell_type": "markdown",
      "source": [
        "# Lambda Function\n",
        "In Python, an anonymous function is a function that is defined without a name.\n",
        "\n",
        "While normal functions are defined using the def keyword in Python, anonymous functions are defined using the lambda keyword.\n",
        "\n",
        "Hence, anonymous functions are also called lambda functions.\n",
        "\n"
      ],
      "metadata": {
        "id": "i4_FulVYAQvb"
      }
    },
    {
      "cell_type": "code",
      "source": [
        "# example of lambda function\n",
        "y = lambda x: x * 2 + 5\n",
        "\n",
        "print(y(5))"
      ],
      "metadata": {
        "id": "srp8miuFXl_h",
        "colab": {
          "base_uri": "https://localhost:8080/"
        },
        "outputId": "d251914b-9e80-4e91-b32b-ec25b4b9e165"
      },
      "execution_count": null,
      "outputs": [
        {
          "output_type": "stream",
          "name": "stdout",
          "text": [
            "15\n"
          ]
        }
      ]
    },
    {
      "cell_type": "markdown",
      "source": [
        "# Variable Scope in Python\n",
        "\n",
        "Since, python is **not** statically typed language,so we do not need to declare variables before using them or declare their type. A variable is created the moment we first assign a value to it.\n",
        "\n",
        "**Scope of Variable** :The location where we can find a variable and also access it if required is called the scope of a variable.\n",
        "\n",
        "**Global and local variables**\n",
        "Global variables are the ones that are defined and declared outside any function and are not specified to any function. They can be used by any part of the program."
      ],
      "metadata": {
        "id": "I57wqe3fOLs2"
      }
    },
    {
      "cell_type": "code",
      "source": [
        "def func():\n",
        "    print(string)\n",
        "\n",
        "# Global scope\n",
        "string = \"Data Science is the future\"\n",
        "func()"
      ],
      "metadata": {
        "id": "JOue1Y2_QkMr",
        "colab": {
          "base_uri": "https://localhost:8080/"
        },
        "outputId": "7344dc6f-834f-4b18-ce45-8e2a9ecf46d8"
      },
      "execution_count": null,
      "outputs": [
        {
          "output_type": "stream",
          "name": "stdout",
          "text": [
            "Data Science is the future\n"
          ]
        }
      ]
    },
    {
      "cell_type": "code",
      "source": [
        "# This function has a variable with\n",
        "# name same as x.\n",
        "x = 300\n",
        "\n",
        "def func():\n",
        "  x = 200\n",
        "  print(x)\n",
        "\n",
        "func()\n",
        "\n",
        "print(x)"
      ],
      "metadata": {
        "id": "RgODbvz1Q-Vu",
        "colab": {
          "base_uri": "https://localhost:8080/"
        },
        "outputId": "58911138-52af-4e49-852d-fa8d0ea04acf"
      },
      "execution_count": null,
      "outputs": [
        {
          "output_type": "stream",
          "name": "stdout",
          "text": [
            "200\n",
            "300\n"
          ]
        }
      ]
    },
    {
      "cell_type": "markdown",
      "source": [
        "**Global Keyword**\n",
        "\n",
        "If you need to create a global variable, but are stuck in the local scope, you can use the global keyword.\n",
        "The global keyword makes the variable global."
      ],
      "metadata": {
        "id": "YZBJS5zCSYJu"
      }
    },
    {
      "cell_type": "code",
      "source": [
        "def func():\n",
        "  global x\n",
        "  x = 300\n",
        "\n",
        "func()\n",
        "\n",
        "print(x)"
      ],
      "metadata": {
        "id": "3kWskrDKSfww",
        "colab": {
          "base_uri": "https://localhost:8080/"
        },
        "outputId": "a36c33f3-a7bd-416a-d976-02f4a2c4cb02"
      },
      "execution_count": null,
      "outputs": [
        {
          "output_type": "stream",
          "name": "stdout",
          "text": [
            "300\n"
          ]
        }
      ]
    },
    {
      "cell_type": "markdown",
      "source": [
        "Also, use the global keyword if you want to make a change to a global variable inside a function."
      ],
      "metadata": {
        "id": "WXPt_w6ISnC1"
      }
    },
    {
      "cell_type": "code",
      "source": [
        "x = 300\n",
        "\n",
        "def func():\n",
        "  global x\n",
        "  x = 200\n",
        "\n",
        "func()\n",
        "\n",
        "print(x)"
      ],
      "metadata": {
        "id": "WSOXpavCSozd",
        "colab": {
          "base_uri": "https://localhost:8080/"
        },
        "outputId": "40803b91-6e73-457e-ee26-0b3ddc26d5f2"
      },
      "execution_count": null,
      "outputs": [
        {
          "output_type": "stream",
          "name": "stdout",
          "text": [
            "200\n"
          ]
        }
      ]
    },
    {
      "cell_type": "markdown",
      "source": [
        "\n",
        "# Data structures in Python\n",
        "Before starting with Python, we should be knowing what are data structures and why are they used.\n",
        "**Data structure** is a storage that is used to store and organize data. It is a way of arranging data on a computer so that it can be accessed and updated efficiently.\n",
        "\n",
        "Depending on your requirement and project, it is important to choose the right data structure for your project. For example, if you want to store data sequentially in the memory, then you can go for the Array data structure.\n",
        "\n",
        "**Python Specific Data Structures**\n",
        "\n",
        "These data structures are specific to python language and they give greater flexibility in storing different types of data and faster processing in python environment.\n",
        "\n",
        "**List** − It is similar to array with the exception that the data elements can be of different data types. You can have both numeric and string data in a python list.\n",
        "\n",
        "**Tuple** − Tuples are similar to lists but they are immutable which means the values in a tuple cannot be modified they can only be read.\n",
        "\n",
        "**Dictionary** − The dictionary contains Key-value pairs as its data elements.\n",
        "\n",
        "**Set** - A set is a collection which is unordered, unchangeable*, and unindexed."
      ],
      "metadata": {
        "id": "whsS1Lth_rob"
      }
    },
    {
      "cell_type": "markdown",
      "source": [
        "# Lists\n",
        "* Lists are used to store multiple items in a single variable.\n",
        "\n",
        "* Lists are created using square brackets\n",
        "\n",
        "* List items are ordered, changeable, and allow duplicate values.\n",
        "\n",
        "* List items are indexed, the first item has index [0], the second item has index [1] etc.\n",
        "* Since lists are indexed, lists can have items with the same value\n",
        "\n",
        "\n",
        "example:\n",
        "listL1=[\"Apple\", \"Mango\", \"Banana\", \"Grapes\"]\n",
        "\n",
        "* List items can be of any data type: string, int and boolean data types.\n",
        "\n",
        "* A list can contain different data types.\n",
        "\n",
        "example:\n",
        "ListL2=[78, 'People', 812.369, 4+9j, True]\n",
        "\n",
        "\n",
        "***Access Items of list***\n",
        "\n",
        "List items are indexed and you can access them by referring to the index number"
      ],
      "metadata": {
        "id": "krOosJvLA-Cd"
      }
    },
    {
      "cell_type": "code",
      "source": [
        "listL1=[\"Apple\", \"Mango\", \"Banana\", \"Grapes\"]\n",
        "print(listL1[3])\n",
        "\n",
        "\n",
        "#using negative indexing\n",
        "print(listL1[-2])\n",
        "\n",
        "#range of indexes\n",
        "print(listL1[1:3])\n",
        "\n",
        "#range of negtive indexes\n",
        "print(listL1[-4:-2])\n"
      ],
      "metadata": {
        "id": "MMszpoepDVOV",
        "colab": {
          "base_uri": "https://localhost:8080/"
        },
        "outputId": "02636408-dcdb-4537-db6b-126a9bea6e89"
      },
      "execution_count": null,
      "outputs": [
        {
          "output_type": "stream",
          "name": "stdout",
          "text": [
            "Grapes\n",
            "Banana\n",
            "['Mango', 'Banana']\n",
            "['Apple', 'Mango']\n"
          ]
        }
      ]
    },
    {
      "cell_type": "markdown",
      "source": [
        "***Check if item exists in List***\n",
        "\n",
        "To determine if a specified item is present in a list use the ***in*** keyword"
      ],
      "metadata": {
        "id": "aC5FUN__Eecc"
      }
    },
    {
      "cell_type": "code",
      "source": [
        "#check if cherry is present in the list\n",
        "if \"cherry\" in listL1:\n",
        "  print(\"yes\")\n",
        "else:\n",
        "  print(\"no\")"
      ],
      "metadata": {
        "id": "NslxlpB1Ep1x",
        "colab": {
          "base_uri": "https://localhost:8080/"
        },
        "outputId": "fe52f6ba-9008-45e7-dc3c-ee6ef93b9f75"
      },
      "execution_count": null,
      "outputs": [
        {
          "output_type": "stream",
          "name": "stdout",
          "text": [
            "no\n"
          ]
        }
      ]
    },
    {
      "cell_type": "markdown",
      "source": [
        "***Change items in a list***\n"
      ],
      "metadata": {
        "id": "0p7RMLJCFu6N"
      }
    },
    {
      "cell_type": "code",
      "source": [
        "listL1[1] = \"blackberries\"\n",
        "print(listL1)"
      ],
      "metadata": {
        "id": "Z0ggWng7GHOn",
        "colab": {
          "base_uri": "https://localhost:8080/"
        },
        "outputId": "e4d3c7c1-eca7-4fde-844e-63b14a4d6c11"
      },
      "execution_count": null,
      "outputs": [
        {
          "output_type": "stream",
          "name": "stdout",
          "text": [
            "['Apple', 'blackberries', 'Banana', 'Grapes']\n"
          ]
        }
      ]
    },
    {
      "cell_type": "markdown",
      "source": [
        "***Insert items in a list***\n",
        "\n",
        "To insert a new list item, without replacing any of the existing values, we can use the insert() method.\n",
        "\n",
        "The insert() method inserts an item at the specified index."
      ],
      "metadata": {
        "id": "8wSnVs00GdEM"
      }
    },
    {
      "cell_type": "code",
      "source": [
        "listL1.insert(2, \"watermelon\")\n",
        "print(listL1)"
      ],
      "metadata": {
        "id": "tjfIkEgFGwR-",
        "colab": {
          "base_uri": "https://localhost:8080/"
        },
        "outputId": "36fafef4-94ff-40ee-81e3-934fb523d791"
      },
      "execution_count": null,
      "outputs": [
        {
          "output_type": "stream",
          "name": "stdout",
          "text": [
            "['Apple', 'blackberries', 'watermelon', 'Banana', 'Grapes']\n"
          ]
        }
      ]
    },
    {
      "cell_type": "markdown",
      "source": [
        "***Append items to the list***\n",
        "\n",
        "To add an item to the end of the list, use the append() method."
      ],
      "metadata": {
        "id": "AD1sJ0OPHJcB"
      }
    },
    {
      "cell_type": "code",
      "source": [
        "listL1.append(\"orange\")\n",
        "print(listL1)"
      ],
      "metadata": {
        "id": "cBtJaYQsHTAf",
        "colab": {
          "base_uri": "https://localhost:8080/"
        },
        "outputId": "44d168d9-6a91-4223-8e8c-a47544cfe65f"
      },
      "execution_count": null,
      "outputs": [
        {
          "output_type": "stream",
          "name": "stdout",
          "text": [
            "['Apple', 'blackberries', 'watermelon', 'Banana', 'Grapes', 'orange']\n"
          ]
        }
      ]
    },
    {
      "cell_type": "markdown",
      "source": [
        "***Extend List***\n",
        "\n",
        "To append elements from another list to the current list, use the extend() method."
      ],
      "metadata": {
        "id": "zlNRKiS0Hpbt"
      }
    },
    {
      "cell_type": "code",
      "source": [
        "tropical = [\"mango\", \"pineapple\", \"papaya\"]\n",
        "listL1.extend(tropical)\n",
        "print(listL1)"
      ],
      "metadata": {
        "id": "QABy6jUSHzKq",
        "colab": {
          "base_uri": "https://localhost:8080/"
        },
        "outputId": "ca297213-22bb-4997-ce54-c0013b668838"
      },
      "execution_count": null,
      "outputs": [
        {
          "output_type": "stream",
          "name": "stdout",
          "text": [
            "['Apple', 'blackberries', 'watermelon', 'Banana', 'Grapes', 'orange', 'mango', 'pineapple', 'papaya']\n"
          ]
        }
      ]
    },
    {
      "cell_type": "markdown",
      "source": [
        "***Remove list items***\n",
        "\n",
        "* The **remove()** method removes the specified item"
      ],
      "metadata": {
        "id": "XSuAggJfIUm2"
      }
    },
    {
      "cell_type": "code",
      "source": [
        "listL1.remove(\"Banana\")\n",
        "print(listL1)"
      ],
      "metadata": {
        "id": "7KqAJZERIbMl",
        "colab": {
          "base_uri": "https://localhost:8080/"
        },
        "outputId": "41eafa21-1696-44fb-f69d-1d5222323e65"
      },
      "execution_count": null,
      "outputs": [
        {
          "output_type": "stream",
          "name": "stdout",
          "text": [
            "['Apple', 'blackberries', 'watermelon', 'Grapes', 'orange', 'mango', 'pineapple', 'papaya']\n"
          ]
        }
      ]
    },
    {
      "cell_type": "markdown",
      "source": [
        "* The **pop()** method removes the specified index.\n",
        "If you do not specify the index, the pop() method removes the last item."
      ],
      "metadata": {
        "id": "t8XlSAxlIbYg"
      }
    },
    {
      "cell_type": "code",
      "source": [
        "listL1.pop(1)\n",
        "print(listL1)\n",
        "\n",
        "\n",
        "listL1.pop()\n",
        "print(listL1)"
      ],
      "metadata": {
        "id": "ujmWQOqYIf4h",
        "colab": {
          "base_uri": "https://localhost:8080/"
        },
        "outputId": "1b436bb2-e38c-429d-e4b1-b5fdd16cedba"
      },
      "execution_count": null,
      "outputs": [
        {
          "output_type": "stream",
          "name": "stdout",
          "text": [
            "['Apple', 'watermelon', 'Grapes', 'orange', 'mango', 'pineapple', 'papaya']\n",
            "['Apple', 'watermelon', 'Grapes', 'orange', 'mango', 'pineapple']\n"
          ]
        }
      ]
    },
    {
      "cell_type": "markdown",
      "source": [
        "* The **del** keyword also removes the specified index. It can also delete the list completely."
      ],
      "metadata": {
        "id": "Mnw5ZMMWIgG3"
      }
    },
    {
      "cell_type": "code",
      "source": [
        "del listL1[0]\n",
        "print(listL1)\n",
        "\n",
        "\n",
        "thislist = [\"apple\", \"banana\", \"cherry\"]\n",
        "del thislist"
      ],
      "metadata": {
        "id": "Niwg6RRQIxQ7",
        "colab": {
          "base_uri": "https://localhost:8080/"
        },
        "outputId": "ba111eb8-c49d-4daa-cd1b-9d423288203d"
      },
      "execution_count": null,
      "outputs": [
        {
          "output_type": "stream",
          "name": "stdout",
          "text": [
            "['watermelon', 'Grapes', 'orange', 'mango', 'pineapple']\n"
          ]
        }
      ]
    },
    {
      "cell_type": "markdown",
      "source": [
        "* The **clear()** method empties the list.The list still remains, but it has no content."
      ],
      "metadata": {
        "id": "qws-721aIxcZ"
      }
    },
    {
      "cell_type": "code",
      "source": [
        "thislist = [\"apple\", \"banana\", \"cherry\"]\n",
        "thislist.clear()\n",
        "print(thislist)"
      ],
      "metadata": {
        "id": "XE19hvYJJ76Q",
        "colab": {
          "base_uri": "https://localhost:8080/"
        },
        "outputId": "d9c6dd10-fe56-48ad-e56a-b264e945006e"
      },
      "execution_count": null,
      "outputs": [
        {
          "output_type": "stream",
          "name": "stdout",
          "text": [
            "[]\n"
          ]
        }
      ]
    },
    {
      "cell_type": "markdown",
      "source": [
        "***List comprehension***\n",
        "\n",
        "A Python list comprehension consists of brackets containing the expression, which is executed for each element along with the for loop to iterate over each element in the Python list.\n",
        "\n",
        "Python List comprehension provides a much more short syntax for creating a new list based on the values of an existing list.\n",
        "\n",
        "newList = [ expression(element) for element in oldList if condition ]   #Syntax\n",
        "\n"
      ],
      "metadata": {
        "id": "a6SgCucIQpIe"
      }
    },
    {
      "cell_type": "code",
      "source": [
        "List1 = [character for character in [1, 2, 3]]\n",
        "print(List1)\n",
        "\n",
        "\n",
        "\n",
        "List2 = [i for i in range(11) if i % 2 == 0]\n",
        "print(List2)"
      ],
      "metadata": {
        "id": "f-Q5Ij75Rrwg",
        "colab": {
          "base_uri": "https://localhost:8080/"
        },
        "outputId": "c01d7eb7-16c2-4b75-9a0f-d57d776bfcaf"
      },
      "execution_count": null,
      "outputs": [
        {
          "output_type": "stream",
          "name": "stdout",
          "text": [
            "[1, 2, 3]\n",
            "[0, 2, 4, 6, 8, 10]\n"
          ]
        }
      ]
    },
    {
      "cell_type": "code",
      "source": [
        "#taking another example, here we have to find names ending with letter 's' having length more than 5\n",
        "\n",
        "names=['Lucas','Maximus','John',' Catilyn','Margaret','Ellis','Evans','Dua','Chris','Travis']\n",
        "\n",
        "namess=[]\n",
        "for name in names:\n",
        "  if name.endswith('s') and len(name)>5:\n",
        "      namess.append(name)       #append all the names that satisfy the condition into another new list called namess\n",
        "\n",
        "print(namess)  #prints the list namess"
      ],
      "metadata": {
        "id": "xsl376k4sJgq",
        "colab": {
          "base_uri": "https://localhost:8080/"
        },
        "outputId": "dac31442-df65-4f40-8ebe-e1990140c77a"
      },
      "execution_count": null,
      "outputs": [
        {
          "output_type": "stream",
          "name": "stdout",
          "text": [
            "['Maximus', 'Travis']\n"
          ]
        }
      ]
    },
    {
      "cell_type": "code",
      "source": [
        "#writing same code using list comprehension\n",
        "namess= [name for name in names if name.endswith('s') and len(name)>5]\n",
        "print(namess)"
      ],
      "metadata": {
        "id": "8Bw9FDMBtbZg",
        "colab": {
          "base_uri": "https://localhost:8080/"
        },
        "outputId": "c9d77099-e1b9-447c-e1be-094e4ff56488"
      },
      "execution_count": null,
      "outputs": [
        {
          "output_type": "stream",
          "name": "stdout",
          "text": [
            "['Maximus', 'Travis']\n"
          ]
        }
      ]
    },
    {
      "cell_type": "markdown",
      "source": [
        "Hence, we can see that list comprehension does the work easier and reduced the no of lines of codes that we had to write earlier in the above example."
      ],
      "metadata": {
        "id": "pl8NFmRNtt_h"
      }
    },
    {
      "cell_type": "markdown",
      "source": [
        "**Taking list input in Python**"
      ],
      "metadata": {
        "id": "I5MEtcy6SQlB"
      }
    },
    {
      "cell_type": "code",
      "source": [
        "# creating an empty list\n",
        "lst = []\n",
        "\n",
        "# number of elements as input\n",
        "n = int(input(\"Enter number of elements : \"))\n",
        "\n",
        "# iterating till the range\n",
        "for i in range(0, n):\n",
        "\tele = int(input())\n",
        "\n",
        "\tlst.append(ele) # adding the element\n",
        "\n",
        "print(lst)\n"
      ],
      "metadata": {
        "id": "y2Fjo_NkSQ05",
        "colab": {
          "base_uri": "https://localhost:8080/"
        },
        "outputId": "1d2b956b-2e2e-4144-c846-dc843de68702"
      },
      "execution_count": null,
      "outputs": [
        {
          "output_type": "stream",
          "name": "stdout",
          "text": [
            "Enter number of elements : 2\n",
            "1  \n",
            "2\n",
            "[1, 2]\n"
          ]
        }
      ]
    },
    {
      "cell_type": "markdown",
      "source": [
        "**Using map() to take list input**"
      ],
      "metadata": {
        "id": "MBkGIwnATXmo"
      }
    },
    {
      "cell_type": "code",
      "source": [
        "n = int(input(\"Enter the size of list : \"))\n",
        "print(\"\\n\")\n",
        "l=map(list,input().split())\n"
      ],
      "metadata": {
        "id": "4zddgzQFTcV_",
        "colab": {
          "base_uri": "https://localhost:8080/"
        },
        "outputId": "fe2fbeb9-7c2d-49e4-827e-c30823fd6aa7"
      },
      "execution_count": null,
      "outputs": [
        {
          "name": "stdout",
          "output_type": "stream",
          "text": [
            "Enter the size of list : 3\n",
            "\n",
            "\n",
            "0 1 2\n"
          ]
        }
      ]
    },
    {
      "cell_type": "markdown",
      "source": [
        "***Sorting Lists***\n",
        "List objects have a **sort()** method that will sort the list alphanumerically, ascending, by default."
      ],
      "metadata": {
        "id": "_IB5sY6yw15U"
      }
    },
    {
      "cell_type": "code",
      "source": [
        "#using example of names list used in list comprehension above\n",
        "names=['Lucas','Maximus','John',' Catilyn','Margaret','Ellis','Evans','Dua','Chris','Travis']\n",
        "names.sort()\n",
        "print(names)"
      ],
      "metadata": {
        "id": "R5mujSjcy3P9",
        "colab": {
          "base_uri": "https://localhost:8080/"
        },
        "outputId": "e416b673-06bf-4dc1-d978-2040ddac568e"
      },
      "execution_count": null,
      "outputs": [
        {
          "output_type": "stream",
          "name": "stdout",
          "text": [
            "[' Catilyn', 'Chris', 'Dua', 'Ellis', 'Evans', 'John', 'Lucas', 'Margaret', 'Maximus', 'Travis']\n"
          ]
        }
      ]
    },
    {
      "cell_type": "markdown",
      "source": [
        "Now sorting the lists in descending order, we have use **sort()** with condition **reverse=True**."
      ],
      "metadata": {
        "id": "3nG995C2zmdq"
      }
    },
    {
      "cell_type": "code",
      "source": [
        "# using the same example\n",
        "names=['Lucas','Maximus','John',' Catilyn','Margaret','Ellis','Evans','Dua','Chris','Travis']\n",
        "names.sort(reverse=True)\n",
        "print(names)"
      ],
      "metadata": {
        "id": "mEzRDw19z2bK",
        "colab": {
          "base_uri": "https://localhost:8080/"
        },
        "outputId": "7b5cf722-83f8-4741-e79f-299b4aebe326"
      },
      "execution_count": null,
      "outputs": [
        {
          "output_type": "stream",
          "name": "stdout",
          "text": [
            "['Travis', 'Maximus', 'Margaret', 'Lucas', 'John', 'Evans', 'Ellis', 'Dua', 'Chris', ' Catilyn']\n"
          ]
        }
      ]
    },
    {
      "cell_type": "markdown",
      "source": [
        "The **reverse()** method reverses the current sorting order of the elements."
      ],
      "metadata": {
        "id": "eVloYVg2FLuJ"
      }
    },
    {
      "cell_type": "code",
      "source": [
        "#above we have sorted the list in descending order so using reverse() method will change the order in ascending order\n",
        "names.reverse()\n",
        "print(names)"
      ],
      "metadata": {
        "id": "Cpx4_TliFOBC",
        "colab": {
          "base_uri": "https://localhost:8080/"
        },
        "outputId": "8ab9e822-52bf-4bbc-cce7-350fd40aa7bf"
      },
      "execution_count": null,
      "outputs": [
        {
          "output_type": "stream",
          "name": "stdout",
          "text": [
            "[' Catilyn', 'Chris', 'Dua', 'Ellis', 'Evans', 'John', 'Lucas', 'Margaret', 'Maximus', 'Travis']\n"
          ]
        }
      ]
    },
    {
      "cell_type": "markdown",
      "source": [
        "***Copy Lists***\n",
        "\n",
        "You cannot copy a list simply by typing list2 = list1, because: list2 will only be a reference to list1, and changes made in list1 will automatically also be made in list2.\n",
        "\n",
        "There are ways to make a copy, one way is to use the built-in List method copy()."
      ],
      "metadata": {
        "id": "Jh5CEo9cGnKp"
      }
    },
    {
      "cell_type": "code",
      "source": [
        "names=['Lucas','Maximus','John',' Catilyn']\n",
        "mylist=names.copy()\n",
        "print(mylist)"
      ],
      "metadata": {
        "id": "eEKZrPViG5Cn",
        "colab": {
          "base_uri": "https://localhost:8080/"
        },
        "outputId": "16f3425a-e2be-4cac-ab80-feb184d9ba6c"
      },
      "execution_count": null,
      "outputs": [
        {
          "output_type": "stream",
          "name": "stdout",
          "text": [
            "['Lucas', 'Maximus', 'John', ' Catilyn']\n"
          ]
        }
      ]
    },
    {
      "cell_type": "code",
      "source": [
        "#Another way to make a copy is to use the built-in method list().\n",
        "\n",
        "mylist2= list(names)\n",
        "print(mylist2)"
      ],
      "metadata": {
        "id": "ye6kLHrSHZUJ",
        "colab": {
          "base_uri": "https://localhost:8080/",
          "height": 217
        },
        "outputId": "9e381cea-06da-45c8-af1f-36259eb3bdf1"
      },
      "execution_count": null,
      "outputs": [
        {
          "output_type": "error",
          "ename": "TypeError",
          "evalue": "ignored",
          "traceback": [
            "\u001b[0;31m---------------------------------------------------------------------------\u001b[0m",
            "\u001b[0;31mTypeError\u001b[0m                                 Traceback (most recent call last)",
            "\u001b[0;32m<ipython-input-233-30ef4c71904a>\u001b[0m in \u001b[0;36m<module>\u001b[0;34m\u001b[0m\n\u001b[1;32m      1\u001b[0m \u001b[0;31m#Another way to make a copy is to use the built-in method list().\u001b[0m\u001b[0;34m\u001b[0m\u001b[0;34m\u001b[0m\u001b[0;34m\u001b[0m\u001b[0m\n\u001b[1;32m      2\u001b[0m \u001b[0;34m\u001b[0m\u001b[0m\n\u001b[0;32m----> 3\u001b[0;31m \u001b[0mmylist2\u001b[0m\u001b[0;34m=\u001b[0m \u001b[0mlist\u001b[0m\u001b[0;34m(\u001b[0m\u001b[0mnames\u001b[0m\u001b[0;34m)\u001b[0m\u001b[0;34m\u001b[0m\u001b[0;34m\u001b[0m\u001b[0m\n\u001b[0m\u001b[1;32m      4\u001b[0m \u001b[0mprint\u001b[0m\u001b[0;34m(\u001b[0m\u001b[0mmylist2\u001b[0m\u001b[0;34m)\u001b[0m\u001b[0;34m\u001b[0m\u001b[0;34m\u001b[0m\u001b[0m\n",
            "\u001b[0;31mTypeError\u001b[0m: 'list' object is not callable"
          ]
        }
      ]
    },
    {
      "cell_type": "markdown",
      "source": [
        " ***Join Lists***\n",
        "\n",
        "There are several ways to join, or concatenate, two or more lists in Python.\n",
        "\n",
        "One of the easiest ways are by using the **+** operator."
      ],
      "metadata": {
        "id": "wEHj_b8xHoiw"
      }
    },
    {
      "cell_type": "code",
      "source": [
        "list1=['dog','cat','parrot']\n",
        "list2=[45,39,87]\n",
        "list3=list1 + list2\n",
        "print(list3)  #it is joining the lists and creating a new list called list3\n",
        "print(list1 + list2)     #while this statement is just printing both the lists together without creating a new list\n",
        "#both the statements do the same work"
      ],
      "metadata": {
        "id": "CGSM8qhiH-9N",
        "colab": {
          "base_uri": "https://localhost:8080/"
        },
        "outputId": "cca454ad-627f-4233-860b-31f256bdd63a"
      },
      "execution_count": null,
      "outputs": [
        {
          "output_type": "stream",
          "name": "stdout",
          "text": [
            "['dog', 'cat', 'parrot', 45, 39, 87]\n",
            "['dog', 'cat', 'parrot', 45, 39, 87]\n"
          ]
        }
      ]
    },
    {
      "cell_type": "code",
      "source": [
        "#Another way to join two lists is by appending all the items from list2 into list1, one by one using append() method\n",
        "list1=['dog','cat','parrot']\n",
        "list2=[45,39,87]\n",
        "for x in list2:\n",
        "  list1.append(x)\n",
        "\n",
        "print(list1)"
      ],
      "metadata": {
        "id": "os6ss8chJokY",
        "colab": {
          "base_uri": "https://localhost:8080/"
        },
        "outputId": "b5cdd689-678e-4d1b-cee6-b457d4b0773f"
      },
      "execution_count": null,
      "outputs": [
        {
          "output_type": "stream",
          "name": "stdout",
          "text": [
            "['dog', 'cat', 'parrot', 45, 39, 87]\n"
          ]
        }
      ]
    },
    {
      "cell_type": "code",
      "source": [
        "#Or you can use the extend() method, which purpose is to add elements from one list to another list\n",
        "list1=['dog','cat','parrot']\n",
        "list2=[45,39,87]\n",
        "list1.extend(list2)\n",
        "print(list1)"
      ],
      "metadata": {
        "id": "Hd5S2tadJxQD",
        "colab": {
          "base_uri": "https://localhost:8080/"
        },
        "outputId": "f119454d-1a42-4176-d2db-9b07c74a5a68"
      },
      "execution_count": null,
      "outputs": [
        {
          "output_type": "stream",
          "name": "stdout",
          "text": [
            "['dog', 'cat', 'parrot', 45, 39, 87]\n"
          ]
        }
      ]
    },
    {
      "cell_type": "markdown",
      "source": [
        "Hence, using **append()** and **extend()** method we can join the lists without creating extra list."
      ],
      "metadata": {
        "id": "Ld-W1EsHJ62c"
      }
    },
    {
      "cell_type": "markdown",
      "source": [
        "# ***Tuples***\n",
        "*  Tuples are used to store multiple items in a single variable.\n",
        "\n",
        "* Tuple is one of 4 built-in data types in Python used to store collections of data, the other 3 are List, Set, and Dictionary, all with different qualities and usage.\n",
        "\n",
        "* A tuple is a collection which is ordered and unchangeable.\n",
        "\n",
        "* Tuples are written with round brackets.\n",
        "\n",
        "Example:\n",
        "Tuple1=('name','place','animal','thing')\n",
        "\n",
        "* Tuple items are ordered, unchangeable, and allow duplicate values.\n",
        "\n",
        "* Tuple items are indexed, the first item has index [0], the second item has index [1] etc.\n",
        "\n",
        "* When we say that tuples are ordered, it means that the items have a defined order, and that order will not change.\n",
        "\n",
        "* Tuples are unchangeable, meaning that we cannot change, add or remove items after the tuple has been created.\n",
        "\n",
        "* Since tuples are indexed, they can have items with the same value.\n",
        "\n",
        "* It is also possible to use the tuple() constructor to make a tuple.\n"
      ],
      "metadata": {
        "id": "GCo15PXcK4X2"
      }
    },
    {
      "cell_type": "code",
      "source": [
        "Tuple1=('name','place','animal','thing')\n",
        "print(Tuple1)"
      ],
      "metadata": {
        "id": "GTquUXKqWnGM",
        "colab": {
          "base_uri": "https://localhost:8080/"
        },
        "outputId": "2dbe2c8d-1aa1-4e8f-9771-977c27f04c53"
      },
      "execution_count": null,
      "outputs": [
        {
          "output_type": "stream",
          "name": "stdout",
          "text": [
            "('name', 'place', 'animal', 'thing')\n"
          ]
        }
      ]
    },
    {
      "cell_type": "markdown",
      "source": [
        "We can find length of tuple using len() method."
      ],
      "metadata": {
        "id": "ulEqkRJaW38m"
      }
    },
    {
      "cell_type": "code",
      "source": [
        "print(len(Tuple1))"
      ],
      "metadata": {
        "id": "GyvMraZsW8xb",
        "colab": {
          "base_uri": "https://localhost:8080/"
        },
        "outputId": "7a2fdb12-65c9-48f9-ed95-a482ecaf2694"
      },
      "execution_count": null,
      "outputs": [
        {
          "output_type": "stream",
          "name": "stdout",
          "text": [
            "4\n"
          ]
        }
      ]
    },
    {
      "cell_type": "markdown",
      "source": [
        "**Create tuple with one item**\n",
        "\n",
        "To create a tuple with only one item, you have to add a comma after the item, otherwise Python will not recognize it as a tuple."
      ],
      "metadata": {
        "id": "ziJQpf53XNlw"
      }
    },
    {
      "cell_type": "code",
      "source": [
        "thistuple = (\"Steve Jobs\",)\n",
        "print(type(thistuple))\n",
        "\n",
        "#NOT a tuple\n",
        "thistuple = (\"Steve Jobs\")\n",
        "print(type(thistuple))"
      ],
      "metadata": {
        "id": "f8WU6mXGXfP_",
        "colab": {
          "base_uri": "https://localhost:8080/"
        },
        "outputId": "6f638f1a-9e16-4219-e8de-b12e581ff596"
      },
      "execution_count": null,
      "outputs": [
        {
          "output_type": "stream",
          "name": "stdout",
          "text": [
            "<class 'tuple'>\n",
            "<class 'str'>\n"
          ]
        }
      ]
    },
    {
      "cell_type": "markdown",
      "source": [
        "**Tuple Items - Data Types**\n",
        "\n",
        "* Tuple items can be of any data type.\n",
        "\n",
        "* A tuple can contain different data types."
      ],
      "metadata": {
        "id": "3X0DPmi9Xwjt"
      }
    },
    {
      "cell_type": "code",
      "source": [
        "#example\n",
        "my_tuple=(\"True\",True,1,1-1j)"
      ],
      "metadata": {
        "id": "KKWH8wxWX8k0"
      },
      "execution_count": null,
      "outputs": []
    },
    {
      "cell_type": "markdown",
      "source": [
        "**Access tuples items**\n",
        "\n",
        "* You can access tuple items by referring to the index number, inside square brackets.\n",
        "* The first item has index 0."
      ],
      "metadata": {
        "id": "7TxQO1BJYcu-"
      }
    },
    {
      "cell_type": "code",
      "source": [
        "print(my_tuple[2])         #using index\n",
        "print(my_tuple[-2])       #using negative indexing\n",
        "print(my_tuple[1:3])      #using range of indexes\n",
        "print(my_tuple[:2])        #By leaving out the start value, the range will start at the first item\n",
        "print(my_tuple[2:])        #By leaving out the end value, the range will go on to the end of the list\n",
        "print(my_tuple[-4:-1])      #for a range of negative indexes"
      ],
      "metadata": {
        "id": "MfjlyIHJYvaW",
        "colab": {
          "base_uri": "https://localhost:8080/"
        },
        "outputId": "0e7d4e4f-29b4-4f6e-9de5-b8f47a1315ae"
      },
      "execution_count": null,
      "outputs": [
        {
          "output_type": "stream",
          "name": "stdout",
          "text": [
            "1\n",
            "1\n",
            "(True, 1)\n",
            "('True', True)\n",
            "(1, (1-1j))\n",
            "('True', True, 1)\n"
          ]
        }
      ]
    },
    {
      "cell_type": "markdown",
      "source": [
        "**Check if an item exists in tuple**\n",
        "\n",
        "To determine if a specified item is present in a tuple use the in keyword.\n"
      ],
      "metadata": {
        "id": "Jyr_es2LaYi2"
      }
    },
    {
      "cell_type": "code",
      "source": [
        "print(True in my_tuple)      #return either true or false based on whether the item exists or not"
      ],
      "metadata": {
        "id": "QTvSqduJagWD",
        "colab": {
          "base_uri": "https://localhost:8080/"
        },
        "outputId": "192c7302-f279-47ca-ee46-edf587c7c4cb"
      },
      "execution_count": null,
      "outputs": [
        {
          "output_type": "stream",
          "name": "stdout",
          "text": [
            "True\n"
          ]
        }
      ]
    },
    {
      "cell_type": "markdown",
      "source": [
        "**Update Tuples**\n",
        "\n",
        "Once a tuple is created, you cannot change its values. Tuples are unchangeable, or immutable as it also is called.\n",
        "\n",
        "But there is a workaround. You can convert the tuple into a list, change the list, and convert the list back into a tuple."
      ],
      "metadata": {
        "id": "hkXY31aubapW"
      }
    },
    {
      "cell_type": "code",
      "source": [
        "x=('cat','bat','rat')\n",
        "z=[]\n",
        "for each in x:\n",
        "    z.append(each)\n",
        "z[1]='hat'\n",
        "x=tuple(z)\n",
        "print(x)"
      ],
      "metadata": {
        "id": "Z00a4NEpc8j2",
        "colab": {
          "base_uri": "https://localhost:8080/"
        },
        "outputId": "0362a839-5fc4-4e24-a5d7-f68cd2a70cd9"
      },
      "execution_count": null,
      "outputs": [
        {
          "output_type": "stream",
          "name": "stdout",
          "text": [
            "('cat', 'hat', 'rat')\n"
          ]
        }
      ]
    },
    {
      "cell_type": "markdown",
      "source": [
        "**Add items to tuples**\n",
        "\n",
        "Since tuples are immutable, they do not have a build-in append() method, but there are other ways to add items to a tuple.\n",
        "\n",
        "1. *Convert into a list*: Just like the workaround for changing a tuple, you can convert it into a list, add your item(s), and convert it back into a tuple."
      ],
      "metadata": {
        "id": "t6LbiAbjdVf0"
      }
    },
    {
      "cell_type": "code",
      "source": [
        "x=('cat','bat','rat')\n",
        "z=[]\n",
        "for each in x:\n",
        "    z.append(each)\n",
        "z.append('hat')\n",
        "x=tuple(z)\n",
        "print(x)"
      ],
      "metadata": {
        "id": "bwFh2Te6dojK",
        "colab": {
          "base_uri": "https://localhost:8080/"
        },
        "outputId": "626263bc-784c-4590-e632-e487a30cf820"
      },
      "execution_count": null,
      "outputs": [
        {
          "output_type": "stream",
          "name": "stdout",
          "text": [
            "('cat', 'bat', 'rat', 'hat')\n"
          ]
        }
      ]
    },
    {
      "cell_type": "markdown",
      "source": [
        "2. Add tuple to a tuple. You are allowed to add tuples to tuples, so if you want to add one item, (or many), create a new tuple with the item(s), and add it to the existing tuple."
      ],
      "metadata": {
        "id": "3WQIilSPd_cE"
      }
    },
    {
      "cell_type": "code",
      "source": [
        "x = (\"cat\", \"bat\", \"rat\")\n",
        "z = (\"hat\",)\n",
        "x += z\n",
        "\n",
        "print(x)"
      ],
      "metadata": {
        "id": "FHQV9hu3eDOZ",
        "colab": {
          "base_uri": "https://localhost:8080/"
        },
        "outputId": "0ea2784d-814e-4fbb-ef13-a4f5ba0cb4e9"
      },
      "execution_count": null,
      "outputs": [
        {
          "output_type": "stream",
          "name": "stdout",
          "text": [
            "('cat', 'bat', 'rat', 'hat')\n"
          ]
        }
      ]
    },
    {
      "cell_type": "markdown",
      "source": [
        "**Remove items from tuple**\n",
        "\n",
        "Tuples are unchangeable, so you cannot remove items from it, but you can use the same workaround as we used for changing and adding tuple items."
      ],
      "metadata": {
        "id": "iv2CX_1NeNoO"
      }
    },
    {
      "cell_type": "code",
      "source": [
        "x=('cat','bat','rat')\n",
        "p=[]\n",
        "for each in x:\n",
        "    p.append(each)\n",
        "p.remove('cat')\n",
        "x=tuple(p)\n",
        "print(x)"
      ],
      "metadata": {
        "colab": {
          "base_uri": "https://localhost:8080/"
        },
        "id": "4vUHL_t6v5O0",
        "outputId": "cd45f79f-720f-4c4a-84bc-b2fcd651eb84"
      },
      "execution_count": null,
      "outputs": [
        {
          "output_type": "stream",
          "name": "stdout",
          "text": [
            "('bat', 'rat')\n"
          ]
        }
      ]
    },
    {
      "cell_type": "markdown",
      "source": [
        "Or you can delete the tuple completely.The del keyword can delete the tuple completely."
      ],
      "metadata": {
        "id": "dsEERUKDeyG4"
      }
    },
    {
      "cell_type": "code",
      "source": [
        "x = (\"cat\", \"bat\", \"rat\")\n",
        "del x"
      ],
      "metadata": {
        "id": "vEfvo1LzezGg"
      },
      "execution_count": null,
      "outputs": []
    },
    {
      "cell_type": "markdown",
      "source": [
        "**Unpack Tuples**\n",
        "\n",
        "When we create a tuple, we normally assign values to it. This is called \"packing\" a tuple.\n",
        "But, in Python, we are also allowed to extract the values back into variables. This is called \"unpacking\""
      ],
      "metadata": {
        "id": "XIDuqpebfEdE"
      }
    },
    {
      "cell_type": "code",
      "source": [
        "animals=('lion','zebra','monkey')\n",
        "(lion,zebra,monkey) = animals\n",
        "print(lion)\n",
        "print(zebra)\n",
        "print(monkey)"
      ],
      "metadata": {
        "id": "eaTDVNa4fQnJ",
        "colab": {
          "base_uri": "https://localhost:8080/"
        },
        "outputId": "645e15fc-cf3b-4296-9f26-c6ce961342e3"
      },
      "execution_count": null,
      "outputs": [
        {
          "output_type": "stream",
          "name": "stdout",
          "text": [
            "lion\n",
            "zebra\n",
            "monkey\n"
          ]
        }
      ]
    },
    {
      "cell_type": "markdown",
      "source": [
        "**Using asterik '*' to unpack**\n",
        "\n",
        "If the number of variables is less than the number of values, you can add an * to the variable name and the values will be assigned to the variable as a list."
      ],
      "metadata": {
        "id": "J3ci2oR5fwl8"
      }
    },
    {
      "cell_type": "code",
      "source": [
        "#Assign the rest of the values as a list called \"wild\"\n",
        "animals=('lion','zebra','monkey','tiger','bear')\n",
        "(lion,zebra,*wild) = animals\n",
        "print(lion)\n",
        "print(zebra)\n",
        "print(wild)"
      ],
      "metadata": {
        "id": "spbi5szmgQAJ",
        "colab": {
          "base_uri": "https://localhost:8080/"
        },
        "outputId": "48a2ad32-58a6-4e5c-aa8e-d82931441469"
      },
      "execution_count": null,
      "outputs": [
        {
          "output_type": "stream",
          "name": "stdout",
          "text": [
            "lion\n",
            "zebra\n",
            "['monkey', 'tiger', 'bear']\n"
          ]
        }
      ]
    },
    {
      "cell_type": "markdown",
      "source": [
        "If the asterisk is added to another variable name than the last, Python will assign values to the variable until the number of values left matches the number of variables left."
      ],
      "metadata": {
        "id": "Utmd-KOogorK"
      }
    },
    {
      "cell_type": "code",
      "source": [
        "#Add a list of values the \"tropic\" variable\n",
        "animals=('lion','zebra','monkey','tiger','bear')\n",
        "(lion,*tropic,bear) = animals\n",
        "print(lion)\n",
        "print(tropic)\n",
        "print(bear)"
      ],
      "metadata": {
        "id": "Q6-NgZKTgwFr",
        "colab": {
          "base_uri": "https://localhost:8080/"
        },
        "outputId": "4f7d2f55-6ee4-4461-ab42-8d8cc385f935"
      },
      "execution_count": null,
      "outputs": [
        {
          "output_type": "stream",
          "name": "stdout",
          "text": [
            "lion\n",
            "['zebra', 'monkey', 'tiger']\n",
            "bear\n"
          ]
        }
      ]
    },
    {
      "cell_type": "markdown",
      "source": [
        "**Join Tuples**\n",
        "\n",
        "To join two or more tuples you can use the + operator."
      ],
      "metadata": {
        "id": "iGMKtar9iQcU"
      }
    },
    {
      "cell_type": "code",
      "source": [
        "t1=(\"S\",\"K\",\"Y\")\n",
        "t2=(87,39)\n",
        "t3= t1 + t2\n",
        "print(t3)    #creating a new tuple\n",
        "print(t1+t2)    #printing both tuples together"
      ],
      "metadata": {
        "id": "tdx2Lqa7mrLL",
        "colab": {
          "base_uri": "https://localhost:8080/"
        },
        "outputId": "6d5b1aa4-9682-453c-d714-cff78bb72135"
      },
      "execution_count": null,
      "outputs": [
        {
          "output_type": "stream",
          "name": "stdout",
          "text": [
            "('S', 'K', 'Y', 87, 39)\n",
            "('S', 'K', 'Y', 87, 39)\n"
          ]
        }
      ]
    },
    {
      "cell_type": "markdown",
      "source": [
        "If you want to multiply the content of a tuple a given number of times, you can use the * operator."
      ],
      "metadata": {
        "id": "RTeW3_mfncpd"
      }
    },
    {
      "cell_type": "code",
      "source": [
        "t4=t1*2\n",
        "print(t4)    #creating a new tuple\n",
        "print(t2*2)         #just printing the specified tuple twice"
      ],
      "metadata": {
        "id": "_VCcA3xOnaQR",
        "colab": {
          "base_uri": "https://localhost:8080/"
        },
        "outputId": "3ef6c056-26be-4b6a-8382-f575ba9953ea"
      },
      "execution_count": null,
      "outputs": [
        {
          "output_type": "stream",
          "name": "stdout",
          "text": [
            "('S', 'K', 'Y', 'S', 'K', 'Y')\n",
            "(87, 39, 87, 39)\n"
          ]
        }
      ]
    },
    {
      "cell_type": "markdown",
      "source": [
        "## Sets\n",
        "* Sets are used to store multiple items in a single variable.\n",
        "\n",
        "* Set is one of 4 built-in data types in Python used to store collections of data, the other 3 are List, Tuple, and Dictionary, all with different qualities and usage.\n",
        "\n",
        "* A set is a collection which is unordered and unindexed.\n",
        "* Set items are unchangeable, but you can remove items and add new items.\n",
        "* Sets are written with curly brackets.\n",
        "* Once a set is created, you cannot change its items, but you can remove items and add new items.\n",
        "* Sets cannot have two items with the same value.\n",
        "* To determine how many items a set has, use the len() function.\n",
        "* Set items can be of any data type.\n",
        "* A set can contain different data types.\n",
        "* It is also possible to use the set() constructor to make a set.\n",
        "\n",
        " example :animals={'lion','zebra','monkey','tiger','bear'}\n",
        "\n",
        " * Once a set is created, you cannot change its items, but you can add new items."
      ],
      "metadata": {
        "id": "0A5MiZFvnxo3"
      }
    },
    {
      "cell_type": "code",
      "source": [
        "animals={'lion','zebra','monkey','tiger','bear'}\n",
        "print(type(animals))\n",
        "\n",
        "print(len(animals))\n",
        "\n",
        "my_set={\"abc\",False,39,87.9}\n",
        "print(my_set)\n",
        "\n",
        "thisset = set((\"apple\", \"banana\", \"cherry\")) # note the double round-brackets\n",
        "print(thisset)"
      ],
      "metadata": {
        "id": "w32Bu25Rn9Ln",
        "colab": {
          "base_uri": "https://localhost:8080/"
        },
        "outputId": "d301982b-15a5-42a4-aad2-3396c4cd402a"
      },
      "execution_count": null,
      "outputs": [
        {
          "output_type": "stream",
          "name": "stdout",
          "text": [
            "<class 'set'>\n",
            "5\n",
            "{False, 'abc', 87.9, 39}\n",
            "{'banana', 'apple', 'cherry'}\n"
          ]
        }
      ]
    },
    {
      "cell_type": "markdown",
      "source": [
        "**Access items of a set**\n",
        "\n",
        "You cannot access items in a set by referring to an index or a key.\n",
        "\n",
        "But you can loop through the set items using a for loop, or ask if a specified value is present in a set, by using the 'in' keyword."
      ],
      "metadata": {
        "id": "wiEdFxn_61V-"
      }
    },
    {
      "cell_type": "code",
      "source": [
        "my_set={\"abc\",False,39,87.9}\n",
        "for x in my_set:\n",
        "  print(x)"
      ],
      "metadata": {
        "id": "0doqdz6E7AtG",
        "colab": {
          "base_uri": "https://localhost:8080/"
        },
        "outputId": "ff500c0b-6ed8-4dbf-c249-9b0f6ac32986"
      },
      "execution_count": null,
      "outputs": [
        {
          "output_type": "stream",
          "name": "stdout",
          "text": [
            "False\n",
            "abc\n",
            "87.9\n",
            "39\n"
          ]
        }
      ]
    },
    {
      "cell_type": "markdown",
      "source": [
        "**Add items in set**\n",
        "\n",
        "Once a set is created, you cannot change its items, but you can add new items.\n",
        "\n",
        "To add one item to a set use the **add()** method."
      ],
      "metadata": {
        "id": "J68VJJiZ8JXS"
      }
    },
    {
      "cell_type": "code",
      "source": [
        "animals={'lion','zebra','monkey','tiger','bear'}\n",
        "animals.add(\"giraffe\")\n",
        "print(animals)"
      ],
      "metadata": {
        "id": "eASXv8uW8t5t",
        "colab": {
          "base_uri": "https://localhost:8080/"
        },
        "outputId": "06a74c93-b0bd-4a3b-e52e-588abbfc0a58"
      },
      "execution_count": null,
      "outputs": [
        {
          "output_type": "stream",
          "name": "stdout",
          "text": [
            "{'bear', 'zebra', 'tiger', 'lion', 'monkey', 'giraffe'}\n"
          ]
        }
      ]
    },
    {
      "cell_type": "code",
      "source": [
        "#we can add two different sets as well using update() method\n",
        "fruits={\"apple\",\"mango\",\"banana\",\"grapes\",\"watermelon\"}\n",
        "animals.update(fruits)\n",
        "print(animals)"
      ],
      "metadata": {
        "id": "KGvwLOpT9VQn",
        "colab": {
          "base_uri": "https://localhost:8080/"
        },
        "outputId": "3bdee0cf-4b6c-4204-911e-ded070d38d97"
      },
      "execution_count": null,
      "outputs": [
        {
          "output_type": "stream",
          "name": "stdout",
          "text": [
            "{'bear', 'apple', 'zebra', 'tiger', 'watermelon', 'lion', 'banana', 'monkey', 'grapes', 'mango', 'giraffe'}\n"
          ]
        }
      ]
    },
    {
      "cell_type": "markdown",
      "source": [
        "**Remove items from set**\n",
        "\n",
        "To remove an item in a set, use the **remove()**, or the **discard()** method.\n",
        "\n",
        "If the item to remove does not exist, remove() will raise an error."
      ],
      "metadata": {
        "id": "s-U-WXIf-fg6"
      }
    },
    {
      "cell_type": "code",
      "source": [
        "#remove giraffe from animals\n",
        "animals.discard(\"giraffe\")\n",
        "print(animals)"
      ],
      "metadata": {
        "id": "xQpSjG-Y-5ZB",
        "colab": {
          "base_uri": "https://localhost:8080/"
        },
        "outputId": "e9ee818e-82c0-4f81-e43b-cad663398bb4"
      },
      "execution_count": null,
      "outputs": [
        {
          "output_type": "stream",
          "name": "stdout",
          "text": [
            "{'bear', 'apple', 'zebra', 'tiger', 'watermelon', 'lion', 'banana', 'monkey', 'grapes', 'mango'}\n"
          ]
        }
      ]
    },
    {
      "cell_type": "markdown",
      "source": [
        "If the item to remove does not exist, **discard()** will NOT raise an error.\n",
        "\n",
        "You can also use the **pop()** method to remove an item, but this method will remove the last item. Remember that sets are unordered, so you will not know what item that gets removed.\n",
        "\n",
        "The return value of the **pop()** method is the removed item.\n",
        "\n",
        "Sets are unordered, so when using the pop() method, you do not know which item that gets removed."
      ],
      "metadata": {
        "id": "aM8Q2n07Alza"
      }
    },
    {
      "cell_type": "code",
      "source": [
        "x=animals.pop()\n",
        "print(x)"
      ],
      "metadata": {
        "id": "ypnoA9soBTNZ",
        "colab": {
          "base_uri": "https://localhost:8080/"
        },
        "outputId": "7dc729e5-bbbe-4f3b-fced-f3de2ff6494f"
      },
      "execution_count": null,
      "outputs": [
        {
          "output_type": "stream",
          "name": "stdout",
          "text": [
            "bear\n"
          ]
        }
      ]
    },
    {
      "cell_type": "markdown",
      "source": [
        "The **clear()** method empties the set."
      ],
      "metadata": {
        "id": "MgLGN3pmBc4b"
      }
    },
    {
      "cell_type": "code",
      "source": [
        "fruits.clear()\n",
        "print(fruits)"
      ],
      "metadata": {
        "id": "U_eSKE9hBgZc",
        "colab": {
          "base_uri": "https://localhost:8080/"
        },
        "outputId": "2523fbf5-48a1-427b-96c3-cf82cbe84e88"
      },
      "execution_count": null,
      "outputs": [
        {
          "output_type": "stream",
          "name": "stdout",
          "text": [
            "set()\n"
          ]
        }
      ]
    },
    {
      "cell_type": "markdown",
      "source": [
        "The del keyword will delete the set completely."
      ],
      "metadata": {
        "id": "SJSlB8GCBqnF"
      }
    },
    {
      "cell_type": "code",
      "source": [
        "del fruits\n",
        "print(fruits)    #this will raise an error because the set no longer exists"
      ],
      "metadata": {
        "id": "jITcAZ3nBtJu",
        "colab": {
          "base_uri": "https://localhost:8080/",
          "height": 182
        },
        "outputId": "6f51cb14-2b8b-4302-ecf8-88f5370643e6"
      },
      "execution_count": null,
      "outputs": [
        {
          "output_type": "error",
          "ename": "NameError",
          "evalue": "ignored",
          "traceback": [
            "\u001b[0;31m---------------------------------------------------------------------------\u001b[0m",
            "\u001b[0;31mNameError\u001b[0m                                 Traceback (most recent call last)",
            "\u001b[0;32m<ipython-input-267-045a5c3efd30>\u001b[0m in \u001b[0;36m<module>\u001b[0;34m\u001b[0m\n\u001b[1;32m      1\u001b[0m \u001b[0;32mdel\u001b[0m \u001b[0mfruits\u001b[0m\u001b[0;34m\u001b[0m\u001b[0;34m\u001b[0m\u001b[0m\n\u001b[0;32m----> 2\u001b[0;31m \u001b[0mprint\u001b[0m\u001b[0;34m(\u001b[0m\u001b[0mfruits\u001b[0m\u001b[0;34m)\u001b[0m    \u001b[0;31m#this will raise an error because the set no longer exists\u001b[0m\u001b[0;34m\u001b[0m\u001b[0;34m\u001b[0m\u001b[0m\n\u001b[0m",
            "\u001b[0;31mNameError\u001b[0m: name 'fruits' is not defined"
          ]
        }
      ]
    },
    {
      "cell_type": "markdown",
      "source": [
        "**Join Sets**\n",
        "\n",
        "There are several ways to join two or more sets in Python.\n",
        "\n",
        "You can use the union() method that returns a new set containing all items from both sets, or the update() method that inserts all the items from one set into another.\n",
        "\n",
        "The **union()** method returns a new set with all items from both sets.\n",
        "\n",
        "The **update()** method inserts the items from one set to another.\n",
        "\n",
        "Both union() and update() will exclude any duplicate items."
      ],
      "metadata": {
        "id": "x9HqPuayC9nn"
      }
    },
    {
      "cell_type": "code",
      "source": [
        "set1 = {\"S\", \"K\" , \"Y\"}\n",
        "set2 = {87, 39}\n",
        "\n",
        "set3 = set1.union(set2)\n",
        "print(set3)\n",
        "\n",
        "set1.update(set2)\n",
        "print(set1)"
      ],
      "metadata": {
        "id": "qt5MLrawENES",
        "colab": {
          "base_uri": "https://localhost:8080/"
        },
        "outputId": "8acb0934-07f5-4134-e1ba-355a7d0ad5b1"
      },
      "execution_count": null,
      "outputs": [
        {
          "output_type": "stream",
          "name": "stdout",
          "text": [
            "{'S', 87, 39, 'K', 'Y'}\n",
            "{'S', 87, 39, 'K', 'Y'}\n"
          ]
        }
      ]
    },
    {
      "cell_type": "markdown",
      "source": [
        "# Dictionary\n",
        "\n",
        "* Dictionaries are used to store data values in **key:value** pairs.\n",
        "\n",
        "* A dictionary is a collection which is ordered*, changeable and do not allow duplicates.\n",
        "\n",
        "* Dictionaries are written with curly brackets, and have keys and values.\n",
        "\n",
        "example:\n",
        "\n",
        "my_dict={\"good\":\"bad\",\"sharp\":\"blunt\",\"new\":\"old\",\"hard\":\"soft\"}\n",
        "\n",
        "* When we say that dictionaries are ordered, it means that the items have a defined order, and that order will not change.\n",
        "\n",
        "* Unordered means that the items does not have a defined order, you cannot refer to an item by using an index.\n",
        "\n",
        "* Dictionaries are changeable, meaning that we can change, add or remove items after the dictionary has been created.\n",
        "\n",
        "* Dictionaries cannot have two items with the same key.\n",
        "\n",
        "* To determine how many items a dictionary has, use the len() function.\n",
        "\n",
        "* The values in dictionary items can be of any data type.\n",
        "\n",
        "* From Python's perspective, dictionaries are defined as objects with the data type 'dict'."
      ],
      "metadata": {
        "id": "kCNI16-8E160"
      }
    },
    {
      "cell_type": "code",
      "source": [
        "my_dict={\"good\":\"bad\",\"sharp\":\"blunt\",\"new\":\"old\",\"hard\":\"soft\"}\n",
        "print(my_dict)"
      ],
      "metadata": {
        "id": "rbbXAT6EJWxB",
        "colab": {
          "base_uri": "https://localhost:8080/"
        },
        "outputId": "e169745b-4316-45f5-c360-344f85189d8e"
      },
      "execution_count": null,
      "outputs": [
        {
          "output_type": "stream",
          "name": "stdout",
          "text": [
            "{'good': 'bad', 'sharp': 'blunt', 'new': 'old', 'hard': 'soft'}\n"
          ]
        }
      ]
    },
    {
      "cell_type": "code",
      "source": [
        "my_dict={\"good\":\"bad\",\"sharp\":\"blunt\",\"new\":\"old\",\"hard\":\"soft\",\"good\":\"wicked\"}\n",
        "print(my_dict)\n",
        "\n",
        "print(len(my_dict))"
      ],
      "metadata": {
        "id": "tGYJnjqIJtet",
        "colab": {
          "base_uri": "https://localhost:8080/"
        },
        "outputId": "1e261c89-57b2-4295-b739-716a81b0d2dd"
      },
      "execution_count": null,
      "outputs": [
        {
          "output_type": "stream",
          "name": "stdout",
          "text": [
            "{'good': 'wicked', 'sharp': 'blunt', 'new': 'old', 'hard': 'soft'}\n",
            "4\n"
          ]
        }
      ]
    },
    {
      "cell_type": "markdown",
      "source": [
        "# Accessing items of Dictionary\n",
        "\n",
        "* You can access the items of a dictionary by referring to its key name, inside square brackets.\n",
        "\n",
        "* There is also a method called get() that will give you the same result."
      ],
      "metadata": {
        "id": "NqrKu804SZ02"
      }
    },
    {
      "cell_type": "code",
      "source": [
        "print(my_dict['new'])\n",
        "\n",
        "x = my_dict.get(\"good\")\n",
        "print(x)\n",
        "\n",
        "\n",
        "y = my_dict.keys()\n",
        "print(y)"
      ],
      "metadata": {
        "id": "h1ueQjdKS95w",
        "colab": {
          "base_uri": "https://localhost:8080/"
        },
        "outputId": "bbeea99c-dd13-4eb1-96cd-5778ec985bed"
      },
      "execution_count": null,
      "outputs": [
        {
          "output_type": "stream",
          "name": "stdout",
          "text": [
            "old\n",
            "wicked\n",
            "dict_keys(['good', 'sharp', 'new', 'hard'])\n"
          ]
        }
      ]
    },
    {
      "cell_type": "markdown",
      "source": [
        "**Change values**\n",
        "\n",
        "You can change the value of a specific item by referring to its key name.\n"
      ],
      "metadata": {
        "id": "QfDtuVdJUzaH"
      }
    },
    {
      "cell_type": "code",
      "source": [
        "thisdict={\"name\":\"abc\",\"class\":00,\"roll no\":87,\"year\":2022}\n",
        "thisdict[\"year\"] = 2018\n",
        "print(thisdict)"
      ],
      "metadata": {
        "id": "l95K0YD5U98N",
        "colab": {
          "base_uri": "https://localhost:8080/"
        },
        "outputId": "73cc0733-d0c9-4390-b307-1d2e4a8d0e77"
      },
      "execution_count": null,
      "outputs": [
        {
          "output_type": "stream",
          "name": "stdout",
          "text": [
            "{'name': 'abc', 'class': 0, 'roll no': 87, 'year': 2018}\n"
          ]
        }
      ]
    },
    {
      "cell_type": "markdown",
      "source": [
        "The **update()** method will update the dictionary with the items from the given argument.\n",
        "\n",
        "The argument must be a dictionary, or an iterable object with key:value pairs."
      ],
      "metadata": {
        "id": "U41nmh5TWOrm"
      }
    },
    {
      "cell_type": "code",
      "source": [
        "thisdict.update({\"year\": 2020})\n",
        "print(thisdict)"
      ],
      "metadata": {
        "id": "sCHkQJUsWRQh",
        "colab": {
          "base_uri": "https://localhost:8080/"
        },
        "outputId": "373799e4-d9b3-4a20-a5a5-48eb218ec432"
      },
      "execution_count": null,
      "outputs": [
        {
          "output_type": "stream",
          "name": "stdout",
          "text": [
            "{'name': 'abc', 'class': 0, 'roll no': 87, 'year': 2020}\n"
          ]
        }
      ]
    },
    {
      "cell_type": "markdown",
      "source": [
        "**Adding items**\n",
        "\n",
        "Adding an item to the dictionary is done by using a new index key and assigning a value to it.\n"
      ],
      "metadata": {
        "id": "73qiKqiRWZJA"
      }
    },
    {
      "cell_type": "code",
      "source": [
        "thisdict[\"color\"] = \"red\"\n",
        "print(thisdict)"
      ],
      "metadata": {
        "id": "6qknrGLnWhSh",
        "colab": {
          "base_uri": "https://localhost:8080/"
        },
        "outputId": "3d390359-9a34-450a-edc9-2bea52def825"
      },
      "execution_count": null,
      "outputs": [
        {
          "output_type": "stream",
          "name": "stdout",
          "text": [
            "{'name': 'abc', 'class': 0, 'roll no': 87, 'year': 2020, 'color': 'red'}\n"
          ]
        }
      ]
    },
    {
      "cell_type": "markdown",
      "source": [
        "**Removing items**\n",
        "\n",
        "The **pop()** method removes the item with the specified key name.\n"
      ],
      "metadata": {
        "id": "PydN6Md4XJoa"
      }
    },
    {
      "cell_type": "code",
      "source": [
        "thisdict.pop(\"name\")\n",
        "print(thisdict)"
      ],
      "metadata": {
        "id": "wqaGWHTsXnoN",
        "colab": {
          "base_uri": "https://localhost:8080/"
        },
        "outputId": "0cf8bee7-7ed9-4160-df91-46cae438e9a6"
      },
      "execution_count": null,
      "outputs": [
        {
          "output_type": "stream",
          "name": "stdout",
          "text": [
            "{'class': 0, 'roll no': 87, 'year': 2020, 'color': 'red'}\n"
          ]
        }
      ]
    },
    {
      "cell_type": "markdown",
      "source": [
        "The **popitem()** method removes the last inserted item (in versions before 3.7, a random item is removed instead."
      ],
      "metadata": {
        "id": "gl9fUTNzX5F0"
      }
    },
    {
      "cell_type": "code",
      "source": [
        "thisdict.popitem()\n",
        "print(thisdict)"
      ],
      "metadata": {
        "id": "YrBHwf95X_hb",
        "colab": {
          "base_uri": "https://localhost:8080/"
        },
        "outputId": "6b2a0601-809e-4877-fa49-0680176877da"
      },
      "execution_count": null,
      "outputs": [
        {
          "output_type": "stream",
          "name": "stdout",
          "text": [
            "{'class': 0, 'roll no': 87, 'year': 2020}\n"
          ]
        }
      ]
    },
    {
      "cell_type": "markdown",
      "source": [
        "The **clear()** method empties the dictionary."
      ],
      "metadata": {
        "id": "QYFX22GMYFQb"
      }
    },
    {
      "cell_type": "code",
      "source": [
        "thisdict.clear()\n",
        "print(thisdict)"
      ],
      "metadata": {
        "id": "1CVMrceiYGT0",
        "colab": {
          "base_uri": "https://localhost:8080/"
        },
        "outputId": "e12527c7-eadc-4641-97a6-24d1f2c8857a"
      },
      "execution_count": null,
      "outputs": [
        {
          "output_type": "stream",
          "name": "stdout",
          "text": [
            "{}\n"
          ]
        }
      ]
    },
    {
      "cell_type": "markdown",
      "source": [
        "The **del** keyword removes the item with the specified key name."
      ],
      "metadata": {
        "id": "y7hfoxUtYPHr"
      }
    },
    {
      "cell_type": "code",
      "source": [
        "del thisdict\n",
        "print(thisdict)"
      ],
      "metadata": {
        "id": "R0075C9cYbGs",
        "colab": {
          "base_uri": "https://localhost:8080/",
          "height": 182
        },
        "outputId": "10d8e86d-4b48-4916-9048-333f6223a5c1"
      },
      "execution_count": null,
      "outputs": [
        {
          "output_type": "error",
          "ename": "NameError",
          "evalue": "ignored",
          "traceback": [
            "\u001b[0;31m---------------------------------------------------------------------------\u001b[0m",
            "\u001b[0;31mNameError\u001b[0m                                 Traceback (most recent call last)",
            "\u001b[0;32m<ipython-input-278-ad193cd02359>\u001b[0m in \u001b[0;36m<module>\u001b[0;34m\u001b[0m\n\u001b[1;32m      1\u001b[0m \u001b[0;32mdel\u001b[0m \u001b[0mthisdict\u001b[0m\u001b[0;34m\u001b[0m\u001b[0;34m\u001b[0m\u001b[0m\n\u001b[0;32m----> 2\u001b[0;31m \u001b[0mprint\u001b[0m\u001b[0;34m(\u001b[0m\u001b[0mthisdict\u001b[0m\u001b[0;34m)\u001b[0m\u001b[0;34m\u001b[0m\u001b[0;34m\u001b[0m\u001b[0m\n\u001b[0m",
            "\u001b[0;31mNameError\u001b[0m: name 'thisdict' is not defined"
          ]
        }
      ]
    },
    {
      "cell_type": "markdown",
      "source": [
        "# Loop through Dictionary\n",
        "You can loop through a dictionary by using a for loop.\n",
        "\n",
        "When looping through a dictionary, the return value are the keys of the dictionary, but there are methods to return the values as well."
      ],
      "metadata": {
        "id": "B9J_7khya_Nu"
      }
    },
    {
      "cell_type": "code",
      "source": [
        "for x in my_dict:\n",
        "  print(x)"
      ],
      "metadata": {
        "id": "0SGDpTqKbLxZ",
        "colab": {
          "base_uri": "https://localhost:8080/"
        },
        "outputId": "ff7a2929-a1d0-402a-f4b2-47172b3e9bfe"
      },
      "execution_count": null,
      "outputs": [
        {
          "output_type": "stream",
          "name": "stdout",
          "text": [
            "good\n",
            "sharp\n",
            "new\n",
            "hard\n"
          ]
        }
      ]
    },
    {
      "cell_type": "markdown",
      "source": [
        "Print all values in the dictionary, one by one."
      ],
      "metadata": {
        "id": "bC54Q8n7cB9d"
      }
    },
    {
      "cell_type": "code",
      "source": [
        "for x in my_dict:\n",
        "  print(my_dict[x])"
      ],
      "metadata": {
        "id": "gAiqRVmgcDMD",
        "colab": {
          "base_uri": "https://localhost:8080/"
        },
        "outputId": "2e8fa43f-2802-4980-fdf1-4b13ba97bc9e"
      },
      "execution_count": null,
      "outputs": [
        {
          "output_type": "stream",
          "name": "stdout",
          "text": [
            "wicked\n",
            "blunt\n",
            "old\n",
            "soft\n"
          ]
        }
      ]
    },
    {
      "cell_type": "markdown",
      "source": [
        "You can also use the **values()** method to return values of a dictionary."
      ],
      "metadata": {
        "id": "0wj6tozOcYcl"
      }
    },
    {
      "cell_type": "code",
      "source": [
        "for x in my_dict.values():\n",
        "  print(x)"
      ],
      "metadata": {
        "id": "cDus4FeuccHs",
        "colab": {
          "base_uri": "https://localhost:8080/"
        },
        "outputId": "ada1b4bf-1d77-42b4-aa09-d9c4b8aa8d91"
      },
      "execution_count": null,
      "outputs": [
        {
          "output_type": "stream",
          "name": "stdout",
          "text": [
            "wicked\n",
            "blunt\n",
            "old\n",
            "soft\n"
          ]
        }
      ]
    },
    {
      "cell_type": "markdown",
      "source": [
        "You can use the **keys()** method to return the keys of a dictionary."
      ],
      "metadata": {
        "id": "iczfY0CAc7KA"
      }
    },
    {
      "cell_type": "code",
      "source": [
        "for x in my_dict.keys():\n",
        "  print(x)"
      ],
      "metadata": {
        "id": "mckS7l7NdNrD",
        "colab": {
          "base_uri": "https://localhost:8080/"
        },
        "outputId": "6aa6068f-082d-4bc7-b11d-e4255cf4d4e3"
      },
      "execution_count": null,
      "outputs": [
        {
          "output_type": "stream",
          "name": "stdout",
          "text": [
            "good\n",
            "sharp\n",
            "new\n",
            "hard\n"
          ]
        }
      ]
    },
    {
      "cell_type": "markdown",
      "source": [
        "Loop through both keys and values, by using the **items()** method."
      ],
      "metadata": {
        "id": "27gZIU8Yda_M"
      }
    },
    {
      "cell_type": "code",
      "source": [
        "for x, y in my_dict.items():\n",
        "  print(x, y)"
      ],
      "metadata": {
        "id": "HIFlFm5Cdi3f",
        "colab": {
          "base_uri": "https://localhost:8080/"
        },
        "outputId": "8bb26f04-2b84-47ea-993f-78cb3a0c2af2"
      },
      "execution_count": null,
      "outputs": [
        {
          "output_type": "stream",
          "name": "stdout",
          "text": [
            "good wicked\n",
            "sharp blunt\n",
            "new old\n",
            "hard soft\n"
          ]
        }
      ]
    },
    {
      "cell_type": "markdown",
      "source": [
        "**Copy a dictionary**\n",
        "\n",
        "You cannot copy a dictionary simply by typing dict2 = dict1, because: dict2 will only be a reference to dict1, and changes made in dict1 will automatically also be made in dict2.\n",
        "\n",
        "There are ways to make a copy, one way is to use the built-in Dictionary method **copy()**."
      ],
      "metadata": {
        "id": "t7QALqNwdvo4"
      }
    },
    {
      "cell_type": "code",
      "source": [
        "thisdict = my_dict.copy()\n",
        "print(thisdict)"
      ],
      "metadata": {
        "id": "Fz472-sCd67O",
        "colab": {
          "base_uri": "https://localhost:8080/"
        },
        "outputId": "472ab4f9-ef8e-4748-f9f4-d3fbd7679139"
      },
      "execution_count": null,
      "outputs": [
        {
          "output_type": "stream",
          "name": "stdout",
          "text": [
            "{'good': 'wicked', 'sharp': 'blunt', 'new': 'old', 'hard': 'soft'}\n"
          ]
        }
      ]
    },
    {
      "cell_type": "markdown",
      "source": [
        "Another way to make a copy is to use the built-in function **dict()**."
      ],
      "metadata": {
        "id": "tfyJB69leEld"
      }
    },
    {
      "cell_type": "code",
      "source": [
        "thisdict = dict(my_dict)\n",
        "print(thisdict)"
      ],
      "metadata": {
        "id": "cxvjA3-weJLy",
        "colab": {
          "base_uri": "https://localhost:8080/"
        },
        "outputId": "fe858924-adcc-4123-d526-ff02fa5b8bbc"
      },
      "execution_count": null,
      "outputs": [
        {
          "output_type": "stream",
          "name": "stdout",
          "text": [
            "{'good': 'wicked', 'sharp': 'blunt', 'new': 'old', 'hard': 'soft'}\n"
          ]
        }
      ]
    },
    {
      "cell_type": "markdown",
      "source": [
        "**Nested Dictionaries**\n",
        "\n",
        "A dictionary can contain dictionaries, this is called nested dictionaries."
      ],
      "metadata": {
        "id": "DIWDzSs8eSwl"
      }
    },
    {
      "cell_type": "code",
      "source": [
        "myfamily={\n",
        "    \"child1\" : {\n",
        "    \"name\" : \"ABC\",\n",
        "    \"year\" : 2001\n",
        "  },\n",
        "  \"child2\" : {\n",
        "    \"name\" : \"DEF\",\n",
        "    \"year\" : 2003\n",
        "  },\n",
        "  \"child3\" : {\n",
        "    \"name\" : \"GHI\",\n",
        "    \"year\" : 2008\n",
        "  }\n",
        "}"
      ],
      "metadata": {
        "id": "Tf-eDoEQeghL"
      },
      "execution_count": null,
      "outputs": []
    },
    {
      "cell_type": "markdown",
      "source": [
        "Or, if you want to add three dictionaries into a new dictionary.\n"
      ],
      "metadata": {
        "id": "edKa1-LlfnAZ"
      }
    },
    {
      "cell_type": "code",
      "source": [
        "child1 = {\n",
        "    \"name\" : \"ABC\",\n",
        "    \"year\" : 2001\n",
        "  }\n",
        "child2 = {\n",
        "    \"name\" : \"DEF\",\n",
        "    \"year\" : 2003\n",
        "  }\n",
        "child3 = {\n",
        "    \"name\" : \"GHI\",\n",
        "    \"year\" : 2008\n",
        "  }\n",
        "\n",
        "myfamily = {\n",
        "  \"child1\" : child1,\n",
        "  \"child2\" : child2,\n",
        "  \"child3\" : child3\n",
        "}\n",
        "\n",
        "print(myfamily)"
      ],
      "metadata": {
        "id": "zhhKs0KDfveS",
        "colab": {
          "base_uri": "https://localhost:8080/"
        },
        "outputId": "cb4d3096-4ca5-4793-8d96-d56b591a641b"
      },
      "execution_count": null,
      "outputs": [
        {
          "output_type": "stream",
          "name": "stdout",
          "text": [
            "{'child1': {'name': 'ABC', 'year': 2001}, 'child2': {'name': 'DEF', 'year': 2003}, 'child3': {'name': 'GHI', 'year': 2008}}\n"
          ]
        }
      ]
    },
    {
      "cell_type": "markdown",
      "source": [
        "# Exception Handling in Python\n",
        "**Exceptions** are raised when the program is syntactically correct, but the code resulted in an error. This error does not stop the execution of the program, however, it changes the normal flow of the program."
      ],
      "metadata": {
        "id": "EcHioFflHF4q"
      }
    },
    {
      "cell_type": "code",
      "source": [
        "# initialize the amount variable\n",
        "marks = 10000\n",
        "\n",
        "# perform division with 0\n",
        "a = marks / 0\n",
        "print(a)"
      ],
      "metadata": {
        "id": "KqjI0TH_VTsS",
        "colab": {
          "base_uri": "https://localhost:8080/",
          "height": 217
        },
        "outputId": "3b9cdd60-f461-4475-8a43-91070a151be5"
      },
      "execution_count": null,
      "outputs": [
        {
          "output_type": "error",
          "ename": "ZeroDivisionError",
          "evalue": "ignored",
          "traceback": [
            "\u001b[0;31m---------------------------------------------------------------------------\u001b[0m",
            "\u001b[0;31mZeroDivisionError\u001b[0m                         Traceback (most recent call last)",
            "\u001b[0;32m<ipython-input-369-757d9509a65c>\u001b[0m in \u001b[0;36m<module>\u001b[0;34m\u001b[0m\n\u001b[1;32m      3\u001b[0m \u001b[0;34m\u001b[0m\u001b[0m\n\u001b[1;32m      4\u001b[0m \u001b[0;31m# perform division with 0\u001b[0m\u001b[0;34m\u001b[0m\u001b[0;34m\u001b[0m\u001b[0;34m\u001b[0m\u001b[0m\n\u001b[0;32m----> 5\u001b[0;31m \u001b[0ma\u001b[0m \u001b[0;34m=\u001b[0m \u001b[0mmarks\u001b[0m \u001b[0;34m/\u001b[0m \u001b[0;36m0\u001b[0m\u001b[0;34m\u001b[0m\u001b[0;34m\u001b[0m\u001b[0m\n\u001b[0m\u001b[1;32m      6\u001b[0m \u001b[0mprint\u001b[0m\u001b[0;34m(\u001b[0m\u001b[0ma\u001b[0m\u001b[0;34m)\u001b[0m\u001b[0;34m\u001b[0m\u001b[0;34m\u001b[0m\u001b[0m\n",
            "\u001b[0;31mZeroDivisionError\u001b[0m: division by zero"
          ]
        }
      ]
    },
    {
      "cell_type": "markdown",
      "source": [
        "In the above example raised the ZeroDivisionError as we are trying to divide a number by 0.\n",
        "\n",
        "**Try and Except Statement – Catching Exceptions**\n",
        "\n",
        "Try and except statements are used to catch and handle exceptions in Python. Statements that can raise exceptions are kept inside the try clause and the statements that handle the exception are written inside except clause.\n",
        "\n",
        "Example: Let us try to access the array element whose index is out of bound and handle the corresponding exception."
      ],
      "metadata": {
        "id": "ZieJeMu3WCEM"
      }
    },
    {
      "cell_type": "code",
      "source": [
        "# Python program to handle simple runtime error\n",
        "#Python 3\n",
        "\n",
        "a = [87,39,108]\n",
        "try:\n",
        "    print (\"Second element = %d\" %(a[1]))\n",
        "\n",
        "    # Throws error since there are only 3 elements in array\n",
        "    print (\"Fourth element = %d\" %(a[3]))\n",
        "\n",
        "except:\n",
        "    print (\"An error occurred\")"
      ],
      "metadata": {
        "id": "PYEVO6ZvYdBT",
        "colab": {
          "base_uri": "https://localhost:8080/"
        },
        "outputId": "2c5cd605-2bdd-4208-96ef-476d8bc6bf75"
      },
      "execution_count": null,
      "outputs": [
        {
          "output_type": "stream",
          "name": "stdout",
          "text": [
            "Second element = 39\n",
            "An error occurred\n"
          ]
        }
      ]
    },
    {
      "cell_type": "markdown",
      "source": [
        "In the above example, the statements that can cause the error are placed inside the try statement (second print statement in our case). The second print statement tries to access the fourth element of the list which is not there and this throws an exception. This exception is then caught by the except statement.\n",
        "\n",
        "**Catching Specific Exception**\n",
        "\n",
        "A try statement can have more than one except clause, to specify handlers for different exceptions. Please note that at most one handler will be executed. For example, we can add IndexError in the above code. The general syntax for adding specific exceptions are –"
      ],
      "metadata": {
        "id": "OBqiC6h5aaRs"
      }
    },
    {
      "cell_type": "code",
      "source": [
        "# Program to handle multiple errors with one\n",
        "# except statement\n",
        "# Python 3\n",
        "\n",
        "def fun(a):\n",
        "\tif a < 4:\n",
        "\n",
        "\t\t# throws ZeroDivisionError for a = 3\n",
        "\t\tb = a/(a-3)\n",
        "\n",
        "\t# throws NameError if a >= 4\n",
        "\tprint(\"Value of b = \", b)\n",
        "\n",
        "try:\n",
        "\tfun(3)\n",
        "\tfun(5)\n",
        "\n",
        "# note that braces () are necessary here for\n",
        "# multiple exceptions\n",
        "except ZeroDivisionError:\n",
        "\tprint(\"ZeroDivisionError Occurred and Handled\")\n",
        "except NameError:\n",
        "\tprint(\"NameError Occurred and Handled\")\n"
      ],
      "metadata": {
        "id": "1Oemqdu9bnjC",
        "colab": {
          "base_uri": "https://localhost:8080/"
        },
        "outputId": "22bd893c-f951-40b7-f769-dc0feabf99ad"
      },
      "execution_count": null,
      "outputs": [
        {
          "output_type": "stream",
          "name": "stdout",
          "text": [
            "ZeroDivisionError Occurred and Handled\n"
          ]
        }
      ]
    },
    {
      "cell_type": "markdown",
      "source": [
        "**List of Standard Exceptions** −\n",
        "\n",
        "1.\n",
        "Exception\n",
        "\n",
        "Base class for all exceptions\n",
        "\n",
        "2.\n",
        "StopIteration\n",
        "\n",
        "Raised when the next() method of an iterator does not point to any object.\n",
        "\n",
        "3.\n",
        "SystemExit\n",
        "\n",
        "Raised by the sys.exit() function.\n",
        "\n",
        "4.\n",
        "StandardError\n",
        "\n",
        "Base class for all built-in exceptions except StopIteration and SystemExit.\n",
        "\n",
        "5\t.\n",
        "ArithmeticError\n",
        "\n",
        "Base class for all errors that occur for numeric calculation.\n",
        "\n",
        "6\t.\n",
        "OverflowError\n",
        "\n",
        "Raised when a calculation exceeds maximum limit for a numeric type.\n",
        "\n",
        "7\t.\n",
        "FloatingPointError\n",
        "\n",
        "Raised when a floating point calculation fails.\n",
        "\n",
        "8\t.\n",
        "ZeroDivisionError\n",
        "\n",
        "Raised when division or modulo by zero takes place for all numeric types.\n",
        "\n",
        "9\t.\n",
        "AssertionError\n",
        "\n",
        "Raised in case of failure of the Assert statement.\n",
        "\n",
        "10 .\tAttributeError\n",
        "\n",
        "Raised in case of failure of attribute reference or assignment.\n",
        "\n",
        "11\t.\n",
        "EOFError\n",
        "\n",
        "Raised when there is no input from either the raw_input() or input() function and the end of file is reached.\n",
        "\n",
        "12\t.\n",
        "ImportError\n",
        "\n",
        "Raised when an import statement fails.\n",
        "\n",
        "13 .\n",
        "KeyboardInterrupt\n",
        "\n",
        "Raised when the user interrupts program execution, usually by pressing Ctrl+c.\n",
        "\n",
        "14\t.\n",
        "LookupError\n",
        "\n",
        "Base class for all lookup errors.\n",
        "\n",
        "15\t.\n",
        "IndexError\n",
        "\n",
        "Raised when an index is not found in a sequence.\n",
        "\n",
        "16\t.\n",
        "KeyError\n",
        "\n",
        "Raised when the specified key is not found in the dictionary.\n",
        "\n",
        "17\t.\n",
        "NameError\n",
        "\n",
        "Raised when an identifier is not found in the local or global namespace.\n",
        "\n",
        "18\t.\n",
        "UnboundLocalError\n",
        "\n",
        "Raised when trying to access a local variable in a function or method but no value has been assigned to it.\n",
        "\n",
        "19\t.\n",
        "EnvironmentError\n",
        "\n",
        "Base class for all exceptions that occur outside the Python environment.\n",
        "\n",
        "20\t.\n",
        "IOError\n",
        "\n",
        "Raised when an input/ output operation fails, such as the print statement or the open() function when trying to open a file that does not exist.\n",
        "\n",
        "21\t.\n",
        "IOError\n",
        "\n",
        "Raised for operating system-related errors.\n",
        "\n",
        "22\t.\n",
        "SyntaxError\n",
        "\n",
        "Raised when there is an error in Python syntax.\n",
        "\n",
        "23\t.\n",
        "IndentationError\n",
        "\n",
        "Raised when indentation is not specified properly.\n",
        "\n",
        "24\t.\n",
        "SystemError\n",
        "\n",
        "Raised when the interpreter finds an internal problem, but when this error is encountered the Python interpreter does not exit.\n",
        "\n",
        "25\t.\n",
        "SystemExit\n",
        "\n",
        "Raised when Python interpreter is quit by using the sys.exit() function. If not handled in the code, causes the interpreter to exit.\n",
        "\n",
        "26\t.\n",
        "TypeError\n",
        "\n",
        "Raised when an operation or function is attempted that is invalid for the specified data type.\n",
        "\n",
        "27\t.\n",
        "ValueError\n",
        "\n",
        "Raised when the built-in function for a data type has the valid type of arguments, but the arguments have invalid values specified.\n",
        "\n",
        "28\t.\n",
        "RuntimeError\n",
        "\n",
        "Raised when a generated error does not fall into any category.\n",
        "\n",
        "29\t.\n",
        "NotImplementedError\n",
        "\n",
        "Raised when an abstract method that needs to be implemented in an inherited class is not actually implemented."
      ],
      "metadata": {
        "id": "G3St51ITYJ6m"
      }
    },
    {
      "cell_type": "markdown",
      "source": [
        "**The except Clause with No Exceptions**\n",
        "\n",
        "You can also use the except statement with no exceptions defined as follows −\n",
        "\n",
        "\n",
        "\n",
        "\n",
        "\n",
        "```\n",
        "#\n",
        "try:\n",
        "   You do your operations here;\n",
        "   ......................\n",
        "except:\n",
        "   If there is any exception, then execute this block.\n",
        "   ......................\n",
        "else:\n",
        "   If there is no exception then execute this block.\n",
        "```\n",
        "\n",
        "This kind of a **try-except** statement catches all the exceptions that occur. Using this kind of try-except statement is not considered a good programming practice though, because it catches all exceptions but does not make the programmer identify the root cause of the problem that may occur."
      ],
      "metadata": {
        "id": "ZxIhX5E_-EgG"
      }
    },
    {
      "cell_type": "markdown",
      "source": [
        "**The except Clause with Multiple Exceptions**\n",
        "\n",
        "You can also use the same except statement to handle multiple exceptions as follows −\n",
        "\n",
        "```\n",
        "try:\n",
        "   You do your operations here;\n",
        "   ......................\n",
        "except(Exception1[, Exception2[,...ExceptionN]]]):\n",
        "   If there is any exception from the given exception list,\n",
        "   then execute this block.\n",
        "   ......................\n",
        "else:\n",
        "   If there is no exception then execute this block.\n",
        "```\n",
        "\n"
      ],
      "metadata": {
        "id": "0BRQK_kR9W03"
      }
    },
    {
      "cell_type": "markdown",
      "source": [
        "**The try-finally Clause**\n",
        "\n",
        "You can use a finally: block along with a try: block. The finally block is a place to put any code that must execute, whether the try-block raised an exception or not. The syntax of the try-finally statement is this\n",
        "\n",
        "\n",
        "\n",
        "```\n",
        "try:\n",
        "   You do your operations here;\n",
        "   ......................\n",
        "   Due to any exception, this may be skipped.\n",
        "finally:\n",
        "   This would always be executed.\n",
        "   ......................\n",
        "```\n",
        "\n"
      ],
      "metadata": {
        "id": "KGtRd-ef9sCu"
      }
    },
    {
      "cell_type": "code",
      "source": [
        "#!/usr/bin/python\n",
        "\n",
        "try:\n",
        "   fh = open(\"testfile\", \"w\")\n",
        "   try:\n",
        "      fh.write(\"This is my test file for exception handling!!\")\n",
        "   finally:\n",
        "      print (\"Going to close the file\")\n",
        "      fh.close()\n",
        "except IOError:\n",
        "   print (\"Error: can\\'t find file or read data\")"
      ],
      "metadata": {
        "id": "LnIhF3SW97r9",
        "colab": {
          "base_uri": "https://localhost:8080/"
        },
        "outputId": "eb89b573-71eb-48bb-94a1-c4dd65eae670"
      },
      "execution_count": null,
      "outputs": [
        {
          "output_type": "stream",
          "name": "stdout",
          "text": [
            "Going to close the file\n"
          ]
        }
      ]
    },
    {
      "cell_type": "markdown",
      "source": [
        "When an exception is thrown in the try block, the execution immediately passes to the finally block. After all the statements in the finally block are executed, the exception is raised again and is handled in the except statements if present in the next higher layer of the try-except statement."
      ],
      "metadata": {
        "id": "jX0_rsn4-NNW"
      }
    },
    {
      "cell_type": "markdown",
      "source": [
        "**Argument of an Exception**\n",
        "\n",
        "An exception can have an argument, which is a value that gives additional information about the problem. The contents of the argument vary by exception. You capture an exception's argument by supplying a variable in the except clause as follows −\n",
        "\n",
        "```\n",
        "try:\n",
        "   You do your operations here;\n",
        "   ......................\n",
        "except ExceptionType, Argument:\n",
        "   You can print value of Argument here...\n",
        "\n",
        "```\n",
        "If you write the code to handle a single exception, you can have a variable follow the name of the exception in the except statement. If you are trapping multiple exceptions, you can have a variable follow the tuple of the exception.\n",
        "\n",
        "This variable receives the value of the exception mostly containing the cause of the exception. The variable can receive a single value or multiple values in the form of a tuple. This tuple usually contains the error string, the error number, and an error location.\n"
      ],
      "metadata": {
        "id": "NgHh6a4H-ShC"
      }
    },
    {
      "cell_type": "code",
      "source": [
        "def temp_convert(var):\n",
        "   try:\n",
        "      return int(var)\n",
        "   except ValueError:\n",
        "      print (\"The argument does not contain numbers\\n\")\n",
        "\n",
        "# Call above function here.\n",
        "temp_convert(\"xyz\");"
      ],
      "metadata": {
        "id": "CTy2jTp1-f_p",
        "colab": {
          "base_uri": "https://localhost:8080/"
        },
        "outputId": "f4870500-5637-491b-f7c7-8d9922cfadd8"
      },
      "execution_count": null,
      "outputs": [
        {
          "output_type": "stream",
          "name": "stdout",
          "text": [
            "The argument does not contain numbers\n",
            "\n"
          ]
        }
      ]
    },
    {
      "cell_type": "markdown",
      "source": [
        "**Raising an Exceptions**\n",
        "\n",
        "You can raise exceptions in several ways by using the raise statement. The general syntax for the raise statement is as follows.\n",
        "\n",
        "Syntax-\n",
        "\n",
        "`raise [Exception [, args [, traceback]]]`'\n",
        "\n",
        "Here, Exception is the type of exception (for example, NameError) and argument is a value for the exception argument. The argument is optional; if not supplied, the exception argument is None.\n",
        "\n",
        "The final argument, traceback, is also optional (and rarely used in practice), and if present, is the traceback object used for the exception."
      ],
      "metadata": {
        "id": "WCZZVYMr_s3c"
      }
    },
    {
      "cell_type": "markdown",
      "source": [
        "Example-\n",
        "\n",
        "An exception can be a string, a class or an object. Most of the exceptions that the Python core raises are classes, with an argument that is an instance of the class. Defining new exceptions is quite easy and can be done as follows −\n",
        "\n",
        "\n",
        "```\n",
        "def functionName( level ):\n",
        "   if level < 1:\n",
        "      raise \"Invalid level!\", level\n",
        "      # The code below to this would not be executed\n",
        "      # if we raise the exception\n",
        "```\n",
        "Note: In order to catch an exception, an \"except\" clause must refer to the same exception thrown either class object or simple string. For example, to capture above exception, we must write the except clause as follows −\n",
        "\n",
        "\n",
        "\n",
        "```try:\n",
        "   Business Logic here...\n",
        "except \"Invalid level!\":\n",
        "   Exception handling here...\n",
        "else:\n",
        "   Rest of the code here...\n",
        "```\n",
        "\n",
        "\n"
      ],
      "metadata": {
        "id": "CaxU6_eY_4nI"
      }
    },
    {
      "cell_type": "markdown",
      "source": [
        "## File Handling in Python\n",
        "\n",
        "To store data temporarily and permanently, we use files. A file is the collection of data stored on a disk in one unit identified by filename.\n",
        "File handling is an important part of any web application.\n",
        "\n",
        " The concept of file handling has stretched over various other languages, but the implementation is either complicated or lengthy, but like other concepts of Python, this concept here is also easy and short. Python treats files differently as text or binary and this is important. Each line of code includes a sequence of characters and they form a text file. Each line of a file is terminated with a special character, called the EOL or End of Line characters like comma {,} or newline character. It ends the current line and tells the interpreter a new one has begun.\n"
      ],
      "metadata": {
        "id": "diLpJ_W3Bcdf"
      }
    },
    {
      "cell_type": "markdown",
      "source": [
        "**Types of Files**\n",
        "\n",
        "* **Text File**: Text file usually we use to store character data. For example, test.txt\n",
        "\n",
        "* **Binary File** : The binary files are used to store binary data such as images, video files, audio files, etc."
      ],
      "metadata": {
        "id": "0F1BxBnoE7LR"
      }
    },
    {
      "cell_type": "markdown",
      "source": [
        "**File Path**\n",
        "\n",
        "* *Absolute path*: which always begins with the root folder.\n",
        "\n",
        "* *Relative path*: which is relative to the program's current working directory.\n"
      ],
      "metadata": {
        "id": "wPhjKEQ7FPa0"
      }
    },
    {
      "cell_type": "markdown",
      "source": [
        "**File Access Modes**\n",
        "\n",
        "* **r**\n",
        "\n",
        "It opens an existing file to read-only mode. The file pointer exists at the beginning.\n",
        "\n",
        "* **rb**\n",
        "\n",
        "It opens the file to read-only in binary format. The file pointer exists at the beginning.\n",
        "\n",
        "* **r+**\n",
        "\n",
        "It opens the file to read and write both. The file pointer exists at the beginning.\n",
        "\n",
        "* **rb+**\n",
        "\n",
        "It opens the file to read and write both in binary format. The file pointer exists at the beginning of the file.\n",
        "\n",
        "* **w**\n",
        "\n",
        "It opens the file to write only. It overwrites the file if previously exists or creates a new one if no file exists with the same name.\n",
        "\n",
        "* **wb**\n",
        "\n",
        "It opens the file to write only in binary format. It overwrites the file if it exists previously or creates a new one if no file exists.\n",
        "\n",
        "* **w+**\n",
        "\n",
        "It opens the file to write and read data. It will override existing data.\n",
        "wb+\tIt opens the file to write and read both in binary format.\n",
        "\n",
        "* **a**\n",
        "\n",
        "It opens the file in the append mode. It will not override existing data. It creates a new file if no file exists with the same name.\n",
        "\n",
        "* **ab**\n",
        "\n",
        "It opens the file in the append mode in binary format.\n",
        "\n",
        "* **a+**\n",
        "\n",
        "It opens a file to append and read both.\n",
        "\n",
        "* **ab+**\n",
        "\n",
        "It opens a file to append and read both in binary format."
      ],
      "metadata": {
        "id": "bKPHAj0iF47Y"
      }
    },
    {
      "cell_type": "markdown",
      "source": [
        "**Python File Methods**\n",
        "\n",
        "Python has various method available that we can use with the file object. The following table shows file method.\n",
        "\n",
        "* **read()**\tReturns the file content.\n",
        "\n",
        "* **readline()**\tRead single line\n",
        "\n",
        "* **readlines()**\tRead file into a list\n",
        "\n",
        "* **truncate(size)**\tResizes the file to a specified size.\n",
        "\n",
        "* **write()**\tWrites the specified string to the file.\n",
        "\n",
        "* **writelines()**\tWrites a list of strings to the file.\n",
        "\n",
        "* **close()**\tCloses the opened file.\n",
        "\n",
        "* **seek()**\tSet file pointer position in a file\n",
        "\n",
        "* **tell()**\tReturns the current file location.\n",
        "\n",
        "* **fileno()**\tReturns a number that represents the stream, from the operating system's perspective.\n",
        "\n",
        "* **flush()**\tFlushes the internal buffer."
      ],
      "metadata": {
        "id": "Xv6c2CORpaxP"
      }
    },
    {
      "cell_type": "markdown",
      "source": [
        "**Working of open() function**\n",
        "\n",
        "Before performing any operation on the file like reading or writing, first, we have to open that file. For this, we should use Python’s inbuilt function **open()** but at the time of opening, we have to specify the mode, which represents the purpose of the opening file.\n",
        "\n",
        "\n",
        "```\n",
        "f = open(filename, mode)\n",
        "```\n",
        "where mode is the file access modes."
      ],
      "metadata": {
        "id": "B4fjprI9D2fN"
      }
    },
    {
      "cell_type": "markdown",
      "source": [
        "**Working of read() mode**\n",
        "\n",
        "There is more than one way to read a file in Python. If you need to extract a string that contains all characters in the file then we can use file.read()."
      ],
      "metadata": {
        "id": "sGfjIdDnExLV"
      }
    },
    {
      "cell_type": "markdown",
      "source": [
        "**Working of rename()**\n",
        "\n",
        "In Python, the os module provides the functions for file processing operations such as renaming, deleting the file, etc. The os module enables interaction with the operating system.\n",
        "\n",
        "The os module provides rename() method to rename the specified file name to the new name. The syntax of rename() method is shown below.\n",
        "\n",
        "Example\n",
        "\n",
        "\n",
        "\n",
        "```\n",
        "import os\n",
        "\n",
        "# Absolute path of a file\n",
        "old_name = r\"E:\\demos\\files\\reports\\details.txt\"\n",
        "new_name = r\"E:\\demos\\files\\reports\\new_details.txt\"\n",
        "\n",
        "# Renaming the file\n",
        "os.rename(old_name, new_name)\n",
        "```\n",
        "\n"
      ],
      "metadata": {
        "id": "BPNoYistOpY8"
      }
    },
    {
      "cell_type": "markdown",
      "source": [
        "**Delete Files**\n",
        "\n",
        "In Python, the os module provides the remove() function to remove or delete file path.\n",
        "\n",
        "Example:\n",
        "\n",
        "```\n",
        "import os\n",
        "\n",
        "# remove file with absolute path\n",
        "os.remove(r\"E:\\demos\\files\\sales_2.txt\")\n",
        "```\n",
        "\n"
      ],
      "metadata": {
        "id": "HrtK3blDOpoC"
      }
    },
    {
      "cell_type": "markdown",
      "source": [
        "# Python Libraries\n",
        "\n",
        "1. ***NumPy***\n",
        "\n",
        "* NumPy is a Python library used for working with arrays.\n",
        "\n",
        "* It also has functions for working in domain of linear algebra, fourier transform, and matrices.\n",
        "\n",
        "* NumPy was created in 2005 by Travis Oliphant. It is an open source project and you can use it freely.\n",
        "\n",
        "* NumPy stands for Numerical Python.\n",
        "\n",
        "* NumPy is a Python library and is written partially in Python, but most of the parts that require fast computation are written in C or C++.\n",
        "\n",
        "* The array object in NumPy is called ndarray, it provides a lot of supporting functions that make working with ndarray very easy.\n",
        "Arrays are very frequently used in data science, where speed and resources are very important."
      ],
      "metadata": {
        "id": "9FmCOw_kqKhX"
      }
    },
    {
      "cell_type": "markdown",
      "source": [
        "# **`Getting started with NumPy`**\n",
        "\n",
        "Installation of NumPy\n",
        "If you have Python and PIP already installed on a system, then installation of NumPy is very easy.\n",
        "\n",
        "**Install it using this command**:\n",
        "\n",
        "`C:\\Users\\Your Name>pip install numpy`\n",
        "\n",
        "If this command fails, then use a python distribution that already has NumPy installed like, Anaconda, Spyder etc.\n",
        "\n",
        "Once NumPy is installed, import it in your applications by adding the import keyword:\n",
        "\n",
        "`import numpy`   #Now NumPy is imported and ready to use.\n",
        "\n",
        "\n",
        "\n"
      ],
      "metadata": {
        "id": "cKxWLpF1qxe_"
      }
    },
    {
      "cell_type": "code",
      "source": [
        "#Example\n",
        "import numpy\n",
        "\n",
        "arr = numpy.array([1, 2, 3, 4, 5])\n",
        "\n",
        "print(arr)"
      ],
      "metadata": {
        "id": "oLgWSkHrrJNz",
        "colab": {
          "base_uri": "https://localhost:8080/"
        },
        "outputId": "0aedca2b-3f8f-4870-f860-bd2af1a6ff1b"
      },
      "execution_count": null,
      "outputs": [
        {
          "output_type": "stream",
          "name": "stdout",
          "text": [
            "[1 2 3 4 5]\n"
          ]
        }
      ]
    },
    {
      "cell_type": "markdown",
      "source": [
        "**NumPy as np**\n",
        "\n",
        "NumPy is usually imported under the np alias.\n",
        "\n",
        "**alias**: In Python alias are an alternate name for referring to the same thing.\n",
        "\n",
        "Create an alias with the as keyword while importing:\n",
        "\n",
        "`import numpy as np`\n",
        "\n",
        "Now the NumPy package can be referred to as np instead of numpy.\n"
      ],
      "metadata": {
        "id": "41bu-imErPlY"
      }
    },
    {
      "cell_type": "code",
      "source": [
        "#Example\n",
        "import numpy as np\n",
        "\n",
        "arr = np.array([1, 2, 3, 4, 5])\n",
        "\n",
        "print(arr)\n"
      ],
      "metadata": {
        "id": "itXexxMurWnu",
        "colab": {
          "base_uri": "https://localhost:8080/"
        },
        "outputId": "80c3ea78-6f20-4af5-824c-edeebaa45234"
      },
      "execution_count": null,
      "outputs": [
        {
          "output_type": "stream",
          "name": "stdout",
          "text": [
            "[1 2 3 4 5]\n"
          ]
        }
      ]
    },
    {
      "cell_type": "markdown",
      "source": [
        "**Checking NumPy Version**\n",
        "\n",
        "The version string is stored under __version__ attribute."
      ],
      "metadata": {
        "id": "SXoCQu4xrewH"
      }
    },
    {
      "cell_type": "code",
      "source": [
        "import numpy as np\n",
        "\n",
        "print(np.__version__)"
      ],
      "metadata": {
        "id": "EW20jAFnrieU",
        "colab": {
          "base_uri": "https://localhost:8080/"
        },
        "outputId": "78f16567-f84a-489f-ba95-42db31048b93"
      },
      "execution_count": null,
      "outputs": [
        {
          "output_type": "stream",
          "name": "stdout",
          "text": [
            "1.21.6\n"
          ]
        }
      ]
    },
    {
      "cell_type": "markdown",
      "source": [
        "**Create a NumPy ndarray Object**\n",
        "\n",
        "NumPy is used to work with arrays. The array object in NumPy is called ndarray.\n",
        "\n",
        "We can create a NumPy ndarray object by using the **array()** function."
      ],
      "metadata": {
        "id": "oQS2chI2rqgZ"
      }
    },
    {
      "cell_type": "code",
      "source": [
        "#Example\n",
        "import numpy as np\n",
        "\n",
        "arr = np.array([1, 2, 3, 4, 5])\n",
        "\n",
        "print(arr)\n",
        "\n",
        "print(type(arr))"
      ],
      "metadata": {
        "id": "7BuH9iPmrujW",
        "colab": {
          "base_uri": "https://localhost:8080/"
        },
        "outputId": "152b2dc4-9113-458c-f103-9815c66a158c"
      },
      "execution_count": null,
      "outputs": [
        {
          "output_type": "stream",
          "name": "stdout",
          "text": [
            "[1 2 3 4 5]\n",
            "<class 'numpy.ndarray'>\n"
          ]
        }
      ]
    },
    {
      "cell_type": "markdown",
      "source": [
        "**Dimensions in Arrays**\n",
        "\n",
        "A dimension in arrays is one level of array depth (nested arrays).\n",
        "\n",
        "**0-D arrays,** or Scalars, are the elements in an array. Each value in an array is a 0-D array.\n",
        "\n",
        "An array that has 0-D arrays as its elements is called uni-dimensional or **1-D array.**These are the most common and basic arrays.\n",
        "\n",
        "An array that has 1-D arrays as its elements is called a **2-D array**.\n",
        "These are often used to represent matrix or **2nd order tensors**.\n",
        "\n",
        "An array that has 2-D arrays (matrices) as its elements is called **3-D array.**\n",
        "These are often used to represent a **3rd order tensor**.\n"
      ],
      "metadata": {
        "id": "rWcy0zK5svUk"
      }
    },
    {
      "cell_type": "code",
      "source": [
        "from numpy.core.arrayprint import array2string\n",
        "import numpy as np\n",
        "\n",
        "arr0 = np.array(87)        #0-D array\n",
        "print(arr0)\n",
        "\n",
        "arr1 = np.array([1, 2, 3, 4, 5])        #1-D array\n",
        "print(arr1)\n",
        "\n",
        "arr2 = np.array([[1, 2, 3], [4, 5, 6]])        #2-D array\n",
        "print(arr2)\n",
        "\n",
        "arr3 = np.array([[[1, 2, 3], [4, 5, 6]], [[1, 2, 3], [4, 5, 6]]])        #3-D array\n",
        "print(arr3)"
      ],
      "metadata": {
        "id": "ZzLxHaAGtTm1",
        "colab": {
          "base_uri": "https://localhost:8080/"
        },
        "outputId": "3ddb9737-4691-48e4-ee04-b77bb0bce40c"
      },
      "execution_count": null,
      "outputs": [
        {
          "output_type": "stream",
          "name": "stdout",
          "text": [
            "87\n",
            "[1 2 3 4 5]\n",
            "[[1 2 3]\n",
            " [4 5 6]]\n",
            "[[[1 2 3]\n",
            "  [4 5 6]]\n",
            "\n",
            " [[1 2 3]\n",
            "  [4 5 6]]]\n"
          ]
        }
      ]
    },
    {
      "cell_type": "markdown",
      "source": [
        "NumPy Arrays provides the **ndim** attribute that returns an integer that tells us how many dimensions the array have."
      ],
      "metadata": {
        "id": "whEqGwwbt523"
      }
    },
    {
      "cell_type": "code",
      "source": [
        "print(arr0.ndim)\n",
        "print(arr1.ndim)\n",
        "print(arr2.ndim)\n",
        "print(arr3.ndim)"
      ],
      "metadata": {
        "id": "-aeaWTVht7zI",
        "colab": {
          "base_uri": "https://localhost:8080/"
        },
        "outputId": "5f3eb24b-9f4e-4995-92c0-7e6663f0d2e2"
      },
      "execution_count": null,
      "outputs": [
        {
          "output_type": "stream",
          "name": "stdout",
          "text": [
            "0\n",
            "1\n",
            "2\n",
            "3\n"
          ]
        }
      ]
    },
    {
      "cell_type": "markdown",
      "source": [
        "**Access Array Elements**\n",
        "\n",
        "Array indexing is the same as accessing an array element.\n",
        "You can access an array element by referring to its index number.\n",
        "The indexes in NumPy arrays start with 0, meaning that the first element has index 0, and the second has index 1 etc."
      ],
      "metadata": {
        "id": "-LkIRWrmuMd2"
      }
    },
    {
      "cell_type": "code",
      "source": [
        "import numpy as np\n",
        "\n",
        "arr = np.array([110, 12, 3, 14])          #1D-array\n",
        "\n",
        "print(arr[0])\n",
        "print(arr[2] + arr[3])\n",
        "\n",
        "arr = np.array([[1,2,3,4,5], [6,7,8,9,10]])           #2D-array\n",
        "\n",
        "print('2nd element on 1st row: ', arr[0, 1])\n",
        "print('5th element on 2nd row: ', arr[1, 4])\n",
        "\n",
        "arr = np.array([[[1, 2, 3], [4, 5, 6]], [[7, 8, 9], [10, 11, 12]]])           #3D-array\n",
        "\n",
        "print(arr[0, 1, 2])\n",
        "\n",
        "print('Last element from 2nd dim: ', arr[1, -1])          #negative indexing"
      ],
      "metadata": {
        "id": "rpC3dQv3uZ1T",
        "colab": {
          "base_uri": "https://localhost:8080/"
        },
        "outputId": "cb00b2f3-4fe1-48f6-ca2e-81ed934a091d"
      },
      "execution_count": null,
      "outputs": [
        {
          "output_type": "stream",
          "name": "stdout",
          "text": [
            "110\n",
            "17\n",
            "2nd element on 1st row:  2\n",
            "5th element on 2nd row:  10\n",
            "6\n",
            "Last element from 2nd dim:  [10 11 12]\n"
          ]
        }
      ]
    },
    {
      "cell_type": "markdown",
      "source": [
        "**Slicing arrays**\n",
        "\n",
        "Slicing in python means taking elements from one given index to another given index.\n",
        "\n",
        "We pass slice instead of index like this:` [start:end].`\n",
        "\n",
        "We can also define the step, like this: `[start:end:step].`"
      ],
      "metadata": {
        "id": "HCgPOHSEvb6l"
      }
    },
    {
      "cell_type": "code",
      "source": [
        "arr = np.array([1, 2, 3, 4, 5, 6, 7])         #1d-array\n",
        "\n",
        "print(arr[1:5])\n",
        "print(arr[4:])\n",
        "print(arr[-3:-1])    #negative indexing\n",
        "print(arr[1:5:2])   #with step\n",
        "print(arr[::2])\n",
        "\n",
        "arr = np.array([[1, 2, 3, 4, 5], [6, 7, 8, 9, 10]])        #2d-array\n",
        "\n",
        "print(arr[1, 1:4])\n",
        "print(arr[0:2, 2])\n",
        "print(arr[0:2, 1:4])"
      ],
      "metadata": {
        "id": "YZjJfnKsvl78",
        "colab": {
          "base_uri": "https://localhost:8080/"
        },
        "outputId": "1c6ca80c-1945-4e4e-f892-169362fc54ec"
      },
      "execution_count": null,
      "outputs": [
        {
          "output_type": "stream",
          "name": "stdout",
          "text": [
            "[2 3 4 5]\n",
            "[5 6 7]\n",
            "[5 6]\n",
            "[2 4]\n",
            "[1 3 5 7]\n",
            "[7 8 9]\n",
            "[3 8]\n",
            "[[2 3 4]\n",
            " [7 8 9]]\n"
          ]
        }
      ]
    },
    {
      "cell_type": "markdown",
      "source": [
        "**Data Types in NumPy**\n",
        "\n",
        "NumPy has some extra data types, and refer to data types with one character, like i for integers, u for unsigned integers etc.\n",
        "\n",
        "Below is a list of all data types in NumPy and the characters used to represent them.\n",
        "\n",
        "i - integer\n",
        "\n",
        "b - boolean\n",
        "\n",
        "u - unsigned integer\n",
        "\n",
        "f - float\n",
        "\n",
        "c - complex float\n",
        "\n",
        "m - timedelta\n",
        "\n",
        "M - datetime\n",
        "\n",
        "O - object\n",
        "\n",
        "S - string\n",
        "\n",
        "U - unicode string\n",
        "\n",
        "V - fixed chunk of memory for other type ( void )\n",
        "\n"
      ],
      "metadata": {
        "id": "GjUNb2HHwXNx"
      }
    },
    {
      "cell_type": "markdown",
      "source": [
        "**Checking the Data Type of an Array**\n",
        "\n",
        "The NumPy array object has a property called dtype that returns the data type of the array.\n",
        "\n"
      ],
      "metadata": {
        "id": "ZhzICwoEwlED"
      }
    },
    {
      "cell_type": "code",
      "source": [
        "#Get the data type of an array object\n",
        "arr = np.array([1, 2, 3, 4])\n",
        "print(arr.dtype)"
      ],
      "metadata": {
        "id": "ZfV0dmShwspa",
        "colab": {
          "base_uri": "https://localhost:8080/"
        },
        "outputId": "8e5aeb08-3e3b-4e16-9172-1739cc9ecc0f"
      },
      "execution_count": null,
      "outputs": [
        {
          "output_type": "stream",
          "name": "stdout",
          "text": [
            "int64\n"
          ]
        }
      ]
    },
    {
      "cell_type": "markdown",
      "source": [
        "**Creating Arrays With a Defined Data Type**\n",
        "\n",
        "We use the array() function to create arrays, this function can take an optional argument: dtype that allows us to define the expected data type of the array elements.\n"
      ],
      "metadata": {
        "id": "9kXJhs3HxNMr"
      }
    },
    {
      "cell_type": "code",
      "source": [
        "lis = np.array([1, 2, 3, 4], dtype='S')\n",
        "\n",
        "print(lis)\n",
        "print(lis.dtype)"
      ],
      "metadata": {
        "id": "RvcYA45kxR9n",
        "colab": {
          "base_uri": "https://localhost:8080/"
        },
        "outputId": "00704ac6-c72c-43f2-8324-75887d4a532f"
      },
      "execution_count": null,
      "outputs": [
        {
          "output_type": "stream",
          "name": "stdout",
          "text": [
            "[b'1' b'2' b'3' b'4']\n",
            "|S1\n"
          ]
        }
      ]
    },
    {
      "cell_type": "markdown",
      "source": [
        "**Converting Data Type on Existing Arrays**\n",
        "\n",
        "The best way to change the data type of an existing array, is to make a copy of the array with the **astype()** method.\n",
        "\n",
        "The astype() function creates a copy of the array, and allows you to specify the data type as a parameter.\n",
        "\n",
        "The data type can be specified using a string, like 'f' for float, 'i' for integer etc. or you can use the data type directly like float for float and int for integer."
      ],
      "metadata": {
        "id": "7tz2xLAMxfJF"
      }
    },
    {
      "cell_type": "code",
      "source": [
        "l1 = np.array([1.1, 2.1, 3.1])\n",
        "\n",
        "newl1 = l1.astype('i')\n",
        "\n",
        "print(newl1)\n",
        "print(newl1.dtype)"
      ],
      "metadata": {
        "id": "js7Bwfa-xqD0",
        "colab": {
          "base_uri": "https://localhost:8080/"
        },
        "outputId": "fae2f7d4-82c6-488f-a15b-ef2acf241f9a"
      },
      "execution_count": null,
      "outputs": [
        {
          "output_type": "stream",
          "name": "stdout",
          "text": [
            "[1 2 3]\n",
            "int32\n"
          ]
        }
      ]
    },
    {
      "cell_type": "markdown",
      "source": [
        "**Copy and View in NumPy**\n",
        "\n",
        "The **copy** owns the data and any changes made to the copy will not affect original array, and any changes made to the original array will not affect the copy.\n",
        "\n",
        "The **view** does not own the data and any changes made to the view will affect the original array, and any changes made to the original array will affect the view."
      ],
      "metadata": {
        "id": "jE9N-2o1zqk3"
      }
    },
    {
      "cell_type": "code",
      "source": [
        "x = l1.copy()\n",
        "l1[0] = 42\n",
        "\n",
        "print(l1)\n",
        "print(x)"
      ],
      "metadata": {
        "id": "Fx8JZcqoz7lj",
        "colab": {
          "base_uri": "https://localhost:8080/"
        },
        "outputId": "683c0b62-5c97-435f-c51d-2286cd0b360a"
      },
      "execution_count": null,
      "outputs": [
        {
          "output_type": "stream",
          "name": "stdout",
          "text": [
            "[42.   2.1  3.1]\n",
            "[1.1 2.1 3.1]\n"
          ]
        }
      ]
    },
    {
      "cell_type": "code",
      "source": [
        "y = l1.view()\n",
        "l1[0] = 42\n",
        "\n",
        "print(l1)\n",
        "print(y)"
      ],
      "metadata": {
        "id": "PUZbVa1t0G9S",
        "colab": {
          "base_uri": "https://localhost:8080/"
        },
        "outputId": "198a9dba-7f0f-4858-997a-a9c23996dc74"
      },
      "execution_count": null,
      "outputs": [
        {
          "output_type": "stream",
          "name": "stdout",
          "text": [
            "[42.   2.1  3.1]\n",
            "[42.   2.1  3.1]\n"
          ]
        }
      ]
    },
    {
      "cell_type": "markdown",
      "source": [
        "**Shape of Array**\n",
        "\n",
        "The shape of an array is the number of elements in each dimension.NumPy arrays have an attribute called shape that returns a tuple with each index having the number of corresponding elements."
      ],
      "metadata": {
        "id": "ltJfwQqz0ZQE"
      }
    },
    {
      "cell_type": "code",
      "source": [
        "l2 = np.array([[1, 2, 3, 4], [5, 6, 7, 8]])\n",
        "print(l2.shape)"
      ],
      "metadata": {
        "id": "tqZwe9lg0HGU",
        "colab": {
          "base_uri": "https://localhost:8080/"
        },
        "outputId": "c83427ea-0dc6-4bce-9e6f-8f3a7d3fa6a2"
      },
      "execution_count": null,
      "outputs": [
        {
          "output_type": "stream",
          "name": "stdout",
          "text": [
            "(2, 4)\n"
          ]
        }
      ]
    },
    {
      "cell_type": "markdown",
      "source": [
        "**Reshaping arrays**\n",
        "\n",
        "Reshaping means changing the shape of an array.\n",
        "The shape of an array is the number of elements in each dimension.\n",
        "By reshaping we can add or remove dimensions or change number of elements in each dimension."
      ],
      "metadata": {
        "id": "q1O2EGwy1PZm"
      }
    },
    {
      "cell_type": "code",
      "source": [
        "l3 = np.array([1, 2, 3, 4, 5, 6, 7, 8, 9, 10, 11, 12])\n",
        "newl3 = l3.reshape(3, 4)        #from 1d to 2d\n",
        "print(newl3)\n",
        "\n",
        "print(\"----------------\")\n",
        "\n",
        "l4 = l3.reshape(2, 2, 3)\n",
        "print(l4)"
      ],
      "metadata": {
        "id": "shhNg5PY1OiA",
        "colab": {
          "base_uri": "https://localhost:8080/"
        },
        "outputId": "b441366f-f75d-44e9-fe82-0a46de201f14"
      },
      "execution_count": null,
      "outputs": [
        {
          "output_type": "stream",
          "name": "stdout",
          "text": [
            "[[ 1  2  3  4]\n",
            " [ 5  6  7  8]\n",
            " [ 9 10 11 12]]\n",
            "----------------\n",
            "[[[ 1  2  3]\n",
            "  [ 4  5  6]]\n",
            "\n",
            " [[ 7  8  9]\n",
            "  [10 11 12]]]\n"
          ]
        }
      ]
    },
    {
      "cell_type": "markdown",
      "source": [
        "**Iterating Arrays**\n",
        "\n",
        "Iterating means going through elements one by one.As we deal with multi-dimensional arrays in numpy, we can do this using basic for loop of python.If we iterate on a 1-D array it will go through each element one by one."
      ],
      "metadata": {
        "id": "FDj5Q_U69RLO"
      }
    },
    {
      "cell_type": "code",
      "source": [
        "#using l1 from above\n",
        "for i in l1:\n",
        "  print(i)"
      ],
      "metadata": {
        "id": "R3i2QECm9oae",
        "colab": {
          "base_uri": "https://localhost:8080/"
        },
        "outputId": "b58da081-1691-49f1-bec3-2a5f2eb06781"
      },
      "execution_count": null,
      "outputs": [
        {
          "output_type": "stream",
          "name": "stdout",
          "text": [
            "42.0\n",
            "2.1\n",
            "3.1\n"
          ]
        }
      ]
    },
    {
      "cell_type": "code",
      "source": [
        "#using l2 from above example\n",
        "for i in l2:\n",
        "  print(i)\n",
        "\n",
        "#with another way\n",
        "for i in (l2):\n",
        "  for j in i:\n",
        "    print(j)"
      ],
      "metadata": {
        "id": "VcVtTrWXPRAT",
        "colab": {
          "base_uri": "https://localhost:8080/"
        },
        "outputId": "9fa689b5-8267-4bd0-95d1-dff85fd86216"
      },
      "execution_count": null,
      "outputs": [
        {
          "output_type": "stream",
          "name": "stdout",
          "text": [
            "[1 2 3 4]\n",
            "[5 6 7 8]\n",
            "1\n",
            "2\n",
            "3\n",
            "4\n",
            "5\n",
            "6\n",
            "7\n",
            "8\n"
          ]
        }
      ]
    },
    {
      "cell_type": "markdown",
      "source": [
        "**Iterating Arrays Using nditer()**\n",
        "\n",
        "The function **nditer()** is a helping function that can be used from very basic to very advanced iterations. It solves some basic issues which we face in iteration, lets go through it with examples."
      ],
      "metadata": {
        "id": "x5YK7H6QP3O0"
      }
    },
    {
      "cell_type": "code",
      "source": [
        "array = np.array([[[1, 2], [3, 4]], [[5, 6], [7, 8]]])\n",
        "\n",
        "for x in np.nditer(array):\n",
        "  print(x)"
      ],
      "metadata": {
        "id": "I5SPWzLqP6z8",
        "colab": {
          "base_uri": "https://localhost:8080/"
        },
        "outputId": "c8d47896-ffe8-4c5a-b74d-a646cc64499e"
      },
      "execution_count": null,
      "outputs": [
        {
          "output_type": "stream",
          "name": "stdout",
          "text": [
            "1\n",
            "2\n",
            "3\n",
            "4\n",
            "5\n",
            "6\n",
            "7\n",
            "8\n"
          ]
        }
      ]
    },
    {
      "cell_type": "markdown",
      "source": [
        "**Enumerated Iteration Using ndenumerate()**\n",
        "\n",
        "Enumeration means mentioning sequence number of somethings one by one.\n",
        "\n",
        "Sometimes we require corresponding index of the element while iterating, the **ndenumerate()** method can be used for those usecases.\n"
      ],
      "metadata": {
        "id": "A1pSaEhGQHC6"
      }
    },
    {
      "cell_type": "code",
      "source": [
        "arr1 = np.array([1, 2, 3])\n",
        "\n",
        "for idx, x in np.ndenumerate(arr1):   #here idx is giving the index of the array\n",
        "  print(idx, x)"
      ],
      "metadata": {
        "id": "28IgPZh0QNSh",
        "colab": {
          "base_uri": "https://localhost:8080/"
        },
        "outputId": "8098d1ea-0af2-40d8-a5fe-abe90b75d05d"
      },
      "execution_count": null,
      "outputs": [
        {
          "output_type": "stream",
          "name": "stdout",
          "text": [
            "(0,) 1\n",
            "(1,) 2\n",
            "(2,) 3\n"
          ]
        }
      ]
    },
    {
      "cell_type": "code",
      "source": [
        "arr2 = np.array([[1, 2, 3, 4], [5, 6, 7, 8]])\n",
        "\n",
        "for idx, x in np.ndenumerate(arr2):   #here idx is giving the index of the array\n",
        "  print(idx, x)"
      ],
      "metadata": {
        "id": "DAe8a5UQQWy9",
        "colab": {
          "base_uri": "https://localhost:8080/"
        },
        "outputId": "b097b59c-9ed6-42d0-a93e-e5b7ad79cb46"
      },
      "execution_count": null,
      "outputs": [
        {
          "output_type": "stream",
          "name": "stdout",
          "text": [
            "(0, 0) 1\n",
            "(0, 1) 2\n",
            "(0, 2) 3\n",
            "(0, 3) 4\n",
            "(1, 0) 5\n",
            "(1, 1) 6\n",
            "(1, 2) 7\n",
            "(1, 3) 8\n"
          ]
        }
      ]
    },
    {
      "cell_type": "markdown",
      "source": [
        "**Joining NumPy Arrays**\n",
        "\n",
        "Joining means putting contents of two or more arrays in a single array.\n",
        "\n",
        "* We pass a sequence of arrays that we want to join to the **concatenate()** function, along with the axis. If axis is not explicitly passed, it is taken as 0."
      ],
      "metadata": {
        "id": "czaKGsRgY7Yh"
      }
    },
    {
      "cell_type": "code",
      "source": [
        "arr3 = np.array([1, 2, 3])\n",
        "arr4 = np.array([4, 5, 6])\n",
        "newarr = np.concatenate((arr3, arr4))\n",
        "print(newarr)"
      ],
      "metadata": {
        "id": "q2Uv8mQFbG9g",
        "colab": {
          "base_uri": "https://localhost:8080/"
        },
        "outputId": "292b36cf-5309-4552-d615-bffc853871bc"
      },
      "execution_count": null,
      "outputs": [
        {
          "output_type": "stream",
          "name": "stdout",
          "text": [
            "[1 2 3 4 5 6]\n"
          ]
        }
      ]
    },
    {
      "cell_type": "markdown",
      "source": [
        "* We pass a sequence of arrays that we want to join to the stack() method along with the axis. If axis is not explicitly passed it is taken as 0."
      ],
      "metadata": {
        "id": "qsJQ7qMoctVG"
      }
    },
    {
      "cell_type": "code",
      "source": [
        "newarr2 = np.stack((arr3, arr4), axis=1)\n",
        "print(newarr2)"
      ],
      "metadata": {
        "id": "4XEvvOIRc-41",
        "colab": {
          "base_uri": "https://localhost:8080/"
        },
        "outputId": "430a7e37-1d89-4f9e-b67b-bcdf49ba6fdf"
      },
      "execution_count": null,
      "outputs": [
        {
          "output_type": "stream",
          "name": "stdout",
          "text": [
            "[[1 4]\n",
            " [2 5]\n",
            " [3 6]]\n"
          ]
        }
      ]
    },
    {
      "cell_type": "markdown",
      "source": [
        "* NumPy provides a helper function: **hstack()** to stack along rows.\n"
      ],
      "metadata": {
        "id": "9nRVXptafD28"
      }
    },
    {
      "cell_type": "code",
      "source": [
        "newarr3 = np.hstack((arr3, arr4))\n",
        "print(newarr3)"
      ],
      "metadata": {
        "id": "d-U7prhtfQnb",
        "colab": {
          "base_uri": "https://localhost:8080/"
        },
        "outputId": "f3f4bee8-624f-4022-ee89-acfc9f4b7e79"
      },
      "execution_count": null,
      "outputs": [
        {
          "output_type": "stream",
          "name": "stdout",
          "text": [
            "[1 2 3 4 5 6]\n"
          ]
        }
      ]
    },
    {
      "cell_type": "markdown",
      "source": [
        "* NumPy provides a helper function: **vstack()**  to stack along columns."
      ],
      "metadata": {
        "id": "D1Yx8YkHfbnd"
      }
    },
    {
      "cell_type": "code",
      "source": [
        "newarr4 = np.vstack((arr3, arr4))\n",
        "print(newarr4)"
      ],
      "metadata": {
        "id": "sbBf5jJsfgod",
        "colab": {
          "base_uri": "https://localhost:8080/"
        },
        "outputId": "b73333bb-bd51-4512-c6a7-514b184a90df"
      },
      "execution_count": null,
      "outputs": [
        {
          "output_type": "stream",
          "name": "stdout",
          "text": [
            "[[1 2 3]\n",
            " [4 5 6]]\n"
          ]
        }
      ]
    },
    {
      "cell_type": "markdown",
      "source": [
        "* **dstack()** to stack along height, which is the same as depth."
      ],
      "metadata": {
        "id": "hOigK0QTf4Dg"
      }
    },
    {
      "cell_type": "code",
      "source": [
        "newarr5 = np.dstack((arr3, arr4))\n",
        "print(newarr5)"
      ],
      "metadata": {
        "id": "Y0uMT9dBfrul",
        "colab": {
          "base_uri": "https://localhost:8080/"
        },
        "outputId": "0c37cef1-34ce-472b-8059-cdd96901f665"
      },
      "execution_count": null,
      "outputs": [
        {
          "output_type": "stream",
          "name": "stdout",
          "text": [
            "[[[1 4]\n",
            "  [2 5]\n",
            "  [3 6]]]\n"
          ]
        }
      ]
    },
    {
      "cell_type": "markdown",
      "source": [
        "**Sorting Arrays**\n",
        "\n",
        "Sorting means putting elements in an ordered sequence.Ordered sequence is any sequence that has an order corresponding to elements, like numeric or alphabetical, ascending or descending.The NumPy ndarray object has a function called **sort()**, that will sort a specified array."
      ],
      "metadata": {
        "id": "Xu89dY4agMUP"
      }
    },
    {
      "cell_type": "code",
      "source": [
        "arr6 = np.array([39, 82, 40, 12, 25, 0])\n",
        "print(np.sort(arr6))"
      ],
      "metadata": {
        "id": "0sw0xRB9f1Un",
        "colab": {
          "base_uri": "https://localhost:8080/"
        },
        "outputId": "f4dfc369-09bd-449c-ee07-0ba7fc17fb0f"
      },
      "execution_count": null,
      "outputs": [
        {
          "output_type": "stream",
          "name": "stdout",
          "text": [
            "[ 0 12 25 39 40 82]\n"
          ]
        }
      ]
    },
    {
      "cell_type": "code",
      "source": [
        "arr7=np.array([\"Alex\",\"Advik\",\"Ayaan\",\"Andrew\",\"Asher\",\"Ariel\"])\n",
        "print(np.sort(arr7))"
      ],
      "metadata": {
        "id": "FfFKX9TNiFmE",
        "colab": {
          "base_uri": "https://localhost:8080/"
        },
        "outputId": "570c0412-98f6-45ec-d873-5df8bc3b35ef"
      },
      "execution_count": null,
      "outputs": [
        {
          "output_type": "stream",
          "name": "stdout",
          "text": [
            "['Advik' 'Alex' 'Andrew' 'Ariel' 'Asher' 'Ayaan']\n"
          ]
        }
      ]
    },
    {
      "cell_type": "code",
      "source": [
        "arr8 = np.array([[31, 22, 84], [95, 10, 12]])\n",
        "print(np.sort(arr8))"
      ],
      "metadata": {
        "id": "oTD-CQiNjEn9",
        "colab": {
          "base_uri": "https://localhost:8080/"
        },
        "outputId": "2c2cad8e-af58-4957-f644-e57b11ff7397"
      },
      "execution_count": null,
      "outputs": [
        {
          "output_type": "stream",
          "name": "stdout",
          "text": [
            "[[22 31 84]\n",
            " [10 12 95]]\n"
          ]
        }
      ]
    },
    {
      "cell_type": "markdown",
      "source": [
        "**What is a Random Number?**\n",
        "\n",
        "Random number does NOT mean a different number every time. Random means something that can not be predicted logically.\n",
        "\n",
        "**Generate Random Number**\n",
        "\n",
        "NumPy offers the random module to work with random numbers."
      ],
      "metadata": {
        "id": "K4MZ0VfejoD1"
      }
    },
    {
      "cell_type": "code",
      "source": [
        "from numpy import random\n",
        "a = random.randint(450)\n",
        "print(a)"
      ],
      "metadata": {
        "id": "rcxlnlntjzjp",
        "colab": {
          "base_uri": "https://localhost:8080/"
        },
        "outputId": "070681b2-043e-4d54-a653-2d0e0ae7b16c"
      },
      "execution_count": null,
      "outputs": [
        {
          "output_type": "stream",
          "name": "stdout",
          "text": [
            "228\n"
          ]
        }
      ]
    },
    {
      "cell_type": "markdown",
      "source": [
        "The random module's **rand()** method returns a random float between 0 and 1."
      ],
      "metadata": {
        "id": "oASJxHikj8YY"
      }
    },
    {
      "cell_type": "code",
      "source": [
        "b = random.rand()\n",
        "print(b)"
      ],
      "metadata": {
        "id": "3wdtZ5ajkD8k",
        "colab": {
          "base_uri": "https://localhost:8080/"
        },
        "outputId": "f0009f50-a72a-4cf3-d159-81fa649dbc51"
      },
      "execution_count": null,
      "outputs": [
        {
          "output_type": "stream",
          "name": "stdout",
          "text": [
            "0.904184270818259\n"
          ]
        }
      ]
    },
    {
      "cell_type": "markdown",
      "source": [
        "The **randint()** method takes a size parameter where you can specify the shape of an array."
      ],
      "metadata": {
        "id": "YsRqzFPVkSWz"
      }
    },
    {
      "cell_type": "code",
      "source": [
        "c=random.randint(1200, size=(10))\n",
        "print(c)"
      ],
      "metadata": {
        "id": "kPrwusU6kaQb",
        "colab": {
          "base_uri": "https://localhost:8080/"
        },
        "outputId": "2a90e7b3-ac91-4433-c3f9-586ca6b3f75b"
      },
      "execution_count": null,
      "outputs": [
        {
          "output_type": "stream",
          "name": "stdout",
          "text": [
            "[1043  490 1092  668  927 1042  111   57 1129  248]\n"
          ]
        }
      ]
    },
    {
      "cell_type": "code",
      "source": [
        "d = random.randint(780, size=(4, 6))\n",
        "print(d)"
      ],
      "metadata": {
        "id": "tSAiAOgBk3sD",
        "colab": {
          "base_uri": "https://localhost:8080/"
        },
        "outputId": "5367575d-20de-4954-8997-9d5bd8cdaaee"
      },
      "execution_count": null,
      "outputs": [
        {
          "output_type": "stream",
          "name": "stdout",
          "text": [
            "[[330 684 511 429 515 149]\n",
            " [449 164 323 467 506  52]\n",
            " [668 625 768 526 700 750]\n",
            " [435 266 597 406 200 357]]\n"
          ]
        }
      ]
    },
    {
      "cell_type": "markdown",
      "source": [
        "The **rand()** method also allows you to specify the shape of the array."
      ],
      "metadata": {
        "id": "lvX_h2K1kSls"
      }
    },
    {
      "cell_type": "code",
      "source": [
        "# Generate a 1-D array containing 5 random floats\n",
        "x = random.rand(5)\n",
        "print(x)"
      ],
      "metadata": {
        "id": "ygz4Rj9xlJXr",
        "colab": {
          "base_uri": "https://localhost:8080/"
        },
        "outputId": "1c80316c-9b1d-4be1-914b-6a333b5ab2ec"
      },
      "execution_count": null,
      "outputs": [
        {
          "output_type": "stream",
          "name": "stdout",
          "text": [
            "[0.05578433 0.36038776 0.48380388 0.46783925 0.77475563]\n"
          ]
        }
      ]
    },
    {
      "cell_type": "markdown",
      "source": [
        "**arange() function**\n",
        "\n",
        "\n",
        "The arange() function is used to get evenly spaced values within a given interval.\n",
        "Values are generated within the half-open interval [start, stop]. For integer arguments the function is equivalent to the Python built-in range function, but returns an ndarray rather than a list.\n",
        "When using a non-integer step, such as 0.1, the results will often not be consistent. It is better to use linspace for these cases.\n",
        "\n",
        "Syntax:\n",
        "\n",
        "\n",
        "```\n",
        "numpy.arange([start, ]stop, [step, ]dtype=None)\n",
        "```\n",
        "\n",
        "Return value:\n",
        "\n",
        "arange : ndarray - Array of evenly spaced values.\n",
        "\n",
        "For floating point arguments, the length of the result is ceil((stop - start)/step). Because of floating point overflow, this rule may result in the last element of out being greater than stop.\n"
      ],
      "metadata": {
        "id": "kEpBYepOPbA4"
      }
    },
    {
      "cell_type": "code",
      "source": [
        "import numpy as np\n",
        "print(\"\\n\", np.arange(4).reshape(2, 2), \"\\n\")\n",
        "print(\"\\n\", np.arange(4, 10), \"\\n\")\n",
        "print(\"\\n\", np.arange(4, 20, 3), \"\\n\")\n",
        "\n",
        "# Printing all numbers from 1 to\n",
        "# 2 in steps of 0.1\n",
        "print(np.arange(1, 2, 0.1))"
      ],
      "metadata": {
        "id": "K57S4CuMPxUR",
        "colab": {
          "base_uri": "https://localhost:8080/"
        },
        "outputId": "05c5d552-4a3d-4bda-c465-db71876a1ba7"
      },
      "execution_count": null,
      "outputs": [
        {
          "output_type": "stream",
          "name": "stdout",
          "text": [
            "\n",
            " [[0 1]\n",
            " [2 3]] \n",
            "\n",
            "\n",
            " [4 5 6 7 8 9] \n",
            "\n",
            "\n",
            " [ 4  7 10 13 16 19] \n",
            "\n",
            "[1.  1.1 1.2 1.3 1.4 1.5 1.6 1.7 1.8 1.9]\n"
          ]
        }
      ]
    },
    {
      "cell_type": "markdown",
      "source": [
        "We can also find product of all the elements of an array using **prod()** function."
      ],
      "metadata": {
        "id": "QUVzKLqFR0bc"
      }
    },
    {
      "cell_type": "code",
      "source": [
        "example=[12,5,0,45]\n",
        "product=np.prod(example)\n",
        "print(product)"
      ],
      "metadata": {
        "id": "8V8-GMq8RzdO",
        "colab": {
          "base_uri": "https://localhost:8080/"
        },
        "outputId": "dcc58bad-f648-4b36-f25a-3f55200926eb"
      },
      "execution_count": null,
      "outputs": [
        {
          "output_type": "stream",
          "name": "stdout",
          "text": [
            "0\n"
          ]
        }
      ]
    },
    {
      "cell_type": "code",
      "source": [
        "arr1 = np.array([1, 2, 3, 4])\n",
        "arr2 = np.array([5, 6, 7, 8])\n",
        "\n",
        "x = np.prod([arr1, arr2])    #finding product of two arrays\n",
        "\n",
        "print(x)"
      ],
      "metadata": {
        "id": "sL-65G8mTOSe",
        "colab": {
          "base_uri": "https://localhost:8080/"
        },
        "outputId": "b6e691fa-56d5-4859-cb44-432540003162"
      },
      "execution_count": null,
      "outputs": [
        {
          "output_type": "stream",
          "name": "stdout",
          "text": [
            "40320\n"
          ]
        }
      ]
    },
    {
      "cell_type": "code",
      "source": [
        "arr1 = np.array([1, 2, 3, 4])\n",
        "arr2 = np.array([5, 6, 7, 8])\n",
        "\n",
        "newarr = np.prod([arr1, arr2], axis=1)            #axis=1 means y axis\n",
        "\n",
        "print(newarr)"
      ],
      "metadata": {
        "id": "Hh6AU-UrTe4r",
        "colab": {
          "base_uri": "https://localhost:8080/"
        },
        "outputId": "f487ced9-efb6-4daa-b4d7-7f76e47652df"
      },
      "execution_count": null,
      "outputs": [
        {
          "output_type": "stream",
          "name": "stdout",
          "text": [
            "[  24 1680]\n"
          ]
        }
      ]
    },
    {
      "cell_type": "markdown",
      "source": [],
      "metadata": {
        "id": "sV17a5eST3SI"
      }
    },
    {
      "cell_type": "markdown",
      "source": [
        "**Cummulative Product**\n",
        "\n",
        "Cummulative product means taking the product partially.\n",
        "\n",
        "E.g. The partial product of [1, 2, 3, 4] is [1, 1*2, 1*2*3, 1*2*3*4] = [1, 2, 6, 24]\n",
        "\n",
        "Perfom partial sum with the **cumprod()** function."
      ],
      "metadata": {
        "id": "4GwabOBgT3dR"
      }
    },
    {
      "cell_type": "code",
      "source": [
        "arr=[1,4,7,8,9,6]\n",
        "newarr = np.cumprod(arr)\n",
        "print(newarr)"
      ],
      "metadata": {
        "id": "RSQLQcs9UeLD",
        "colab": {
          "base_uri": "https://localhost:8080/"
        },
        "outputId": "39e7a48c-3d91-41dd-fe8e-393ad07d6b18"
      },
      "execution_count": null,
      "outputs": [
        {
          "output_type": "stream",
          "name": "stdout",
          "text": [
            "[    1     4    28   224  2016 12096]\n"
          ]
        }
      ]
    },
    {
      "cell_type": "markdown",
      "source": [
        "**numpy.multiply()**\n",
        "\n",
        "**numpy.multiply()** function is used when we want to compute the multiplication of two array. It returns the product of arr1 and arr2, element-wise."
      ],
      "metadata": {
        "id": "PkQ0Zmv2sxwp"
      }
    },
    {
      "cell_type": "code",
      "source": [
        "\n",
        "# Python program explaining\n",
        "# numpy.multiply() function\n",
        "\n",
        "import numpy as np\n",
        "\n",
        "in_arr1 = np.array([[2, -7, 5], [-6, 2, 0]])\n",
        "in_arr2 = np.array([[0, -7, 8], [5, -2, 9]])\n",
        "\n",
        "print (\"1st Input array : \", in_arr1)\n",
        "print (\"2nd Input array : \", in_arr2)\n",
        "\n",
        "\n",
        "out_arr = np.multiply(in_arr1, in_arr2)\n",
        "print (\"Resultant output array: \", out_arr)"
      ],
      "metadata": {
        "id": "4OiTbSEmtZ5C",
        "colab": {
          "base_uri": "https://localhost:8080/"
        },
        "outputId": "15ab73d0-7341-4e7e-e68c-d983cc4c7e4b"
      },
      "execution_count": null,
      "outputs": [
        {
          "output_type": "stream",
          "name": "stdout",
          "text": [
            "1st Input array :  [[ 2 -7  5]\n",
            " [-6  2  0]]\n",
            "2nd Input array :  [[ 0 -7  8]\n",
            " [ 5 -2  9]]\n",
            "Resultant output array:  [[  0  49  40]\n",
            " [-30  -4   0]]\n"
          ]
        }
      ]
    },
    {
      "cell_type": "markdown",
      "source": [
        "**Cross Product**\n",
        "\n",
        "Cross product of two vectors yield a vector that is perpendicular to the plane formed by the input vectors and its magnitude is proportional to the area spanned by the parallelogram formed by these input vectors.\n",
        "\n",
        "We can compute cross product using Numpy **cross()** function."
      ],
      "metadata": {
        "id": "_VSBQMEzuKK9"
      }
    },
    {
      "cell_type": "code",
      "source": [
        "A = np.array([2, 3])\n",
        "B = np.array([1, 7])\n",
        "\n",
        "#compute cross product\n",
        "output = np.cross(A, B)\n",
        "\n",
        "print(output)"
      ],
      "metadata": {
        "id": "3eYdQ1aRupNx",
        "colab": {
          "base_uri": "https://localhost:8080/"
        },
        "outputId": "34c78450-7cf9-4831-ee81-97ce9daddce6"
      },
      "execution_count": null,
      "outputs": [
        {
          "output_type": "stream",
          "name": "stdout",
          "text": [
            "11\n"
          ]
        }
      ]
    },
    {
      "cell_type": "code",
      "source": [
        "C = np.array([2, 7, 4])\n",
        "D = np.array([3, 9, 8])\n",
        "\n",
        "#compute cross product\n",
        "output = np.cross(C, D)\n",
        "\n",
        "print(output)"
      ],
      "metadata": {
        "id": "3PGWi9Zcv2v-",
        "colab": {
          "base_uri": "https://localhost:8080/"
        },
        "outputId": "34471cac-9859-4c84-87de-d27568a7f1bd"
      },
      "execution_count": null,
      "outputs": [
        {
          "output_type": "stream",
          "name": "stdout",
          "text": [
            "[20 -4 -3]\n"
          ]
        }
      ]
    },
    {
      "cell_type": "markdown",
      "source": [
        "A **discrete difference** means subtracting two successive elements.\n",
        "\n",
        "E.g. for [1, 2, 3, 4], the discrete difference would be [2-1, 3-2, 4-3] = [1, 1, 1]\n",
        "\n",
        "To find the discrete difference, use the **diff()** function."
      ],
      "metadata": {
        "id": "-uH38izCVXMN"
      }
    },
    {
      "cell_type": "code",
      "source": [
        "X = np.array([10, 15, 25, 5])\n",
        "\n",
        "newX = np.diff(X)\n",
        "\n",
        "print(newX)"
      ],
      "metadata": {
        "id": "1pvnjeMMwyYJ",
        "colab": {
          "base_uri": "https://localhost:8080/"
        },
        "outputId": "068717ed-f8d0-4cd9-d52c-151ed854622b"
      },
      "execution_count": null,
      "outputs": [
        {
          "output_type": "stream",
          "name": "stdout",
          "text": [
            "[  5  10 -20]\n"
          ]
        }
      ]
    },
    {
      "cell_type": "markdown",
      "source": [
        "2. **Pandas**\n",
        "\n",
        "**Pandas** is an open-source library that is made mainly for working with relational or labeled data both easily and intuitively. It provides various data structures and operations for manipulating numerical data and time series. This library is built on top of the NumPy library. Pandas is fast and it has high performance & productivity for users."
      ],
      "metadata": {
        "id": "jVHYf3mEyndy"
      }
    },
    {
      "cell_type": "markdown",
      "source": [
        "**Getting started with Pandas**\n",
        "\n",
        "The first step of working in pandas is to ensure whether it is installed in the Python folder or not.  If not then we need to install it in our system using pip command. Type cmd command in the search box and locate the folder using cd command where python-pip file has been installed.  After locating it, type the command:\n",
        "\n",
        "\n",
        "\n",
        "```\n",
        "pip install pandas\n",
        "```\n",
        "\n",
        "After the pandas have been installed into the system, you need to import the library. This module is generally imported as:\n",
        "\n",
        "\n",
        "\n",
        "```\n",
        "import pandas as pd\n",
        "```\n",
        "\n",
        "Here, pd is referred to as an alias to the Pandas.\n"
      ],
      "metadata": {
        "id": "9IacqOUM2o-y"
      }
    },
    {
      "cell_type": "markdown",
      "source": [
        "Pandas generally provide two data structures for manipulating data, They are:\n",
        "\n",
        "* ** Series**:\n",
        "\n",
        "Pandas Series is a one-dimensional labeled array capable of holding data of any type (integer, string, float, python objects, etc.). The axis labels are collectively called indexes. Pandas Series is nothing but a column in an excel sheet. Labels need not be unique but must be a hashable type. The object supports both integer and label-based indexing and provides a host of methods for performing operations involving the index.\n",
        "\n",
        "**Creating a Series**\n",
        "\n",
        "In the real world, a Pandas Series will be created by loading the datasets from existing storage, storage can be SQL Database, CSV file, an Excel file. Pandas Series can be created from the lists, dictionary, and from a scalar value etc."
      ],
      "metadata": {
        "id": "FdA2f0FD4PnM"
      }
    },
    {
      "cell_type": "markdown",
      "source": [
        "* **DataFrame**:\n",
        "\n",
        "Pandas DataFrame is a two-dimensional size-mutable, potentially heterogeneous tabular data structure with labeled axes (rows and columns). A Data frame is a two-dimensional data structure, i.e., data is aligned in a tabular fashion in rows and columns. Pandas DataFrame consists of three principal components, the data, rows, and columns.\n",
        "\n",
        "**Creating a DataFrame**:\n",
        "\n",
        "In the real world, a Pandas DataFrame will be created by loading the datasets from existing storage, storage can be SQL Database, CSV file, an Excel file. Pandas DataFrame can be created from the lists, dictionary, and from a list of dictionaries, etc."
      ],
      "metadata": {
        "id": "5WqrPcsv47nw"
      }
    },
    {
      "cell_type": "markdown",
      "source": [
        "**Read CSV Files**\n",
        "\n",
        "A simple way to store big data sets is to use CSV files (comma separated files).\n",
        "\n",
        "CSV files contains plain text and is a well know format that can be read by everyone including Pandas.\n",
        "\n",
        "Load the CSV into a DataFrame:\n",
        "\n",
        "```\n",
        "\n",
        "import pandas as pd\n",
        "\n",
        "df = pd.read_csv('data.csv')\n",
        "\n",
        "print(df.to_string())\n",
        "```\n",
        "\n"
      ],
      "metadata": {
        "id": "KQbL9WzO6H4c"
      }
    },
    {
      "cell_type": "code",
      "source": [
        "#creating a dataframe using dictionary\n",
        "import pandas as pd\n",
        "import numpy as np\n",
        "df=pd.DataFrame({'Name':['Alex','Benjamin','Divyanshi','Asif','Yashi','Archie','Chris'],\n",
        "      'Computer Science':[12,58,78,96,32,np.nan,np.nan],\n",
        "      'Maths':[87,45, np.nan,25,75,20,3],\n",
        "      'Physics':[np.nan,np.nan ,67,90,11,8,57]},index=[1,2,3,4,5,6,7])\n",
        "df"
      ],
      "metadata": {
        "id": "lr9QNDM2g0V0",
        "colab": {
          "base_uri": "https://localhost:8080/",
          "height": 269
        },
        "outputId": "4de14204-f89b-44d8-d054-45199d571bc1"
      },
      "execution_count": null,
      "outputs": [
        {
          "output_type": "execute_result",
          "data": {
            "text/plain": [
              "        Name  Computer Science  Maths  Physics\n",
              "1       Alex              12.0   87.0      NaN\n",
              "2   Benjamin              58.0   45.0      NaN\n",
              "3  Divyanshi              78.0    NaN     67.0\n",
              "4       Asif              96.0   25.0     90.0\n",
              "5      Yashi              32.0   75.0     11.0\n",
              "6     Archie               NaN   20.0      8.0\n",
              "7      Chris               NaN    3.0     57.0"
            ],
            "text/html": [
              "\n",
              "  <div id=\"df-050e20cb-ed1f-4060-be7e-f3c90361e8ee\">\n",
              "    <div class=\"colab-df-container\">\n",
              "      <div>\n",
              "<style scoped>\n",
              "    .dataframe tbody tr th:only-of-type {\n",
              "        vertical-align: middle;\n",
              "    }\n",
              "\n",
              "    .dataframe tbody tr th {\n",
              "        vertical-align: top;\n",
              "    }\n",
              "\n",
              "    .dataframe thead th {\n",
              "        text-align: right;\n",
              "    }\n",
              "</style>\n",
              "<table border=\"1\" class=\"dataframe\">\n",
              "  <thead>\n",
              "    <tr style=\"text-align: right;\">\n",
              "      <th></th>\n",
              "      <th>Name</th>\n",
              "      <th>Computer Science</th>\n",
              "      <th>Maths</th>\n",
              "      <th>Physics</th>\n",
              "    </tr>\n",
              "  </thead>\n",
              "  <tbody>\n",
              "    <tr>\n",
              "      <th>1</th>\n",
              "      <td>Alex</td>\n",
              "      <td>12.0</td>\n",
              "      <td>87.0</td>\n",
              "      <td>NaN</td>\n",
              "    </tr>\n",
              "    <tr>\n",
              "      <th>2</th>\n",
              "      <td>Benjamin</td>\n",
              "      <td>58.0</td>\n",
              "      <td>45.0</td>\n",
              "      <td>NaN</td>\n",
              "    </tr>\n",
              "    <tr>\n",
              "      <th>3</th>\n",
              "      <td>Divyanshi</td>\n",
              "      <td>78.0</td>\n",
              "      <td>NaN</td>\n",
              "      <td>67.0</td>\n",
              "    </tr>\n",
              "    <tr>\n",
              "      <th>4</th>\n",
              "      <td>Asif</td>\n",
              "      <td>96.0</td>\n",
              "      <td>25.0</td>\n",
              "      <td>90.0</td>\n",
              "    </tr>\n",
              "    <tr>\n",
              "      <th>5</th>\n",
              "      <td>Yashi</td>\n",
              "      <td>32.0</td>\n",
              "      <td>75.0</td>\n",
              "      <td>11.0</td>\n",
              "    </tr>\n",
              "    <tr>\n",
              "      <th>6</th>\n",
              "      <td>Archie</td>\n",
              "      <td>NaN</td>\n",
              "      <td>20.0</td>\n",
              "      <td>8.0</td>\n",
              "    </tr>\n",
              "    <tr>\n",
              "      <th>7</th>\n",
              "      <td>Chris</td>\n",
              "      <td>NaN</td>\n",
              "      <td>3.0</td>\n",
              "      <td>57.0</td>\n",
              "    </tr>\n",
              "  </tbody>\n",
              "</table>\n",
              "</div>\n",
              "      <button class=\"colab-df-convert\" onclick=\"convertToInteractive('df-050e20cb-ed1f-4060-be7e-f3c90361e8ee')\"\n",
              "              title=\"Convert this dataframe to an interactive table.\"\n",
              "              style=\"display:none;\">\n",
              "        \n",
              "  <svg xmlns=\"http://www.w3.org/2000/svg\" height=\"24px\"viewBox=\"0 0 24 24\"\n",
              "       width=\"24px\">\n",
              "    <path d=\"M0 0h24v24H0V0z\" fill=\"none\"/>\n",
              "    <path d=\"M18.56 5.44l.94 2.06.94-2.06 2.06-.94-2.06-.94-.94-2.06-.94 2.06-2.06.94zm-11 1L8.5 8.5l.94-2.06 2.06-.94-2.06-.94L8.5 2.5l-.94 2.06-2.06.94zm10 10l.94 2.06.94-2.06 2.06-.94-2.06-.94-.94-2.06-.94 2.06-2.06.94z\"/><path d=\"M17.41 7.96l-1.37-1.37c-.4-.4-.92-.59-1.43-.59-.52 0-1.04.2-1.43.59L10.3 9.45l-7.72 7.72c-.78.78-.78 2.05 0 2.83L4 21.41c.39.39.9.59 1.41.59.51 0 1.02-.2 1.41-.59l7.78-7.78 2.81-2.81c.8-.78.8-2.07 0-2.86zM5.41 20L4 18.59l7.72-7.72 1.47 1.35L5.41 20z\"/>\n",
              "  </svg>\n",
              "      </button>\n",
              "      \n",
              "  <style>\n",
              "    .colab-df-container {\n",
              "      display:flex;\n",
              "      flex-wrap:wrap;\n",
              "      gap: 12px;\n",
              "    }\n",
              "\n",
              "    .colab-df-convert {\n",
              "      background-color: #E8F0FE;\n",
              "      border: none;\n",
              "      border-radius: 50%;\n",
              "      cursor: pointer;\n",
              "      display: none;\n",
              "      fill: #1967D2;\n",
              "      height: 32px;\n",
              "      padding: 0 0 0 0;\n",
              "      width: 32px;\n",
              "    }\n",
              "\n",
              "    .colab-df-convert:hover {\n",
              "      background-color: #E2EBFA;\n",
              "      box-shadow: 0px 1px 2px rgba(60, 64, 67, 0.3), 0px 1px 3px 1px rgba(60, 64, 67, 0.15);\n",
              "      fill: #174EA6;\n",
              "    }\n",
              "\n",
              "    [theme=dark] .colab-df-convert {\n",
              "      background-color: #3B4455;\n",
              "      fill: #D2E3FC;\n",
              "    }\n",
              "\n",
              "    [theme=dark] .colab-df-convert:hover {\n",
              "      background-color: #434B5C;\n",
              "      box-shadow: 0px 1px 3px 1px rgba(0, 0, 0, 0.15);\n",
              "      filter: drop-shadow(0px 1px 2px rgba(0, 0, 0, 0.3));\n",
              "      fill: #FFFFFF;\n",
              "    }\n",
              "  </style>\n",
              "\n",
              "      <script>\n",
              "        const buttonEl =\n",
              "          document.querySelector('#df-050e20cb-ed1f-4060-be7e-f3c90361e8ee button.colab-df-convert');\n",
              "        buttonEl.style.display =\n",
              "          google.colab.kernel.accessAllowed ? 'block' : 'none';\n",
              "\n",
              "        async function convertToInteractive(key) {\n",
              "          const element = document.querySelector('#df-050e20cb-ed1f-4060-be7e-f3c90361e8ee');\n",
              "          const dataTable =\n",
              "            await google.colab.kernel.invokeFunction('convertToInteractive',\n",
              "                                                     [key], {});\n",
              "          if (!dataTable) return;\n",
              "\n",
              "          const docLinkHtml = 'Like what you see? Visit the ' +\n",
              "            '<a target=\"_blank\" href=https://colab.research.google.com/notebooks/data_table.ipynb>data table notebook</a>'\n",
              "            + ' to learn more about interactive tables.';\n",
              "          element.innerHTML = '';\n",
              "          dataTable['output_type'] = 'display_data';\n",
              "          await google.colab.output.renderOutput(dataTable, element);\n",
              "          const docLink = document.createElement('div');\n",
              "          docLink.innerHTML = docLinkHtml;\n",
              "          element.appendChild(docLink);\n",
              "        }\n",
              "      </script>\n",
              "    </div>\n",
              "  </div>\n",
              "  "
            ]
          },
          "metadata": {},
          "execution_count": 417
        }
      ]
    },
    {
      "cell_type": "markdown",
      "source": [
        "# **`Analyzing data using Pandas`**\n",
        "\n",
        "* One of the most used method for getting a quick overview of the DataFrame, is the **head()** method.The **head()** method returns the headers and a specified number of rows, starting from the top.\n",
        "\n",
        "* There is also a **tail()** method for viewing the last rows of the DataFrame.The **tail()** method returns the headers and a specified number of rows, starting from the bottom."
      ],
      "metadata": {
        "id": "_d-revuzpkeD"
      }
    },
    {
      "cell_type": "code",
      "source": [
        "df.head()"
      ],
      "metadata": {
        "id": "kkc32x7IslWd",
        "colab": {
          "base_uri": "https://localhost:8080/",
          "height": 206
        },
        "outputId": "d6ede0a2-205d-444a-c349-6b690441a0c5"
      },
      "execution_count": null,
      "outputs": [
        {
          "output_type": "execute_result",
          "data": {
            "text/plain": [
              "        Name  Computer Science  Maths  Physics\n",
              "1       Alex              12.0   87.0      NaN\n",
              "2   Benjamin              58.0   45.0      NaN\n",
              "3  Divyanshi              78.0    NaN     67.0\n",
              "4       Asif              96.0   25.0     90.0\n",
              "5      Yashi              32.0   75.0     11.0"
            ],
            "text/html": [
              "\n",
              "  <div id=\"df-d0c4bdf4-e0c9-4f11-8506-6274eba91316\">\n",
              "    <div class=\"colab-df-container\">\n",
              "      <div>\n",
              "<style scoped>\n",
              "    .dataframe tbody tr th:only-of-type {\n",
              "        vertical-align: middle;\n",
              "    }\n",
              "\n",
              "    .dataframe tbody tr th {\n",
              "        vertical-align: top;\n",
              "    }\n",
              "\n",
              "    .dataframe thead th {\n",
              "        text-align: right;\n",
              "    }\n",
              "</style>\n",
              "<table border=\"1\" class=\"dataframe\">\n",
              "  <thead>\n",
              "    <tr style=\"text-align: right;\">\n",
              "      <th></th>\n",
              "      <th>Name</th>\n",
              "      <th>Computer Science</th>\n",
              "      <th>Maths</th>\n",
              "      <th>Physics</th>\n",
              "    </tr>\n",
              "  </thead>\n",
              "  <tbody>\n",
              "    <tr>\n",
              "      <th>1</th>\n",
              "      <td>Alex</td>\n",
              "      <td>12.0</td>\n",
              "      <td>87.0</td>\n",
              "      <td>NaN</td>\n",
              "    </tr>\n",
              "    <tr>\n",
              "      <th>2</th>\n",
              "      <td>Benjamin</td>\n",
              "      <td>58.0</td>\n",
              "      <td>45.0</td>\n",
              "      <td>NaN</td>\n",
              "    </tr>\n",
              "    <tr>\n",
              "      <th>3</th>\n",
              "      <td>Divyanshi</td>\n",
              "      <td>78.0</td>\n",
              "      <td>NaN</td>\n",
              "      <td>67.0</td>\n",
              "    </tr>\n",
              "    <tr>\n",
              "      <th>4</th>\n",
              "      <td>Asif</td>\n",
              "      <td>96.0</td>\n",
              "      <td>25.0</td>\n",
              "      <td>90.0</td>\n",
              "    </tr>\n",
              "    <tr>\n",
              "      <th>5</th>\n",
              "      <td>Yashi</td>\n",
              "      <td>32.0</td>\n",
              "      <td>75.0</td>\n",
              "      <td>11.0</td>\n",
              "    </tr>\n",
              "  </tbody>\n",
              "</table>\n",
              "</div>\n",
              "      <button class=\"colab-df-convert\" onclick=\"convertToInteractive('df-d0c4bdf4-e0c9-4f11-8506-6274eba91316')\"\n",
              "              title=\"Convert this dataframe to an interactive table.\"\n",
              "              style=\"display:none;\">\n",
              "        \n",
              "  <svg xmlns=\"http://www.w3.org/2000/svg\" height=\"24px\"viewBox=\"0 0 24 24\"\n",
              "       width=\"24px\">\n",
              "    <path d=\"M0 0h24v24H0V0z\" fill=\"none\"/>\n",
              "    <path d=\"M18.56 5.44l.94 2.06.94-2.06 2.06-.94-2.06-.94-.94-2.06-.94 2.06-2.06.94zm-11 1L8.5 8.5l.94-2.06 2.06-.94-2.06-.94L8.5 2.5l-.94 2.06-2.06.94zm10 10l.94 2.06.94-2.06 2.06-.94-2.06-.94-.94-2.06-.94 2.06-2.06.94z\"/><path d=\"M17.41 7.96l-1.37-1.37c-.4-.4-.92-.59-1.43-.59-.52 0-1.04.2-1.43.59L10.3 9.45l-7.72 7.72c-.78.78-.78 2.05 0 2.83L4 21.41c.39.39.9.59 1.41.59.51 0 1.02-.2 1.41-.59l7.78-7.78 2.81-2.81c.8-.78.8-2.07 0-2.86zM5.41 20L4 18.59l7.72-7.72 1.47 1.35L5.41 20z\"/>\n",
              "  </svg>\n",
              "      </button>\n",
              "      \n",
              "  <style>\n",
              "    .colab-df-container {\n",
              "      display:flex;\n",
              "      flex-wrap:wrap;\n",
              "      gap: 12px;\n",
              "    }\n",
              "\n",
              "    .colab-df-convert {\n",
              "      background-color: #E8F0FE;\n",
              "      border: none;\n",
              "      border-radius: 50%;\n",
              "      cursor: pointer;\n",
              "      display: none;\n",
              "      fill: #1967D2;\n",
              "      height: 32px;\n",
              "      padding: 0 0 0 0;\n",
              "      width: 32px;\n",
              "    }\n",
              "\n",
              "    .colab-df-convert:hover {\n",
              "      background-color: #E2EBFA;\n",
              "      box-shadow: 0px 1px 2px rgba(60, 64, 67, 0.3), 0px 1px 3px 1px rgba(60, 64, 67, 0.15);\n",
              "      fill: #174EA6;\n",
              "    }\n",
              "\n",
              "    [theme=dark] .colab-df-convert {\n",
              "      background-color: #3B4455;\n",
              "      fill: #D2E3FC;\n",
              "    }\n",
              "\n",
              "    [theme=dark] .colab-df-convert:hover {\n",
              "      background-color: #434B5C;\n",
              "      box-shadow: 0px 1px 3px 1px rgba(0, 0, 0, 0.15);\n",
              "      filter: drop-shadow(0px 1px 2px rgba(0, 0, 0, 0.3));\n",
              "      fill: #FFFFFF;\n",
              "    }\n",
              "  </style>\n",
              "\n",
              "      <script>\n",
              "        const buttonEl =\n",
              "          document.querySelector('#df-d0c4bdf4-e0c9-4f11-8506-6274eba91316 button.colab-df-convert');\n",
              "        buttonEl.style.display =\n",
              "          google.colab.kernel.accessAllowed ? 'block' : 'none';\n",
              "\n",
              "        async function convertToInteractive(key) {\n",
              "          const element = document.querySelector('#df-d0c4bdf4-e0c9-4f11-8506-6274eba91316');\n",
              "          const dataTable =\n",
              "            await google.colab.kernel.invokeFunction('convertToInteractive',\n",
              "                                                     [key], {});\n",
              "          if (!dataTable) return;\n",
              "\n",
              "          const docLinkHtml = 'Like what you see? Visit the ' +\n",
              "            '<a target=\"_blank\" href=https://colab.research.google.com/notebooks/data_table.ipynb>data table notebook</a>'\n",
              "            + ' to learn more about interactive tables.';\n",
              "          element.innerHTML = '';\n",
              "          dataTable['output_type'] = 'display_data';\n",
              "          await google.colab.output.renderOutput(dataTable, element);\n",
              "          const docLink = document.createElement('div');\n",
              "          docLink.innerHTML = docLinkHtml;\n",
              "          element.appendChild(docLink);\n",
              "        }\n",
              "      </script>\n",
              "    </div>\n",
              "  </div>\n",
              "  "
            ]
          },
          "metadata": {},
          "execution_count": 418
        }
      ]
    },
    {
      "cell_type": "code",
      "source": [
        "df.tail()"
      ],
      "metadata": {
        "id": "VU3ya3EQzRc_",
        "colab": {
          "base_uri": "https://localhost:8080/",
          "height": 206
        },
        "outputId": "9ad13e8b-713e-4f6f-929c-810024c127d4"
      },
      "execution_count": null,
      "outputs": [
        {
          "output_type": "execute_result",
          "data": {
            "text/plain": [
              "        Name  Computer Science  Maths  Physics\n",
              "3  Divyanshi              78.0    NaN     67.0\n",
              "4       Asif              96.0   25.0     90.0\n",
              "5      Yashi              32.0   75.0     11.0\n",
              "6     Archie               NaN   20.0      8.0\n",
              "7      Chris               NaN    3.0     57.0"
            ],
            "text/html": [
              "\n",
              "  <div id=\"df-cf8ffb47-189d-43fd-85d3-7c232506539b\">\n",
              "    <div class=\"colab-df-container\">\n",
              "      <div>\n",
              "<style scoped>\n",
              "    .dataframe tbody tr th:only-of-type {\n",
              "        vertical-align: middle;\n",
              "    }\n",
              "\n",
              "    .dataframe tbody tr th {\n",
              "        vertical-align: top;\n",
              "    }\n",
              "\n",
              "    .dataframe thead th {\n",
              "        text-align: right;\n",
              "    }\n",
              "</style>\n",
              "<table border=\"1\" class=\"dataframe\">\n",
              "  <thead>\n",
              "    <tr style=\"text-align: right;\">\n",
              "      <th></th>\n",
              "      <th>Name</th>\n",
              "      <th>Computer Science</th>\n",
              "      <th>Maths</th>\n",
              "      <th>Physics</th>\n",
              "    </tr>\n",
              "  </thead>\n",
              "  <tbody>\n",
              "    <tr>\n",
              "      <th>3</th>\n",
              "      <td>Divyanshi</td>\n",
              "      <td>78.0</td>\n",
              "      <td>NaN</td>\n",
              "      <td>67.0</td>\n",
              "    </tr>\n",
              "    <tr>\n",
              "      <th>4</th>\n",
              "      <td>Asif</td>\n",
              "      <td>96.0</td>\n",
              "      <td>25.0</td>\n",
              "      <td>90.0</td>\n",
              "    </tr>\n",
              "    <tr>\n",
              "      <th>5</th>\n",
              "      <td>Yashi</td>\n",
              "      <td>32.0</td>\n",
              "      <td>75.0</td>\n",
              "      <td>11.0</td>\n",
              "    </tr>\n",
              "    <tr>\n",
              "      <th>6</th>\n",
              "      <td>Archie</td>\n",
              "      <td>NaN</td>\n",
              "      <td>20.0</td>\n",
              "      <td>8.0</td>\n",
              "    </tr>\n",
              "    <tr>\n",
              "      <th>7</th>\n",
              "      <td>Chris</td>\n",
              "      <td>NaN</td>\n",
              "      <td>3.0</td>\n",
              "      <td>57.0</td>\n",
              "    </tr>\n",
              "  </tbody>\n",
              "</table>\n",
              "</div>\n",
              "      <button class=\"colab-df-convert\" onclick=\"convertToInteractive('df-cf8ffb47-189d-43fd-85d3-7c232506539b')\"\n",
              "              title=\"Convert this dataframe to an interactive table.\"\n",
              "              style=\"display:none;\">\n",
              "        \n",
              "  <svg xmlns=\"http://www.w3.org/2000/svg\" height=\"24px\"viewBox=\"0 0 24 24\"\n",
              "       width=\"24px\">\n",
              "    <path d=\"M0 0h24v24H0V0z\" fill=\"none\"/>\n",
              "    <path d=\"M18.56 5.44l.94 2.06.94-2.06 2.06-.94-2.06-.94-.94-2.06-.94 2.06-2.06.94zm-11 1L8.5 8.5l.94-2.06 2.06-.94-2.06-.94L8.5 2.5l-.94 2.06-2.06.94zm10 10l.94 2.06.94-2.06 2.06-.94-2.06-.94-.94-2.06-.94 2.06-2.06.94z\"/><path d=\"M17.41 7.96l-1.37-1.37c-.4-.4-.92-.59-1.43-.59-.52 0-1.04.2-1.43.59L10.3 9.45l-7.72 7.72c-.78.78-.78 2.05 0 2.83L4 21.41c.39.39.9.59 1.41.59.51 0 1.02-.2 1.41-.59l7.78-7.78 2.81-2.81c.8-.78.8-2.07 0-2.86zM5.41 20L4 18.59l7.72-7.72 1.47 1.35L5.41 20z\"/>\n",
              "  </svg>\n",
              "      </button>\n",
              "      \n",
              "  <style>\n",
              "    .colab-df-container {\n",
              "      display:flex;\n",
              "      flex-wrap:wrap;\n",
              "      gap: 12px;\n",
              "    }\n",
              "\n",
              "    .colab-df-convert {\n",
              "      background-color: #E8F0FE;\n",
              "      border: none;\n",
              "      border-radius: 50%;\n",
              "      cursor: pointer;\n",
              "      display: none;\n",
              "      fill: #1967D2;\n",
              "      height: 32px;\n",
              "      padding: 0 0 0 0;\n",
              "      width: 32px;\n",
              "    }\n",
              "\n",
              "    .colab-df-convert:hover {\n",
              "      background-color: #E2EBFA;\n",
              "      box-shadow: 0px 1px 2px rgba(60, 64, 67, 0.3), 0px 1px 3px 1px rgba(60, 64, 67, 0.15);\n",
              "      fill: #174EA6;\n",
              "    }\n",
              "\n",
              "    [theme=dark] .colab-df-convert {\n",
              "      background-color: #3B4455;\n",
              "      fill: #D2E3FC;\n",
              "    }\n",
              "\n",
              "    [theme=dark] .colab-df-convert:hover {\n",
              "      background-color: #434B5C;\n",
              "      box-shadow: 0px 1px 3px 1px rgba(0, 0, 0, 0.15);\n",
              "      filter: drop-shadow(0px 1px 2px rgba(0, 0, 0, 0.3));\n",
              "      fill: #FFFFFF;\n",
              "    }\n",
              "  </style>\n",
              "\n",
              "      <script>\n",
              "        const buttonEl =\n",
              "          document.querySelector('#df-cf8ffb47-189d-43fd-85d3-7c232506539b button.colab-df-convert');\n",
              "        buttonEl.style.display =\n",
              "          google.colab.kernel.accessAllowed ? 'block' : 'none';\n",
              "\n",
              "        async function convertToInteractive(key) {\n",
              "          const element = document.querySelector('#df-cf8ffb47-189d-43fd-85d3-7c232506539b');\n",
              "          const dataTable =\n",
              "            await google.colab.kernel.invokeFunction('convertToInteractive',\n",
              "                                                     [key], {});\n",
              "          if (!dataTable) return;\n",
              "\n",
              "          const docLinkHtml = 'Like what you see? Visit the ' +\n",
              "            '<a target=\"_blank\" href=https://colab.research.google.com/notebooks/data_table.ipynb>data table notebook</a>'\n",
              "            + ' to learn more about interactive tables.';\n",
              "          element.innerHTML = '';\n",
              "          dataTable['output_type'] = 'display_data';\n",
              "          await google.colab.output.renderOutput(dataTable, element);\n",
              "          const docLink = document.createElement('div');\n",
              "          docLink.innerHTML = docLinkHtml;\n",
              "          element.appendChild(docLink);\n",
              "        }\n",
              "      </script>\n",
              "    </div>\n",
              "  </div>\n",
              "  "
            ]
          },
          "metadata": {},
          "execution_count": 419
        }
      ]
    },
    {
      "cell_type": "markdown",
      "source": [
        "**Information About the Data**\n",
        "\n",
        "* The DataFrames object has a method called **info()**, that gives you more information about the data set."
      ],
      "metadata": {
        "id": "7RehIwvW75Oq"
      }
    },
    {
      "cell_type": "code",
      "source": [
        "df.info()"
      ],
      "metadata": {
        "id": "-xQBoExh74B4",
        "colab": {
          "base_uri": "https://localhost:8080/"
        },
        "outputId": "0e4a3d7c-f36c-407c-f508-254336f4cd49"
      },
      "execution_count": null,
      "outputs": [
        {
          "output_type": "stream",
          "name": "stdout",
          "text": [
            "<class 'pandas.core.frame.DataFrame'>\n",
            "Int64Index: 7 entries, 1 to 7\n",
            "Data columns (total 4 columns):\n",
            " #   Column            Non-Null Count  Dtype  \n",
            "---  ------            --------------  -----  \n",
            " 0   Name              7 non-null      object \n",
            " 1   Computer Science  5 non-null      float64\n",
            " 2   Maths             6 non-null      float64\n",
            " 3   Physics           5 non-null      float64\n",
            "dtypes: float64(3), object(1)\n",
            "memory usage: 280.0+ bytes\n"
          ]
        }
      ]
    },
    {
      "cell_type": "markdown",
      "source": [
        "* **df.shape** gives you the shape of the complete dataset ,i.e., number of rows and columns respectively.\n",
        "While, **df.shape[0]** tells you the no. of rows and **df.shape[1]** gives you the no. of columns ."
      ],
      "metadata": {
        "id": "HEjuLx0X8Ozr"
      }
    },
    {
      "cell_type": "code",
      "source": [
        "df.shape"
      ],
      "metadata": {
        "id": "d4dPx-ph8t0v",
        "colab": {
          "base_uri": "https://localhost:8080/"
        },
        "outputId": "be727235-855f-4b84-9f05-7782a9b3a1d7"
      },
      "execution_count": null,
      "outputs": [
        {
          "output_type": "execute_result",
          "data": {
            "text/plain": [
              "(7, 4)"
            ]
          },
          "metadata": {},
          "execution_count": 421
        }
      ]
    },
    {
      "cell_type": "code",
      "source": [
        "df.shape[0]"
      ],
      "metadata": {
        "id": "o1rO8rCW8ywH",
        "colab": {
          "base_uri": "https://localhost:8080/"
        },
        "outputId": "10e3b1b6-30a4-4021-ae50-094753955b38"
      },
      "execution_count": null,
      "outputs": [
        {
          "output_type": "execute_result",
          "data": {
            "text/plain": [
              "7"
            ]
          },
          "metadata": {},
          "execution_count": 422
        }
      ]
    },
    {
      "cell_type": "code",
      "source": [
        "df.shape[1]"
      ],
      "metadata": {
        "id": "BbdYIXDr8yxc",
        "colab": {
          "base_uri": "https://localhost:8080/"
        },
        "outputId": "687f52f7-e94b-4acd-c317-22d327a016b7"
      },
      "execution_count": null,
      "outputs": [
        {
          "output_type": "execute_result",
          "data": {
            "text/plain": [
              "4"
            ]
          },
          "metadata": {},
          "execution_count": 423
        }
      ]
    },
    {
      "cell_type": "markdown",
      "source": [
        "* **columns** gives us the list of columns in the dataframe"
      ],
      "metadata": {
        "id": "wr9uZHvp9Gh0"
      }
    },
    {
      "cell_type": "code",
      "source": [
        "df.columns"
      ],
      "metadata": {
        "id": "d4A7_Vua9M7q",
        "colab": {
          "base_uri": "https://localhost:8080/"
        },
        "outputId": "592cf28a-7553-4e90-a4e6-c8c09fc6e155"
      },
      "execution_count": null,
      "outputs": [
        {
          "output_type": "execute_result",
          "data": {
            "text/plain": [
              "Index(['Name', 'Computer Science', 'Maths', 'Physics'], dtype='object')"
            ]
          },
          "metadata": {},
          "execution_count": 424
        }
      ]
    },
    {
      "cell_type": "markdown",
      "source": [
        "* **describe( )** method gives the basic statistical summaries of all numerical attributes in the dataframe."
      ],
      "metadata": {
        "id": "jkqp7hZu9RYq"
      }
    },
    {
      "cell_type": "code",
      "source": [
        "df.describe()"
      ],
      "metadata": {
        "id": "bwXybVF09T04",
        "colab": {
          "base_uri": "https://localhost:8080/",
          "height": 300
        },
        "outputId": "ad77c262-7344-4c30-ec7a-73e1484f706a"
      },
      "execution_count": null,
      "outputs": [
        {
          "output_type": "execute_result",
          "data": {
            "text/plain": [
              "       Computer Science      Maths    Physics\n",
              "count          5.000000   6.000000   5.000000\n",
              "mean          55.200000  42.500000  46.600000\n",
              "std           33.899853  32.910485  35.934663\n",
              "min           12.000000   3.000000   8.000000\n",
              "25%           32.000000  21.250000  11.000000\n",
              "50%           58.000000  35.000000  57.000000\n",
              "75%           78.000000  67.500000  67.000000\n",
              "max           96.000000  87.000000  90.000000"
            ],
            "text/html": [
              "\n",
              "  <div id=\"df-275ff377-769d-4580-a7b8-58d8fdf2fe9f\">\n",
              "    <div class=\"colab-df-container\">\n",
              "      <div>\n",
              "<style scoped>\n",
              "    .dataframe tbody tr th:only-of-type {\n",
              "        vertical-align: middle;\n",
              "    }\n",
              "\n",
              "    .dataframe tbody tr th {\n",
              "        vertical-align: top;\n",
              "    }\n",
              "\n",
              "    .dataframe thead th {\n",
              "        text-align: right;\n",
              "    }\n",
              "</style>\n",
              "<table border=\"1\" class=\"dataframe\">\n",
              "  <thead>\n",
              "    <tr style=\"text-align: right;\">\n",
              "      <th></th>\n",
              "      <th>Computer Science</th>\n",
              "      <th>Maths</th>\n",
              "      <th>Physics</th>\n",
              "    </tr>\n",
              "  </thead>\n",
              "  <tbody>\n",
              "    <tr>\n",
              "      <th>count</th>\n",
              "      <td>5.000000</td>\n",
              "      <td>6.000000</td>\n",
              "      <td>5.000000</td>\n",
              "    </tr>\n",
              "    <tr>\n",
              "      <th>mean</th>\n",
              "      <td>55.200000</td>\n",
              "      <td>42.500000</td>\n",
              "      <td>46.600000</td>\n",
              "    </tr>\n",
              "    <tr>\n",
              "      <th>std</th>\n",
              "      <td>33.899853</td>\n",
              "      <td>32.910485</td>\n",
              "      <td>35.934663</td>\n",
              "    </tr>\n",
              "    <tr>\n",
              "      <th>min</th>\n",
              "      <td>12.000000</td>\n",
              "      <td>3.000000</td>\n",
              "      <td>8.000000</td>\n",
              "    </tr>\n",
              "    <tr>\n",
              "      <th>25%</th>\n",
              "      <td>32.000000</td>\n",
              "      <td>21.250000</td>\n",
              "      <td>11.000000</td>\n",
              "    </tr>\n",
              "    <tr>\n",
              "      <th>50%</th>\n",
              "      <td>58.000000</td>\n",
              "      <td>35.000000</td>\n",
              "      <td>57.000000</td>\n",
              "    </tr>\n",
              "    <tr>\n",
              "      <th>75%</th>\n",
              "      <td>78.000000</td>\n",
              "      <td>67.500000</td>\n",
              "      <td>67.000000</td>\n",
              "    </tr>\n",
              "    <tr>\n",
              "      <th>max</th>\n",
              "      <td>96.000000</td>\n",
              "      <td>87.000000</td>\n",
              "      <td>90.000000</td>\n",
              "    </tr>\n",
              "  </tbody>\n",
              "</table>\n",
              "</div>\n",
              "      <button class=\"colab-df-convert\" onclick=\"convertToInteractive('df-275ff377-769d-4580-a7b8-58d8fdf2fe9f')\"\n",
              "              title=\"Convert this dataframe to an interactive table.\"\n",
              "              style=\"display:none;\">\n",
              "        \n",
              "  <svg xmlns=\"http://www.w3.org/2000/svg\" height=\"24px\"viewBox=\"0 0 24 24\"\n",
              "       width=\"24px\">\n",
              "    <path d=\"M0 0h24v24H0V0z\" fill=\"none\"/>\n",
              "    <path d=\"M18.56 5.44l.94 2.06.94-2.06 2.06-.94-2.06-.94-.94-2.06-.94 2.06-2.06.94zm-11 1L8.5 8.5l.94-2.06 2.06-.94-2.06-.94L8.5 2.5l-.94 2.06-2.06.94zm10 10l.94 2.06.94-2.06 2.06-.94-2.06-.94-.94-2.06-.94 2.06-2.06.94z\"/><path d=\"M17.41 7.96l-1.37-1.37c-.4-.4-.92-.59-1.43-.59-.52 0-1.04.2-1.43.59L10.3 9.45l-7.72 7.72c-.78.78-.78 2.05 0 2.83L4 21.41c.39.39.9.59 1.41.59.51 0 1.02-.2 1.41-.59l7.78-7.78 2.81-2.81c.8-.78.8-2.07 0-2.86zM5.41 20L4 18.59l7.72-7.72 1.47 1.35L5.41 20z\"/>\n",
              "  </svg>\n",
              "      </button>\n",
              "      \n",
              "  <style>\n",
              "    .colab-df-container {\n",
              "      display:flex;\n",
              "      flex-wrap:wrap;\n",
              "      gap: 12px;\n",
              "    }\n",
              "\n",
              "    .colab-df-convert {\n",
              "      background-color: #E8F0FE;\n",
              "      border: none;\n",
              "      border-radius: 50%;\n",
              "      cursor: pointer;\n",
              "      display: none;\n",
              "      fill: #1967D2;\n",
              "      height: 32px;\n",
              "      padding: 0 0 0 0;\n",
              "      width: 32px;\n",
              "    }\n",
              "\n",
              "    .colab-df-convert:hover {\n",
              "      background-color: #E2EBFA;\n",
              "      box-shadow: 0px 1px 2px rgba(60, 64, 67, 0.3), 0px 1px 3px 1px rgba(60, 64, 67, 0.15);\n",
              "      fill: #174EA6;\n",
              "    }\n",
              "\n",
              "    [theme=dark] .colab-df-convert {\n",
              "      background-color: #3B4455;\n",
              "      fill: #D2E3FC;\n",
              "    }\n",
              "\n",
              "    [theme=dark] .colab-df-convert:hover {\n",
              "      background-color: #434B5C;\n",
              "      box-shadow: 0px 1px 3px 1px rgba(0, 0, 0, 0.15);\n",
              "      filter: drop-shadow(0px 1px 2px rgba(0, 0, 0, 0.3));\n",
              "      fill: #FFFFFF;\n",
              "    }\n",
              "  </style>\n",
              "\n",
              "      <script>\n",
              "        const buttonEl =\n",
              "          document.querySelector('#df-275ff377-769d-4580-a7b8-58d8fdf2fe9f button.colab-df-convert');\n",
              "        buttonEl.style.display =\n",
              "          google.colab.kernel.accessAllowed ? 'block' : 'none';\n",
              "\n",
              "        async function convertToInteractive(key) {\n",
              "          const element = document.querySelector('#df-275ff377-769d-4580-a7b8-58d8fdf2fe9f');\n",
              "          const dataTable =\n",
              "            await google.colab.kernel.invokeFunction('convertToInteractive',\n",
              "                                                     [key], {});\n",
              "          if (!dataTable) return;\n",
              "\n",
              "          const docLinkHtml = 'Like what you see? Visit the ' +\n",
              "            '<a target=\"_blank\" href=https://colab.research.google.com/notebooks/data_table.ipynb>data table notebook</a>'\n",
              "            + ' to learn more about interactive tables.';\n",
              "          element.innerHTML = '';\n",
              "          dataTable['output_type'] = 'display_data';\n",
              "          await google.colab.output.renderOutput(dataTable, element);\n",
              "          const docLink = document.createElement('div');\n",
              "          docLink.innerHTML = docLinkHtml;\n",
              "          element.appendChild(docLink);\n",
              "        }\n",
              "      </script>\n",
              "    </div>\n",
              "  </div>\n",
              "  "
            ]
          },
          "metadata": {},
          "execution_count": 425
        }
      ]
    },
    {
      "cell_type": "markdown",
      "source": [
        "**Data Cleaning**\n",
        "\n",
        "Data cleaning means fixing bad data in your data set.\n",
        "\n",
        "Bad data could be:\n",
        "\n",
        "1. Empty cells\n",
        "2. Data in wrong format\n",
        "3. Wrong data\n",
        "4. Duplicates"
      ],
      "metadata": {
        "id": "3zkGzLoEEWJq"
      }
    },
    {
      "cell_type": "markdown",
      "source": [
        "Empty cells can potentially give you a wrong result when you analyze data.\n",
        "\n",
        "* *Remove Rows*\n",
        "\n",
        "One way to deal with empty cells is to remove rows that contain empty cells.\n",
        "This is usually OK, since data sets can be very big, and removing a few rows will not have a big impact on the result.\n",
        "\n",
        "By default, the **dropna()** method returns a new DataFrame, and will not change the original. The dropna(inplace = True) will NOT return a new DataFrame, but it will remove all rows containing NULL values from the original DataFrame."
      ],
      "metadata": {
        "id": "G-VocUyCEv25"
      }
    },
    {
      "cell_type": "code",
      "source": [
        "new_df=df.dropna()\n",
        "new_df"
      ],
      "metadata": {
        "id": "_WWqu5m-FGqr",
        "colab": {
          "base_uri": "https://localhost:8080/",
          "height": 112
        },
        "outputId": "a9cd2afd-18ea-4b27-a938-7a53c949faf6"
      },
      "execution_count": null,
      "outputs": [
        {
          "output_type": "execute_result",
          "data": {
            "text/plain": [
              "    Name  Computer Science  Maths  Physics\n",
              "4   Asif              96.0   25.0     90.0\n",
              "5  Yashi              32.0   75.0     11.0"
            ],
            "text/html": [
              "\n",
              "  <div id=\"df-3dfa7552-e79e-437f-8811-2ba8f2195196\">\n",
              "    <div class=\"colab-df-container\">\n",
              "      <div>\n",
              "<style scoped>\n",
              "    .dataframe tbody tr th:only-of-type {\n",
              "        vertical-align: middle;\n",
              "    }\n",
              "\n",
              "    .dataframe tbody tr th {\n",
              "        vertical-align: top;\n",
              "    }\n",
              "\n",
              "    .dataframe thead th {\n",
              "        text-align: right;\n",
              "    }\n",
              "</style>\n",
              "<table border=\"1\" class=\"dataframe\">\n",
              "  <thead>\n",
              "    <tr style=\"text-align: right;\">\n",
              "      <th></th>\n",
              "      <th>Name</th>\n",
              "      <th>Computer Science</th>\n",
              "      <th>Maths</th>\n",
              "      <th>Physics</th>\n",
              "    </tr>\n",
              "  </thead>\n",
              "  <tbody>\n",
              "    <tr>\n",
              "      <th>4</th>\n",
              "      <td>Asif</td>\n",
              "      <td>96.0</td>\n",
              "      <td>25.0</td>\n",
              "      <td>90.0</td>\n",
              "    </tr>\n",
              "    <tr>\n",
              "      <th>5</th>\n",
              "      <td>Yashi</td>\n",
              "      <td>32.0</td>\n",
              "      <td>75.0</td>\n",
              "      <td>11.0</td>\n",
              "    </tr>\n",
              "  </tbody>\n",
              "</table>\n",
              "</div>\n",
              "      <button class=\"colab-df-convert\" onclick=\"convertToInteractive('df-3dfa7552-e79e-437f-8811-2ba8f2195196')\"\n",
              "              title=\"Convert this dataframe to an interactive table.\"\n",
              "              style=\"display:none;\">\n",
              "        \n",
              "  <svg xmlns=\"http://www.w3.org/2000/svg\" height=\"24px\"viewBox=\"0 0 24 24\"\n",
              "       width=\"24px\">\n",
              "    <path d=\"M0 0h24v24H0V0z\" fill=\"none\"/>\n",
              "    <path d=\"M18.56 5.44l.94 2.06.94-2.06 2.06-.94-2.06-.94-.94-2.06-.94 2.06-2.06.94zm-11 1L8.5 8.5l.94-2.06 2.06-.94-2.06-.94L8.5 2.5l-.94 2.06-2.06.94zm10 10l.94 2.06.94-2.06 2.06-.94-2.06-.94-.94-2.06-.94 2.06-2.06.94z\"/><path d=\"M17.41 7.96l-1.37-1.37c-.4-.4-.92-.59-1.43-.59-.52 0-1.04.2-1.43.59L10.3 9.45l-7.72 7.72c-.78.78-.78 2.05 0 2.83L4 21.41c.39.39.9.59 1.41.59.51 0 1.02-.2 1.41-.59l7.78-7.78 2.81-2.81c.8-.78.8-2.07 0-2.86zM5.41 20L4 18.59l7.72-7.72 1.47 1.35L5.41 20z\"/>\n",
              "  </svg>\n",
              "      </button>\n",
              "      \n",
              "  <style>\n",
              "    .colab-df-container {\n",
              "      display:flex;\n",
              "      flex-wrap:wrap;\n",
              "      gap: 12px;\n",
              "    }\n",
              "\n",
              "    .colab-df-convert {\n",
              "      background-color: #E8F0FE;\n",
              "      border: none;\n",
              "      border-radius: 50%;\n",
              "      cursor: pointer;\n",
              "      display: none;\n",
              "      fill: #1967D2;\n",
              "      height: 32px;\n",
              "      padding: 0 0 0 0;\n",
              "      width: 32px;\n",
              "    }\n",
              "\n",
              "    .colab-df-convert:hover {\n",
              "      background-color: #E2EBFA;\n",
              "      box-shadow: 0px 1px 2px rgba(60, 64, 67, 0.3), 0px 1px 3px 1px rgba(60, 64, 67, 0.15);\n",
              "      fill: #174EA6;\n",
              "    }\n",
              "\n",
              "    [theme=dark] .colab-df-convert {\n",
              "      background-color: #3B4455;\n",
              "      fill: #D2E3FC;\n",
              "    }\n",
              "\n",
              "    [theme=dark] .colab-df-convert:hover {\n",
              "      background-color: #434B5C;\n",
              "      box-shadow: 0px 1px 3px 1px rgba(0, 0, 0, 0.15);\n",
              "      filter: drop-shadow(0px 1px 2px rgba(0, 0, 0, 0.3));\n",
              "      fill: #FFFFFF;\n",
              "    }\n",
              "  </style>\n",
              "\n",
              "      <script>\n",
              "        const buttonEl =\n",
              "          document.querySelector('#df-3dfa7552-e79e-437f-8811-2ba8f2195196 button.colab-df-convert');\n",
              "        buttonEl.style.display =\n",
              "          google.colab.kernel.accessAllowed ? 'block' : 'none';\n",
              "\n",
              "        async function convertToInteractive(key) {\n",
              "          const element = document.querySelector('#df-3dfa7552-e79e-437f-8811-2ba8f2195196');\n",
              "          const dataTable =\n",
              "            await google.colab.kernel.invokeFunction('convertToInteractive',\n",
              "                                                     [key], {});\n",
              "          if (!dataTable) return;\n",
              "\n",
              "          const docLinkHtml = 'Like what you see? Visit the ' +\n",
              "            '<a target=\"_blank\" href=https://colab.research.google.com/notebooks/data_table.ipynb>data table notebook</a>'\n",
              "            + ' to learn more about interactive tables.';\n",
              "          element.innerHTML = '';\n",
              "          dataTable['output_type'] = 'display_data';\n",
              "          await google.colab.output.renderOutput(dataTable, element);\n",
              "          const docLink = document.createElement('div');\n",
              "          docLink.innerHTML = docLinkHtml;\n",
              "          element.appendChild(docLink);\n",
              "        }\n",
              "      </script>\n",
              "    </div>\n",
              "  </div>\n",
              "  "
            ]
          },
          "metadata": {},
          "execution_count": 426
        }
      ]
    },
    {
      "cell_type": "markdown",
      "source": [
        "*Replace Empty Values*\n",
        "\n",
        "Another way of dealing with empty cells is to insert a new value instead.\n",
        "This way you do not have to delete entire rows just because of some empty cells.\n",
        "The **fillna()** method allows us to replace empty cells with a value"
      ],
      "metadata": {
        "id": "5bNCJzwvFdg-"
      }
    },
    {
      "cell_type": "markdown",
      "source": [
        "*Replace Using Mean, Median, or Mode*\n",
        "\n",
        "A common way to replace empty cells, is to calculate the mean, median or mode value of the column.\n",
        "\n",
        "Pandas uses the **mean()** **median()** and **mode()** methods to calculate the respective values for a specified column."
      ],
      "metadata": {
        "id": "OL8F9dDcL9Ho"
      }
    },
    {
      "cell_type": "code",
      "source": [
        "x = df[\"Computer Science\"].mean()\n",
        "y = df[\"Computer Science\"].median()\n",
        "z = df[\"Computer Science\"].mode()\n",
        "print(x)\n",
        "print(y)\n",
        "print(z)"
      ],
      "metadata": {
        "id": "89-1Nb7VMK-u",
        "colab": {
          "base_uri": "https://localhost:8080/"
        },
        "outputId": "df73f7d2-9ddc-475f-91d4-7d6d442144fa"
      },
      "execution_count": null,
      "outputs": [
        {
          "output_type": "stream",
          "name": "stdout",
          "text": [
            "55.2\n",
            "58.0\n",
            "0    12.0\n",
            "1    32.0\n",
            "2    58.0\n",
            "3    78.0\n",
            "4    96.0\n",
            "dtype: float64\n"
          ]
        }
      ]
    },
    {
      "cell_type": "code",
      "source": [
        "df['Computer Science'].fillna(y,inplace=True)\n",
        "df"
      ],
      "metadata": {
        "id": "WSkZCxCqT-T2",
        "colab": {
          "base_uri": "https://localhost:8080/",
          "height": 269
        },
        "outputId": "180ebdcc-31c1-47c9-a1b5-60c742a75743"
      },
      "execution_count": null,
      "outputs": [
        {
          "output_type": "execute_result",
          "data": {
            "text/plain": [
              "        Name  Computer Science  Maths  Physics\n",
              "1       Alex              12.0   87.0      NaN\n",
              "2   Benjamin              58.0   45.0      NaN\n",
              "3  Divyanshi              78.0    NaN     67.0\n",
              "4       Asif              96.0   25.0     90.0\n",
              "5      Yashi              32.0   75.0     11.0\n",
              "6     Archie              58.0   20.0      8.0\n",
              "7      Chris              58.0    3.0     57.0"
            ],
            "text/html": [
              "\n",
              "  <div id=\"df-4156e1c8-b201-4595-aab2-68bb67c83258\">\n",
              "    <div class=\"colab-df-container\">\n",
              "      <div>\n",
              "<style scoped>\n",
              "    .dataframe tbody tr th:only-of-type {\n",
              "        vertical-align: middle;\n",
              "    }\n",
              "\n",
              "    .dataframe tbody tr th {\n",
              "        vertical-align: top;\n",
              "    }\n",
              "\n",
              "    .dataframe thead th {\n",
              "        text-align: right;\n",
              "    }\n",
              "</style>\n",
              "<table border=\"1\" class=\"dataframe\">\n",
              "  <thead>\n",
              "    <tr style=\"text-align: right;\">\n",
              "      <th></th>\n",
              "      <th>Name</th>\n",
              "      <th>Computer Science</th>\n",
              "      <th>Maths</th>\n",
              "      <th>Physics</th>\n",
              "    </tr>\n",
              "  </thead>\n",
              "  <tbody>\n",
              "    <tr>\n",
              "      <th>1</th>\n",
              "      <td>Alex</td>\n",
              "      <td>12.0</td>\n",
              "      <td>87.0</td>\n",
              "      <td>NaN</td>\n",
              "    </tr>\n",
              "    <tr>\n",
              "      <th>2</th>\n",
              "      <td>Benjamin</td>\n",
              "      <td>58.0</td>\n",
              "      <td>45.0</td>\n",
              "      <td>NaN</td>\n",
              "    </tr>\n",
              "    <tr>\n",
              "      <th>3</th>\n",
              "      <td>Divyanshi</td>\n",
              "      <td>78.0</td>\n",
              "      <td>NaN</td>\n",
              "      <td>67.0</td>\n",
              "    </tr>\n",
              "    <tr>\n",
              "      <th>4</th>\n",
              "      <td>Asif</td>\n",
              "      <td>96.0</td>\n",
              "      <td>25.0</td>\n",
              "      <td>90.0</td>\n",
              "    </tr>\n",
              "    <tr>\n",
              "      <th>5</th>\n",
              "      <td>Yashi</td>\n",
              "      <td>32.0</td>\n",
              "      <td>75.0</td>\n",
              "      <td>11.0</td>\n",
              "    </tr>\n",
              "    <tr>\n",
              "      <th>6</th>\n",
              "      <td>Archie</td>\n",
              "      <td>58.0</td>\n",
              "      <td>20.0</td>\n",
              "      <td>8.0</td>\n",
              "    </tr>\n",
              "    <tr>\n",
              "      <th>7</th>\n",
              "      <td>Chris</td>\n",
              "      <td>58.0</td>\n",
              "      <td>3.0</td>\n",
              "      <td>57.0</td>\n",
              "    </tr>\n",
              "  </tbody>\n",
              "</table>\n",
              "</div>\n",
              "      <button class=\"colab-df-convert\" onclick=\"convertToInteractive('df-4156e1c8-b201-4595-aab2-68bb67c83258')\"\n",
              "              title=\"Convert this dataframe to an interactive table.\"\n",
              "              style=\"display:none;\">\n",
              "        \n",
              "  <svg xmlns=\"http://www.w3.org/2000/svg\" height=\"24px\"viewBox=\"0 0 24 24\"\n",
              "       width=\"24px\">\n",
              "    <path d=\"M0 0h24v24H0V0z\" fill=\"none\"/>\n",
              "    <path d=\"M18.56 5.44l.94 2.06.94-2.06 2.06-.94-2.06-.94-.94-2.06-.94 2.06-2.06.94zm-11 1L8.5 8.5l.94-2.06 2.06-.94-2.06-.94L8.5 2.5l-.94 2.06-2.06.94zm10 10l.94 2.06.94-2.06 2.06-.94-2.06-.94-.94-2.06-.94 2.06-2.06.94z\"/><path d=\"M17.41 7.96l-1.37-1.37c-.4-.4-.92-.59-1.43-.59-.52 0-1.04.2-1.43.59L10.3 9.45l-7.72 7.72c-.78.78-.78 2.05 0 2.83L4 21.41c.39.39.9.59 1.41.59.51 0 1.02-.2 1.41-.59l7.78-7.78 2.81-2.81c.8-.78.8-2.07 0-2.86zM5.41 20L4 18.59l7.72-7.72 1.47 1.35L5.41 20z\"/>\n",
              "  </svg>\n",
              "      </button>\n",
              "      \n",
              "  <style>\n",
              "    .colab-df-container {\n",
              "      display:flex;\n",
              "      flex-wrap:wrap;\n",
              "      gap: 12px;\n",
              "    }\n",
              "\n",
              "    .colab-df-convert {\n",
              "      background-color: #E8F0FE;\n",
              "      border: none;\n",
              "      border-radius: 50%;\n",
              "      cursor: pointer;\n",
              "      display: none;\n",
              "      fill: #1967D2;\n",
              "      height: 32px;\n",
              "      padding: 0 0 0 0;\n",
              "      width: 32px;\n",
              "    }\n",
              "\n",
              "    .colab-df-convert:hover {\n",
              "      background-color: #E2EBFA;\n",
              "      box-shadow: 0px 1px 2px rgba(60, 64, 67, 0.3), 0px 1px 3px 1px rgba(60, 64, 67, 0.15);\n",
              "      fill: #174EA6;\n",
              "    }\n",
              "\n",
              "    [theme=dark] .colab-df-convert {\n",
              "      background-color: #3B4455;\n",
              "      fill: #D2E3FC;\n",
              "    }\n",
              "\n",
              "    [theme=dark] .colab-df-convert:hover {\n",
              "      background-color: #434B5C;\n",
              "      box-shadow: 0px 1px 3px 1px rgba(0, 0, 0, 0.15);\n",
              "      filter: drop-shadow(0px 1px 2px rgba(0, 0, 0, 0.3));\n",
              "      fill: #FFFFFF;\n",
              "    }\n",
              "  </style>\n",
              "\n",
              "      <script>\n",
              "        const buttonEl =\n",
              "          document.querySelector('#df-4156e1c8-b201-4595-aab2-68bb67c83258 button.colab-df-convert');\n",
              "        buttonEl.style.display =\n",
              "          google.colab.kernel.accessAllowed ? 'block' : 'none';\n",
              "\n",
              "        async function convertToInteractive(key) {\n",
              "          const element = document.querySelector('#df-4156e1c8-b201-4595-aab2-68bb67c83258');\n",
              "          const dataTable =\n",
              "            await google.colab.kernel.invokeFunction('convertToInteractive',\n",
              "                                                     [key], {});\n",
              "          if (!dataTable) return;\n",
              "\n",
              "          const docLinkHtml = 'Like what you see? Visit the ' +\n",
              "            '<a target=\"_blank\" href=https://colab.research.google.com/notebooks/data_table.ipynb>data table notebook</a>'\n",
              "            + ' to learn more about interactive tables.';\n",
              "          element.innerHTML = '';\n",
              "          dataTable['output_type'] = 'display_data';\n",
              "          await google.colab.output.renderOutput(dataTable, element);\n",
              "          const docLink = document.createElement('div');\n",
              "          docLink.innerHTML = docLinkHtml;\n",
              "          element.appendChild(docLink);\n",
              "        }\n",
              "      </script>\n",
              "    </div>\n",
              "  </div>\n",
              "  "
            ]
          },
          "metadata": {},
          "execution_count": 428
        }
      ]
    },
    {
      "cell_type": "code",
      "source": [
        "a=df['Maths'].mean()\n",
        "b=df['Maths'].median()\n",
        "c=df['Maths'].mode()\n",
        "print(a)\n",
        "print(b)\n",
        "print(c)"
      ],
      "metadata": {
        "id": "FEMP2YQ-Xqvb",
        "colab": {
          "base_uri": "https://localhost:8080/"
        },
        "outputId": "ae3b0d3a-5b92-45d6-9753-68f5230ae440"
      },
      "execution_count": null,
      "outputs": [
        {
          "output_type": "stream",
          "name": "stdout",
          "text": [
            "42.5\n",
            "35.0\n",
            "0     3.0\n",
            "1    20.0\n",
            "2    25.0\n",
            "3    45.0\n",
            "4    75.0\n",
            "5    87.0\n",
            "dtype: float64\n"
          ]
        }
      ]
    },
    {
      "cell_type": "code",
      "source": [
        "df['Maths'].fillna(b,inplace=True)\n",
        "df"
      ],
      "metadata": {
        "id": "ycw5Z-2_ZGDP",
        "colab": {
          "base_uri": "https://localhost:8080/",
          "height": 269
        },
        "outputId": "0af0c933-0c6e-4b38-9d68-5196af923d8b"
      },
      "execution_count": null,
      "outputs": [
        {
          "output_type": "execute_result",
          "data": {
            "text/plain": [
              "        Name  Computer Science  Maths  Physics\n",
              "1       Alex              12.0   87.0      NaN\n",
              "2   Benjamin              58.0   45.0      NaN\n",
              "3  Divyanshi              78.0   35.0     67.0\n",
              "4       Asif              96.0   25.0     90.0\n",
              "5      Yashi              32.0   75.0     11.0\n",
              "6     Archie              58.0   20.0      8.0\n",
              "7      Chris              58.0    3.0     57.0"
            ],
            "text/html": [
              "\n",
              "  <div id=\"df-4c6e50fb-8f9f-4e0c-871d-8ef97d04fa94\">\n",
              "    <div class=\"colab-df-container\">\n",
              "      <div>\n",
              "<style scoped>\n",
              "    .dataframe tbody tr th:only-of-type {\n",
              "        vertical-align: middle;\n",
              "    }\n",
              "\n",
              "    .dataframe tbody tr th {\n",
              "        vertical-align: top;\n",
              "    }\n",
              "\n",
              "    .dataframe thead th {\n",
              "        text-align: right;\n",
              "    }\n",
              "</style>\n",
              "<table border=\"1\" class=\"dataframe\">\n",
              "  <thead>\n",
              "    <tr style=\"text-align: right;\">\n",
              "      <th></th>\n",
              "      <th>Name</th>\n",
              "      <th>Computer Science</th>\n",
              "      <th>Maths</th>\n",
              "      <th>Physics</th>\n",
              "    </tr>\n",
              "  </thead>\n",
              "  <tbody>\n",
              "    <tr>\n",
              "      <th>1</th>\n",
              "      <td>Alex</td>\n",
              "      <td>12.0</td>\n",
              "      <td>87.0</td>\n",
              "      <td>NaN</td>\n",
              "    </tr>\n",
              "    <tr>\n",
              "      <th>2</th>\n",
              "      <td>Benjamin</td>\n",
              "      <td>58.0</td>\n",
              "      <td>45.0</td>\n",
              "      <td>NaN</td>\n",
              "    </tr>\n",
              "    <tr>\n",
              "      <th>3</th>\n",
              "      <td>Divyanshi</td>\n",
              "      <td>78.0</td>\n",
              "      <td>35.0</td>\n",
              "      <td>67.0</td>\n",
              "    </tr>\n",
              "    <tr>\n",
              "      <th>4</th>\n",
              "      <td>Asif</td>\n",
              "      <td>96.0</td>\n",
              "      <td>25.0</td>\n",
              "      <td>90.0</td>\n",
              "    </tr>\n",
              "    <tr>\n",
              "      <th>5</th>\n",
              "      <td>Yashi</td>\n",
              "      <td>32.0</td>\n",
              "      <td>75.0</td>\n",
              "      <td>11.0</td>\n",
              "    </tr>\n",
              "    <tr>\n",
              "      <th>6</th>\n",
              "      <td>Archie</td>\n",
              "      <td>58.0</td>\n",
              "      <td>20.0</td>\n",
              "      <td>8.0</td>\n",
              "    </tr>\n",
              "    <tr>\n",
              "      <th>7</th>\n",
              "      <td>Chris</td>\n",
              "      <td>58.0</td>\n",
              "      <td>3.0</td>\n",
              "      <td>57.0</td>\n",
              "    </tr>\n",
              "  </tbody>\n",
              "</table>\n",
              "</div>\n",
              "      <button class=\"colab-df-convert\" onclick=\"convertToInteractive('df-4c6e50fb-8f9f-4e0c-871d-8ef97d04fa94')\"\n",
              "              title=\"Convert this dataframe to an interactive table.\"\n",
              "              style=\"display:none;\">\n",
              "        \n",
              "  <svg xmlns=\"http://www.w3.org/2000/svg\" height=\"24px\"viewBox=\"0 0 24 24\"\n",
              "       width=\"24px\">\n",
              "    <path d=\"M0 0h24v24H0V0z\" fill=\"none\"/>\n",
              "    <path d=\"M18.56 5.44l.94 2.06.94-2.06 2.06-.94-2.06-.94-.94-2.06-.94 2.06-2.06.94zm-11 1L8.5 8.5l.94-2.06 2.06-.94-2.06-.94L8.5 2.5l-.94 2.06-2.06.94zm10 10l.94 2.06.94-2.06 2.06-.94-2.06-.94-.94-2.06-.94 2.06-2.06.94z\"/><path d=\"M17.41 7.96l-1.37-1.37c-.4-.4-.92-.59-1.43-.59-.52 0-1.04.2-1.43.59L10.3 9.45l-7.72 7.72c-.78.78-.78 2.05 0 2.83L4 21.41c.39.39.9.59 1.41.59.51 0 1.02-.2 1.41-.59l7.78-7.78 2.81-2.81c.8-.78.8-2.07 0-2.86zM5.41 20L4 18.59l7.72-7.72 1.47 1.35L5.41 20z\"/>\n",
              "  </svg>\n",
              "      </button>\n",
              "      \n",
              "  <style>\n",
              "    .colab-df-container {\n",
              "      display:flex;\n",
              "      flex-wrap:wrap;\n",
              "      gap: 12px;\n",
              "    }\n",
              "\n",
              "    .colab-df-convert {\n",
              "      background-color: #E8F0FE;\n",
              "      border: none;\n",
              "      border-radius: 50%;\n",
              "      cursor: pointer;\n",
              "      display: none;\n",
              "      fill: #1967D2;\n",
              "      height: 32px;\n",
              "      padding: 0 0 0 0;\n",
              "      width: 32px;\n",
              "    }\n",
              "\n",
              "    .colab-df-convert:hover {\n",
              "      background-color: #E2EBFA;\n",
              "      box-shadow: 0px 1px 2px rgba(60, 64, 67, 0.3), 0px 1px 3px 1px rgba(60, 64, 67, 0.15);\n",
              "      fill: #174EA6;\n",
              "    }\n",
              "\n",
              "    [theme=dark] .colab-df-convert {\n",
              "      background-color: #3B4455;\n",
              "      fill: #D2E3FC;\n",
              "    }\n",
              "\n",
              "    [theme=dark] .colab-df-convert:hover {\n",
              "      background-color: #434B5C;\n",
              "      box-shadow: 0px 1px 3px 1px rgba(0, 0, 0, 0.15);\n",
              "      filter: drop-shadow(0px 1px 2px rgba(0, 0, 0, 0.3));\n",
              "      fill: #FFFFFF;\n",
              "    }\n",
              "  </style>\n",
              "\n",
              "      <script>\n",
              "        const buttonEl =\n",
              "          document.querySelector('#df-4c6e50fb-8f9f-4e0c-871d-8ef97d04fa94 button.colab-df-convert');\n",
              "        buttonEl.style.display =\n",
              "          google.colab.kernel.accessAllowed ? 'block' : 'none';\n",
              "\n",
              "        async function convertToInteractive(key) {\n",
              "          const element = document.querySelector('#df-4c6e50fb-8f9f-4e0c-871d-8ef97d04fa94');\n",
              "          const dataTable =\n",
              "            await google.colab.kernel.invokeFunction('convertToInteractive',\n",
              "                                                     [key], {});\n",
              "          if (!dataTable) return;\n",
              "\n",
              "          const docLinkHtml = 'Like what you see? Visit the ' +\n",
              "            '<a target=\"_blank\" href=https://colab.research.google.com/notebooks/data_table.ipynb>data table notebook</a>'\n",
              "            + ' to learn more about interactive tables.';\n",
              "          element.innerHTML = '';\n",
              "          dataTable['output_type'] = 'display_data';\n",
              "          await google.colab.output.renderOutput(dataTable, element);\n",
              "          const docLink = document.createElement('div');\n",
              "          docLink.innerHTML = docLinkHtml;\n",
              "          element.appendChild(docLink);\n",
              "        }\n",
              "      </script>\n",
              "    </div>\n",
              "  </div>\n",
              "  "
            ]
          },
          "metadata": {},
          "execution_count": 430
        }
      ]
    },
    {
      "cell_type": "code",
      "source": [
        "m=df['Physics'].mean()\n",
        "n=df['Physics'].mode()\n",
        "p=df['Physics'].median()\n",
        "print(m)\n",
        "print(n)\n",
        "print(p)"
      ],
      "metadata": {
        "id": "iF1TDndxZVwI",
        "colab": {
          "base_uri": "https://localhost:8080/"
        },
        "outputId": "776ed5fb-52e1-46f2-c94e-ddbc40a967d7"
      },
      "execution_count": null,
      "outputs": [
        {
          "output_type": "stream",
          "name": "stdout",
          "text": [
            "46.6\n",
            "0     8.0\n",
            "1    11.0\n",
            "2    57.0\n",
            "3    67.0\n",
            "4    90.0\n",
            "dtype: float64\n",
            "57.0\n"
          ]
        }
      ]
    },
    {
      "cell_type": "code",
      "source": [
        "df['Physics'].fillna(m,inplace=True)\n",
        "df"
      ],
      "metadata": {
        "id": "rFcGEnEHa4ME",
        "colab": {
          "base_uri": "https://localhost:8080/",
          "height": 269
        },
        "outputId": "4a477797-be67-4360-d293-0c76889df4cb"
      },
      "execution_count": null,
      "outputs": [
        {
          "output_type": "execute_result",
          "data": {
            "text/plain": [
              "        Name  Computer Science  Maths  Physics\n",
              "1       Alex              12.0   87.0     46.6\n",
              "2   Benjamin              58.0   45.0     46.6\n",
              "3  Divyanshi              78.0   35.0     67.0\n",
              "4       Asif              96.0   25.0     90.0\n",
              "5      Yashi              32.0   75.0     11.0\n",
              "6     Archie              58.0   20.0      8.0\n",
              "7      Chris              58.0    3.0     57.0"
            ],
            "text/html": [
              "\n",
              "  <div id=\"df-458cb21b-02a1-43cb-ba73-7ae4a215c9cf\">\n",
              "    <div class=\"colab-df-container\">\n",
              "      <div>\n",
              "<style scoped>\n",
              "    .dataframe tbody tr th:only-of-type {\n",
              "        vertical-align: middle;\n",
              "    }\n",
              "\n",
              "    .dataframe tbody tr th {\n",
              "        vertical-align: top;\n",
              "    }\n",
              "\n",
              "    .dataframe thead th {\n",
              "        text-align: right;\n",
              "    }\n",
              "</style>\n",
              "<table border=\"1\" class=\"dataframe\">\n",
              "  <thead>\n",
              "    <tr style=\"text-align: right;\">\n",
              "      <th></th>\n",
              "      <th>Name</th>\n",
              "      <th>Computer Science</th>\n",
              "      <th>Maths</th>\n",
              "      <th>Physics</th>\n",
              "    </tr>\n",
              "  </thead>\n",
              "  <tbody>\n",
              "    <tr>\n",
              "      <th>1</th>\n",
              "      <td>Alex</td>\n",
              "      <td>12.0</td>\n",
              "      <td>87.0</td>\n",
              "      <td>46.6</td>\n",
              "    </tr>\n",
              "    <tr>\n",
              "      <th>2</th>\n",
              "      <td>Benjamin</td>\n",
              "      <td>58.0</td>\n",
              "      <td>45.0</td>\n",
              "      <td>46.6</td>\n",
              "    </tr>\n",
              "    <tr>\n",
              "      <th>3</th>\n",
              "      <td>Divyanshi</td>\n",
              "      <td>78.0</td>\n",
              "      <td>35.0</td>\n",
              "      <td>67.0</td>\n",
              "    </tr>\n",
              "    <tr>\n",
              "      <th>4</th>\n",
              "      <td>Asif</td>\n",
              "      <td>96.0</td>\n",
              "      <td>25.0</td>\n",
              "      <td>90.0</td>\n",
              "    </tr>\n",
              "    <tr>\n",
              "      <th>5</th>\n",
              "      <td>Yashi</td>\n",
              "      <td>32.0</td>\n",
              "      <td>75.0</td>\n",
              "      <td>11.0</td>\n",
              "    </tr>\n",
              "    <tr>\n",
              "      <th>6</th>\n",
              "      <td>Archie</td>\n",
              "      <td>58.0</td>\n",
              "      <td>20.0</td>\n",
              "      <td>8.0</td>\n",
              "    </tr>\n",
              "    <tr>\n",
              "      <th>7</th>\n",
              "      <td>Chris</td>\n",
              "      <td>58.0</td>\n",
              "      <td>3.0</td>\n",
              "      <td>57.0</td>\n",
              "    </tr>\n",
              "  </tbody>\n",
              "</table>\n",
              "</div>\n",
              "      <button class=\"colab-df-convert\" onclick=\"convertToInteractive('df-458cb21b-02a1-43cb-ba73-7ae4a215c9cf')\"\n",
              "              title=\"Convert this dataframe to an interactive table.\"\n",
              "              style=\"display:none;\">\n",
              "        \n",
              "  <svg xmlns=\"http://www.w3.org/2000/svg\" height=\"24px\"viewBox=\"0 0 24 24\"\n",
              "       width=\"24px\">\n",
              "    <path d=\"M0 0h24v24H0V0z\" fill=\"none\"/>\n",
              "    <path d=\"M18.56 5.44l.94 2.06.94-2.06 2.06-.94-2.06-.94-.94-2.06-.94 2.06-2.06.94zm-11 1L8.5 8.5l.94-2.06 2.06-.94-2.06-.94L8.5 2.5l-.94 2.06-2.06.94zm10 10l.94 2.06.94-2.06 2.06-.94-2.06-.94-.94-2.06-.94 2.06-2.06.94z\"/><path d=\"M17.41 7.96l-1.37-1.37c-.4-.4-.92-.59-1.43-.59-.52 0-1.04.2-1.43.59L10.3 9.45l-7.72 7.72c-.78.78-.78 2.05 0 2.83L4 21.41c.39.39.9.59 1.41.59.51 0 1.02-.2 1.41-.59l7.78-7.78 2.81-2.81c.8-.78.8-2.07 0-2.86zM5.41 20L4 18.59l7.72-7.72 1.47 1.35L5.41 20z\"/>\n",
              "  </svg>\n",
              "      </button>\n",
              "      \n",
              "  <style>\n",
              "    .colab-df-container {\n",
              "      display:flex;\n",
              "      flex-wrap:wrap;\n",
              "      gap: 12px;\n",
              "    }\n",
              "\n",
              "    .colab-df-convert {\n",
              "      background-color: #E8F0FE;\n",
              "      border: none;\n",
              "      border-radius: 50%;\n",
              "      cursor: pointer;\n",
              "      display: none;\n",
              "      fill: #1967D2;\n",
              "      height: 32px;\n",
              "      padding: 0 0 0 0;\n",
              "      width: 32px;\n",
              "    }\n",
              "\n",
              "    .colab-df-convert:hover {\n",
              "      background-color: #E2EBFA;\n",
              "      box-shadow: 0px 1px 2px rgba(60, 64, 67, 0.3), 0px 1px 3px 1px rgba(60, 64, 67, 0.15);\n",
              "      fill: #174EA6;\n",
              "    }\n",
              "\n",
              "    [theme=dark] .colab-df-convert {\n",
              "      background-color: #3B4455;\n",
              "      fill: #D2E3FC;\n",
              "    }\n",
              "\n",
              "    [theme=dark] .colab-df-convert:hover {\n",
              "      background-color: #434B5C;\n",
              "      box-shadow: 0px 1px 3px 1px rgba(0, 0, 0, 0.15);\n",
              "      filter: drop-shadow(0px 1px 2px rgba(0, 0, 0, 0.3));\n",
              "      fill: #FFFFFF;\n",
              "    }\n",
              "  </style>\n",
              "\n",
              "      <script>\n",
              "        const buttonEl =\n",
              "          document.querySelector('#df-458cb21b-02a1-43cb-ba73-7ae4a215c9cf button.colab-df-convert');\n",
              "        buttonEl.style.display =\n",
              "          google.colab.kernel.accessAllowed ? 'block' : 'none';\n",
              "\n",
              "        async function convertToInteractive(key) {\n",
              "          const element = document.querySelector('#df-458cb21b-02a1-43cb-ba73-7ae4a215c9cf');\n",
              "          const dataTable =\n",
              "            await google.colab.kernel.invokeFunction('convertToInteractive',\n",
              "                                                     [key], {});\n",
              "          if (!dataTable) return;\n",
              "\n",
              "          const docLinkHtml = 'Like what you see? Visit the ' +\n",
              "            '<a target=\"_blank\" href=https://colab.research.google.com/notebooks/data_table.ipynb>data table notebook</a>'\n",
              "            + ' to learn more about interactive tables.';\n",
              "          element.innerHTML = '';\n",
              "          dataTable['output_type'] = 'display_data';\n",
              "          await google.colab.output.renderOutput(dataTable, element);\n",
              "          const docLink = document.createElement('div');\n",
              "          docLink.innerHTML = docLinkHtml;\n",
              "          element.appendChild(docLink);\n",
              "        }\n",
              "      </script>\n",
              "    </div>\n",
              "  </div>\n",
              "  "
            ]
          },
          "metadata": {},
          "execution_count": 432
        }
      ]
    },
    {
      "cell_type": "markdown",
      "source": [
        "*Removing Duplicates*\n",
        "\n",
        "Duplicate rows are rows that have been registered more than one time.\n",
        "\n",
        "By taking a look at our test data set, we can assume that row 11 and 12 are duplicates.\n",
        "\n",
        "To discover duplicates, we can use the **duplicated()** method.\n",
        "\n",
        "The **duplicated()** method returns a Boolean values for each row"
      ],
      "metadata": {
        "id": "481MvCYwPbKT"
      }
    },
    {
      "cell_type": "code",
      "source": [
        "df.duplicated()"
      ],
      "metadata": {
        "id": "YdMIVTB3QKQ9",
        "colab": {
          "base_uri": "https://localhost:8080/"
        },
        "outputId": "597e784c-8618-42ed-adce-9728b640e6c5"
      },
      "execution_count": null,
      "outputs": [
        {
          "output_type": "execute_result",
          "data": {
            "text/plain": [
              "1    False\n",
              "2    False\n",
              "3    False\n",
              "4    False\n",
              "5    False\n",
              "6    False\n",
              "7    False\n",
              "dtype: bool"
            ]
          },
          "metadata": {},
          "execution_count": 433
        }
      ]
    },
    {
      "cell_type": "markdown",
      "source": [
        "*Removing Duplicates*\n",
        "\n",
        "To remove duplicates, use the **drop_duplicates()** method.\n",
        "\n",
        "Remember: The (inplace = True) will make sure that the method does NOT return a new DataFrame, but it will remove all duplicates from the original DataFrame."
      ],
      "metadata": {
        "id": "sJnAGSALQV4H"
      }
    },
    {
      "cell_type": "code",
      "source": [
        "df.drop_duplicates(inplace = True)"
      ],
      "metadata": {
        "id": "fL01EaldQdA1"
      },
      "execution_count": null,
      "outputs": []
    },
    {
      "cell_type": "markdown",
      "source": [
        "*Finding Relationships*\n",
        "\n",
        "A great aspect of the Pandas module is the **corr()** method.\n",
        "\n",
        "The **corr()** method calculates the relationship between each column in your data set."
      ],
      "metadata": {
        "id": "N-D6se0iTrHp"
      }
    },
    {
      "cell_type": "code",
      "source": [
        "df.corr()"
      ],
      "metadata": {
        "id": "2H6MjCjtVQDY",
        "colab": {
          "base_uri": "https://localhost:8080/",
          "height": 143
        },
        "outputId": "5e615f44-037d-4a2e-a63f-7400f7c6c38d"
      },
      "execution_count": null,
      "outputs": [
        {
          "output_type": "execute_result",
          "data": {
            "text/plain": [
              "                  Computer Science     Maths   Physics\n",
              "Computer Science          1.000000 -0.741782  0.611398\n",
              "Maths                    -0.741782  1.000000 -0.303406\n",
              "Physics                   0.611398 -0.303406  1.000000"
            ],
            "text/html": [
              "\n",
              "  <div id=\"df-c83c0332-2217-4c4c-b9d6-cb007927c453\">\n",
              "    <div class=\"colab-df-container\">\n",
              "      <div>\n",
              "<style scoped>\n",
              "    .dataframe tbody tr th:only-of-type {\n",
              "        vertical-align: middle;\n",
              "    }\n",
              "\n",
              "    .dataframe tbody tr th {\n",
              "        vertical-align: top;\n",
              "    }\n",
              "\n",
              "    .dataframe thead th {\n",
              "        text-align: right;\n",
              "    }\n",
              "</style>\n",
              "<table border=\"1\" class=\"dataframe\">\n",
              "  <thead>\n",
              "    <tr style=\"text-align: right;\">\n",
              "      <th></th>\n",
              "      <th>Computer Science</th>\n",
              "      <th>Maths</th>\n",
              "      <th>Physics</th>\n",
              "    </tr>\n",
              "  </thead>\n",
              "  <tbody>\n",
              "    <tr>\n",
              "      <th>Computer Science</th>\n",
              "      <td>1.000000</td>\n",
              "      <td>-0.741782</td>\n",
              "      <td>0.611398</td>\n",
              "    </tr>\n",
              "    <tr>\n",
              "      <th>Maths</th>\n",
              "      <td>-0.741782</td>\n",
              "      <td>1.000000</td>\n",
              "      <td>-0.303406</td>\n",
              "    </tr>\n",
              "    <tr>\n",
              "      <th>Physics</th>\n",
              "      <td>0.611398</td>\n",
              "      <td>-0.303406</td>\n",
              "      <td>1.000000</td>\n",
              "    </tr>\n",
              "  </tbody>\n",
              "</table>\n",
              "</div>\n",
              "      <button class=\"colab-df-convert\" onclick=\"convertToInteractive('df-c83c0332-2217-4c4c-b9d6-cb007927c453')\"\n",
              "              title=\"Convert this dataframe to an interactive table.\"\n",
              "              style=\"display:none;\">\n",
              "        \n",
              "  <svg xmlns=\"http://www.w3.org/2000/svg\" height=\"24px\"viewBox=\"0 0 24 24\"\n",
              "       width=\"24px\">\n",
              "    <path d=\"M0 0h24v24H0V0z\" fill=\"none\"/>\n",
              "    <path d=\"M18.56 5.44l.94 2.06.94-2.06 2.06-.94-2.06-.94-.94-2.06-.94 2.06-2.06.94zm-11 1L8.5 8.5l.94-2.06 2.06-.94-2.06-.94L8.5 2.5l-.94 2.06-2.06.94zm10 10l.94 2.06.94-2.06 2.06-.94-2.06-.94-.94-2.06-.94 2.06-2.06.94z\"/><path d=\"M17.41 7.96l-1.37-1.37c-.4-.4-.92-.59-1.43-.59-.52 0-1.04.2-1.43.59L10.3 9.45l-7.72 7.72c-.78.78-.78 2.05 0 2.83L4 21.41c.39.39.9.59 1.41.59.51 0 1.02-.2 1.41-.59l7.78-7.78 2.81-2.81c.8-.78.8-2.07 0-2.86zM5.41 20L4 18.59l7.72-7.72 1.47 1.35L5.41 20z\"/>\n",
              "  </svg>\n",
              "      </button>\n",
              "      \n",
              "  <style>\n",
              "    .colab-df-container {\n",
              "      display:flex;\n",
              "      flex-wrap:wrap;\n",
              "      gap: 12px;\n",
              "    }\n",
              "\n",
              "    .colab-df-convert {\n",
              "      background-color: #E8F0FE;\n",
              "      border: none;\n",
              "      border-radius: 50%;\n",
              "      cursor: pointer;\n",
              "      display: none;\n",
              "      fill: #1967D2;\n",
              "      height: 32px;\n",
              "      padding: 0 0 0 0;\n",
              "      width: 32px;\n",
              "    }\n",
              "\n",
              "    .colab-df-convert:hover {\n",
              "      background-color: #E2EBFA;\n",
              "      box-shadow: 0px 1px 2px rgba(60, 64, 67, 0.3), 0px 1px 3px 1px rgba(60, 64, 67, 0.15);\n",
              "      fill: #174EA6;\n",
              "    }\n",
              "\n",
              "    [theme=dark] .colab-df-convert {\n",
              "      background-color: #3B4455;\n",
              "      fill: #D2E3FC;\n",
              "    }\n",
              "\n",
              "    [theme=dark] .colab-df-convert:hover {\n",
              "      background-color: #434B5C;\n",
              "      box-shadow: 0px 1px 3px 1px rgba(0, 0, 0, 0.15);\n",
              "      filter: drop-shadow(0px 1px 2px rgba(0, 0, 0, 0.3));\n",
              "      fill: #FFFFFF;\n",
              "    }\n",
              "  </style>\n",
              "\n",
              "      <script>\n",
              "        const buttonEl =\n",
              "          document.querySelector('#df-c83c0332-2217-4c4c-b9d6-cb007927c453 button.colab-df-convert');\n",
              "        buttonEl.style.display =\n",
              "          google.colab.kernel.accessAllowed ? 'block' : 'none';\n",
              "\n",
              "        async function convertToInteractive(key) {\n",
              "          const element = document.querySelector('#df-c83c0332-2217-4c4c-b9d6-cb007927c453');\n",
              "          const dataTable =\n",
              "            await google.colab.kernel.invokeFunction('convertToInteractive',\n",
              "                                                     [key], {});\n",
              "          if (!dataTable) return;\n",
              "\n",
              "          const docLinkHtml = 'Like what you see? Visit the ' +\n",
              "            '<a target=\"_blank\" href=https://colab.research.google.com/notebooks/data_table.ipynb>data table notebook</a>'\n",
              "            + ' to learn more about interactive tables.';\n",
              "          element.innerHTML = '';\n",
              "          dataTable['output_type'] = 'display_data';\n",
              "          await google.colab.output.renderOutput(dataTable, element);\n",
              "          const docLink = document.createElement('div');\n",
              "          docLink.innerHTML = docLinkHtml;\n",
              "          element.appendChild(docLink);\n",
              "        }\n",
              "      </script>\n",
              "    </div>\n",
              "  </div>\n",
              "  "
            ]
          },
          "metadata": {},
          "execution_count": 435
        }
      ]
    },
    {
      "cell_type": "markdown",
      "source": [
        "Note: The corr() method ignores \"not numeric\" columns."
      ],
      "metadata": {
        "id": "fkUM8T_mVc7-"
      }
    },
    {
      "cell_type": "markdown",
      "source": [
        "**Plotting using Pandas**\n",
        "\n",
        "Pandas plotting methods can be used to plot styles other than the default Line  Plot. These methods can be provided as the 'kind' keyword argument to plot(). The available options are:\n",
        "\n",
        "* Line plot\n",
        "* Bar plot   \n",
        "* Box plot\n",
        "* Pie plot\n",
        "* Scatter plot\n",
        "* Histogram, etc."
      ],
      "metadata": {
        "id": "2X6ipVm9cQCG"
      }
    },
    {
      "cell_type": "markdown",
      "source": [
        "1. *Line Plot*\n",
        "\n",
        "TRhe most basic form of plotting is a line plot.Here, we plot a line using Dataframe's values as coordinates. Below is the implementation to plot a basic line plot using the pandas plotting function."
      ],
      "metadata": {
        "id": "-AEhmsGYB8D_"
      }
    },
    {
      "cell_type": "code",
      "source": [
        "df.plot()"
      ],
      "metadata": {
        "id": "UA-jPCjlewy8",
        "colab": {
          "base_uri": "https://localhost:8080/",
          "height": 285
        },
        "outputId": "2c7dc9e4-fa1d-4319-a304-37bdcc289264"
      },
      "execution_count": null,
      "outputs": [
        {
          "output_type": "execute_result",
          "data": {
            "text/plain": [
              "<matplotlib.axes._subplots.AxesSubplot at 0x7f2f29d27e90>"
            ]
          },
          "metadata": {},
          "execution_count": 436
        },
        {
          "output_type": "display_data",
          "data": {
            "text/plain": [
              "<Figure size 432x288 with 1 Axes>"
            ],
            "image/png": "[encoded data removed]"
          },
          "metadata": {
            "needs_background": "light"
          }
        }
      ]
    },
    {
      "cell_type": "markdown",
      "source": [
        "2. *Area Plot*\n",
        "\n",
        "This is an extended version of the line plot. In the area plot, instead of leaving the plot to connected data points, the area under the line is filled with colors. This is helpful in cases when you want to show the proportions of values captured by a particular value. As you can plot multiple variables,this can give you insights about when the variables are overlapping."
      ],
      "metadata": {
        "id": "g8puundTC7VM"
      }
    },
    {
      "cell_type": "code",
      "source": [
        "Df=pd.DataFrame(np.random.rand(20,4),\n",
        "                columns=['a','b','c','d'])\n",
        "Df.plot.area()\n",
        "\n"
      ],
      "metadata": {
        "id": "oK5c26KtDpMV",
        "colab": {
          "base_uri": "https://localhost:8080/",
          "height": 282
        },
        "outputId": "c4ed0bf1-2d70-4c6a-9ded-c5564f34bb29"
      },
      "execution_count": null,
      "outputs": [
        {
          "output_type": "execute_result",
          "data": {
            "text/plain": [
              "<matplotlib.axes._subplots.AxesSubplot at 0x7f2f29e8ca10>"
            ]
          },
          "metadata": {},
          "execution_count": 437
        },
        {
          "output_type": "display_data",
          "data": {
            "text/plain": [
              "<Figure size 432x288 with 1 Axes>"
            ],
            "image/png": "[encoded data removed]"
          },
          "metadata": {
            "needs_background": "light"
          }
        }
      ]
    },
    {
      "cell_type": "markdown",
      "source": [
        "3. *Bar and Barh Plot*\n",
        "\n",
        "Bar plots are used to represent the values repressed by categorical values. This may include the count of a particular categoryu, any statistic, or other value defined. These are useful in cases when ou want to compare one category with another."
      ],
      "metadata": {
        "id": "DAsFRW2rECpi"
      }
    },
    {
      "cell_type": "code",
      "source": [
        "Df.sum().plot.bar()"
      ],
      "metadata": {
        "id": "e_ZX-uy2EZkv",
        "colab": {
          "base_uri": "https://localhost:8080/",
          "height": 279
        },
        "outputId": "98868f21-c9be-4aaa-e98e-76d748a29f91"
      },
      "execution_count": null,
      "outputs": [
        {
          "output_type": "execute_result",
          "data": {
            "text/plain": [
              "<matplotlib.axes._subplots.AxesSubplot at 0x7f2f29f718d0>"
            ]
          },
          "metadata": {},
          "execution_count": 438
        },
        {
          "output_type": "display_data",
          "data": {
            "text/plain": [
              "<Figure size 432x288 with 1 Axes>"
            ],
            "image/png": "[encoded data removed]"
          },
          "metadata": {
            "needs_background": "light"
          }
        }
      ]
    },
    {
      "cell_type": "code",
      "source": [
        "Df.sum().plot.barh()"
      ],
      "metadata": {
        "id": "RuVQG6I4EjPS",
        "colab": {
          "base_uri": "https://localhost:8080/",
          "height": 282
        },
        "outputId": "a552cf7c-938b-413a-ea6c-4816f55a083a"
      },
      "execution_count": null,
      "outputs": [
        {
          "output_type": "execute_result",
          "data": {
            "text/plain": [
              "<matplotlib.axes._subplots.AxesSubplot at 0x7f2f30ef5390>"
            ]
          },
          "metadata": {},
          "execution_count": 439
        },
        {
          "output_type": "display_data",
          "data": {
            "text/plain": [
              "<Figure size 432x288 with 1 Axes>"
            ],
            "image/png": "[encoded data removed]"
          },
          "metadata": {
            "needs_background": "light"
          }
        }
      ]
    },
    {
      "cell_type": "markdown",
      "source": [
        "4. *Density Plot*\n",
        "\n",
        "This plot visualizes the **probability density function** of a continuous random variable. This doesn’t directly tell the probability of the value taken by a random variable. In fact, for a continuous random variable, the probability of any value is zero and we are only concerned about the probabilities of a range of values. It only gives how many data points may be present around specified values."
      ],
      "metadata": {
        "id": "9v6aZGI5Eowl"
      }
    },
    {
      "cell_type": "code",
      "source": [
        "DF=pd.Series(np.random.randn(200))\n",
        "DF.plot.kde()"
      ],
      "metadata": {
        "id": "06lz7ntLE2iq",
        "colab": {
          "base_uri": "https://localhost:8080/",
          "height": 282
        },
        "outputId": "1e71237a-1063-4e1d-da78-7525288c000f"
      },
      "execution_count": null,
      "outputs": [
        {
          "output_type": "execute_result",
          "data": {
            "text/plain": [
              "<matplotlib.axes._subplots.AxesSubplot at 0x7f2f2aac7cd0>"
            ]
          },
          "metadata": {},
          "execution_count": 440
        },
        {
          "output_type": "display_data",
          "data": {
            "text/plain": [
              "<Figure size 432x288 with 1 Axes>"
            ],
            "image/png": "[encoded data removed]"
          },
          "metadata": {
            "needs_background": "light"
          }
        }
      ]
    },
    {
      "cell_type": "markdown",
      "source": [
        "5. *Histogram Plot*\n",
        "\n",
        "\n",
        "Histograms are used to represent the frequency of numerical variables. These are subversions of bar plots with the changes that in the histogram, we talk about numerical values. There are no categories but the numeric data is divided among small buckets called bins. These bins take in the number of values that fall in the range of the bin. Histograms are also quoted as frequency polygons when the bars are replaced by connecting lines from the midpoint of the bars."
      ],
      "metadata": {
        "id": "PXgP-K3JFAep"
      }
    },
    {
      "cell_type": "code",
      "source": [
        "df.plot.hist(alpha=0.5)"
      ],
      "metadata": {
        "id": "LUkdz7hTFIji",
        "colab": {
          "base_uri": "https://localhost:8080/",
          "height": 282
        },
        "outputId": "6eb041ef-098d-48a7-99cd-8d24fd6651d0"
      },
      "execution_count": null,
      "outputs": [
        {
          "output_type": "execute_result",
          "data": {
            "text/plain": [
              "<matplotlib.axes._subplots.AxesSubplot at 0x7f2f2a225c90>"
            ]
          },
          "metadata": {},
          "execution_count": 441
        },
        {
          "output_type": "display_data",
          "data": {
            "text/plain": [
              "<Figure size 432x288 with 1 Axes>"
            ],
            "image/png": "[encoded data removed]"
          },
          "metadata": {
            "needs_background": "light"
          }
        }
      ]
    },
    {
      "cell_type": "markdown",
      "source": [
        "Here, the “alpha” parameter defines the transparency of colors for the histograms."
      ],
      "metadata": {
        "id": "JjAPVj2RFS1j"
      }
    },
    {
      "cell_type": "markdown",
      "source": [
        "6. *Scatter Plot*\n",
        "\n",
        "\n",
        "A scatter plot is also called a scatter chart, scattergram, or scatter plot, XY graph. The scatter diagram graphs numerical data pairs, with one variable on each axis, show their relationship. Now the question comes for everyone: when to use a scatter plot?\n",
        "\n",
        "Scatter plots are used in either of the following situations.\n",
        "\n",
        "* When we have paired numerical data.\n",
        "\n",
        "* When there are multiple values of the dependent variable for a unique value of an independent variable.\n",
        "\n",
        "* In determining the relationship between variables in some scenarios, such as identifying potential root causes of problems, checking whether two products that appear to be related both occur with the exact cause and so on.\n",
        "\n",
        "**Scatter Plot Uses and Examples**\n",
        "Scatter plots instantly report a large volume of data. It is beneficial in the following situations –\n",
        "\n",
        "* For a large set of data points given\n",
        "* Each set comprises a pair of values\n",
        "* The given data is in numeric form."
      ],
      "metadata": {
        "id": "qfCdZTA-FWSZ"
      }
    },
    {
      "cell_type": "code",
      "source": [
        "df.plot.scatter(x ='Name', y ='Computer Science')"
      ],
      "metadata": {
        "id": "BDVSxSQXFaqe",
        "colab": {
          "base_uri": "https://localhost:8080/",
          "height": 300
        },
        "outputId": "0b878596-fcee-4017-dd0c-fd52dd059470"
      },
      "execution_count": null,
      "outputs": [
        {
          "output_type": "execute_result",
          "data": {
            "text/plain": [
              "<matplotlib.axes._subplots.AxesSubplot at 0x7f2f2a66d2d0>"
            ]
          },
          "metadata": {},
          "execution_count": 442
        },
        {
          "output_type": "display_data",
          "data": {
            "text/plain": [
              "<Figure size 432x288 with 1 Axes>"
            ],
            "image/png": "[encoded data removed]"
          },
          "metadata": {
            "needs_background": "light"
          }
        }
      ]
    },
    {
      "cell_type": "markdown",
      "source": [
        "7. *Box Plot*\n",
        "\n",
        "Box plots are very crucial and important plots. These plots help in understanding the overall trend and spread of a feature of a dataset. For numerical data, it represents where 50% of data lies, where the median of the data lies, and it also specifies the boundary conditions in the form of whiskers."
      ],
      "metadata": {
        "id": "99N5IECbFx95"
      }
    },
    {
      "cell_type": "code",
      "source": [
        "df.plot.box()"
      ],
      "metadata": {
        "id": "aV9e3gRBF5xU",
        "colab": {
          "base_uri": "https://localhost:8080/",
          "height": 285
        },
        "outputId": "8d833f1a-8010-454b-afb1-a5542209b449"
      },
      "execution_count": null,
      "outputs": [
        {
          "output_type": "execute_result",
          "data": {
            "text/plain": [
              "<matplotlib.axes._subplots.AxesSubplot at 0x7f2f2a01fcd0>"
            ]
          },
          "metadata": {},
          "execution_count": 443
        },
        {
          "output_type": "display_data",
          "data": {
            "text/plain": [
              "<Figure size 432x288 with 1 Axes>"
            ],
            "image/png": "[encoded data removed]"
          },
          "metadata": {
            "needs_background": "light"
          }
        }
      ]
    },
    {
      "cell_type": "markdown",
      "source": [
        "8. *Pie Plot*\n",
        "\n",
        "Pie plots are used to represent the portion of a value as compared to others in a whole. They represent how much percent of the circular area a value is contributing and fill it with color. They are widely used in every project and at the same time, they are discouraged too!\n",
        "\n",
        "Because to represent a portion numeric value, a large amount of space is allocated and colors are wasted to fill the area. Instead, donut plots are highly encouraged as they need less color quantity plus they can be made as nested pie charts which convey more information than regular pie charts."
      ],
      "metadata": {
        "id": "ul-Va98IGELe"
      }
    },
    {
      "cell_type": "code",
      "source": [
        "series = pd.Series(3 * np.random.rand(4), index=[\"a\", \"b\", \"c\", \"d\"], name=\"Pie plot\")\n",
        "series.plot.pie(figsize=(6, 6))"
      ],
      "metadata": {
        "id": "llANMQsUGIf8",
        "colab": {
          "base_uri": "https://localhost:8080/",
          "height": 374
        },
        "outputId": "a9aeb9a5-fb11-44c6-a1c9-1b0124c3f2c7"
      },
      "execution_count": null,
      "outputs": [
        {
          "output_type": "execute_result",
          "data": {
            "text/plain": [
              "<matplotlib.axes._subplots.AxesSubplot at 0x7f2f2a0a7850>"
            ]
          },
          "metadata": {},
          "execution_count": 444
        },
        {
          "output_type": "display_data",
          "data": {
            "text/plain": [
              "<Figure size 432x432 with 1 Axes>"
            ],
            "image/png": "[encoded data removed]"
          },
          "metadata": {}
        }
      ]
    },
    {
      "cell_type": "markdown",
      "source": [
        "3. **Matplotlib**\n",
        "\n",
        "Matplotlib is a low level graph plotting library in python that serves as a visualization utility.It was created by John D. Hunter.\n",
        "It is open source and we can use it freely.\n",
        "It is mostly written in python, a few segments are written in C, Objective-C and Javascript for Platform compatibility.\n",
        "\n"
      ],
      "metadata": {
        "id": "Tbl2pMpbH90C"
      }
    },
    {
      "cell_type": "markdown",
      "source": [
        "**Getting started with Matplotlib**\n",
        "\n",
        "If you have Python and PIP already installed on a system, then installation of Matplotlib is very easy.\n",
        "\n",
        "Install it using this command:\n",
        "\n",
        "```\n",
        "C:\\Users\\Your Name>pip install matplotlib\n",
        "```\n",
        "\n"
      ],
      "metadata": {
        "id": "ALsfGCyvIUSn"
      }
    },
    {
      "cell_type": "markdown",
      "source": [
        "**Import Matplotlib**\n",
        "\n",
        "Once Matplotlib is installed, import it in your applications by adding the import module statement:"
      ],
      "metadata": {
        "id": "DA8Y0ffrIsek"
      }
    },
    {
      "cell_type": "code",
      "source": [
        "import matplotlib"
      ],
      "metadata": {
        "id": "kVXged-3JCdb"
      },
      "execution_count": null,
      "outputs": []
    },
    {
      "cell_type": "markdown",
      "source": [
        "**Checking Matplotlib Version**\n",
        "\n",
        "The version string is stored under __version__ attribute."
      ],
      "metadata": {
        "id": "PwV1v96gI3Bq"
      }
    },
    {
      "cell_type": "code",
      "source": [
        "print(matplotlib.__version__)\n"
      ],
      "metadata": {
        "id": "zQr-0zpyI5bD",
        "colab": {
          "base_uri": "https://localhost:8080/"
        },
        "outputId": "9351f415-d0c2-4b11-ff24-ce8c7c34db15"
      },
      "execution_count": null,
      "outputs": [
        {
          "output_type": "stream",
          "name": "stdout",
          "text": [
            "3.2.2\n"
          ]
        }
      ]
    },
    {
      "cell_type": "markdown",
      "source": [
        "**Pyplot**\n",
        "\n",
        "Most of the Matplotlib utilities lies under the pyplot submodule, and are usually imported under the plt alias."
      ],
      "metadata": {
        "id": "6nRoLmseJKaD"
      }
    },
    {
      "cell_type": "code",
      "source": [
        "import matplotlib.pyplot as plt"
      ],
      "metadata": {
        "id": "whKJouuNJXV-"
      },
      "execution_count": null,
      "outputs": []
    },
    {
      "cell_type": "markdown",
      "source": [
        "**Plotting using Matplotlib**\n",
        "\n",
        "The **plot()** function is used to draw points (markers) in a diagram.\n",
        "By default, the plot() function draws a line from point to point.\n",
        "The function takes parameters for specifying points in the diagram.\n",
        "Parameter 1 is an array containing the points on the x-axis.\n",
        "Parameter 2 is an array containing the points on the y-axis.\n",
        "If we need to plot a line from (14, 28) to (12, 24), we have to pass two arrays [14, 28] and [12, 24] to the plot function."
      ],
      "metadata": {
        "id": "sKU4iABSKvYb"
      }
    },
    {
      "cell_type": "code",
      "source": [
        "xpoint=np.array([14,28])\n",
        "ypoint=np.array([12,24])\n",
        "plt.plot(xpoint,ypoint)\n",
        "plt.show()"
      ],
      "metadata": {
        "id": "cmqsg9X6LaZH",
        "colab": {
          "base_uri": "https://localhost:8080/",
          "height": 265
        },
        "outputId": "e25562b2-362e-4537-a854-307331363412"
      },
      "execution_count": null,
      "outputs": [
        {
          "output_type": "display_data",
          "data": {
            "text/plain": [
              "<Figure size 432x288 with 1 Axes>"
            ],
            "image/png": "[encoded data removed]"
          },
          "metadata": {
            "needs_background": "light"
          }
        }
      ]
    },
    {
      "cell_type": "markdown",
      "source": [
        "*Plotting without Line*\n",
        "\n",
        "To plot only the markers,you can use shortcut string notation parameter **'o'**,which means **'rings'**."
      ],
      "metadata": {
        "id": "3uaGBHRiMV2g"
      }
    },
    {
      "cell_type": "code",
      "source": [
        "plt.plot(xpoint,ypoint,'o')\n",
        "plt.show()"
      ],
      "metadata": {
        "id": "0I7qPEVVMle8",
        "colab": {
          "base_uri": "https://localhost:8080/",
          "height": 265
        },
        "outputId": "2735d874-4120-4788-cb72-4dd163adbb26"
      },
      "execution_count": null,
      "outputs": [
        {
          "output_type": "display_data",
          "data": {
            "text/plain": [
              "<Figure size 432x288 with 1 Axes>"
            ],
            "image/png": "[encoded data removed]"
          },
          "metadata": {
            "needs_background": "light"
          }
        }
      ]
    },
    {
      "cell_type": "markdown",
      "source": [
        "*Plotting with multiple points*\n",
        "\n",
        "We can also plot as many po ints as we want, just make sure we have equal no of points on both x-axis and y-axis."
      ],
      "metadata": {
        "id": "65QTYFhiNMBc"
      }
    },
    {
      "cell_type": "code",
      "source": [
        "xpoints=[1,2,3,4]\n",
        "ypoints=[1,4,9,16]\n",
        "plt.plot(xpoints,ypoints)\n",
        "plt.show()"
      ],
      "metadata": {
        "id": "1fmLLQiWNmYR",
        "colab": {
          "base_uri": "https://localhost:8080/",
          "height": 265
        },
        "outputId": "42043248-e984-49d3-abad-77ab48ceb838"
      },
      "execution_count": null,
      "outputs": [
        {
          "output_type": "display_data",
          "data": {
            "text/plain": [
              "<Figure size 432x288 with 1 Axes>"
            ],
            "image/png": "[encoded data removed]"
          },
          "metadata": {
            "needs_background": "light"
          }
        }
      ]
    },
    {
      "cell_type": "markdown",
      "source": [
        "*Default X-Points*\n",
        "\n",
        "If we do not specify the points in the x-axis, they will get the default values 0, 1, 2, 3, (etc. depending on the length of the y-points).\n",
        "\n",
        "So, if we take the same example as above, and leave out the x-points the diagram will look like this:"
      ],
      "metadata": {
        "id": "C-wKlxUJN_wB"
      }
    },
    {
      "cell_type": "code",
      "source": [
        "ypoints=np.array([15,10,5,20])\n",
        "plt.plot(ypoints)\n",
        "plt.show()"
      ],
      "metadata": {
        "id": "pgXtEjF9OOqL",
        "colab": {
          "base_uri": "https://localhost:8080/",
          "height": 265
        },
        "outputId": "543ce379-8d48-408c-8d1d-dd7e3ac3ccf6"
      },
      "execution_count": null,
      "outputs": [
        {
          "output_type": "display_data",
          "data": {
            "text/plain": [
              "<Figure size 432x288 with 1 Axes>"
            ],
            "image/png": "[encoded data removed]"
          },
          "metadata": {
            "needs_background": "light"
          }
        }
      ]
    },
    {
      "cell_type": "markdown",
      "source": [
        "*Markers in Matplotlib*\n",
        "\n",
        "We can use the keyword arguement **marker** to emphasize each point with a specified marker."
      ],
      "metadata": {
        "id": "Jr3T3b2eOtld"
      }
    },
    {
      "cell_type": "code",
      "source": [
        "#Let an example in which mark each point with a circle\n",
        "y=np.array([9,1,25,36,41,10])\n",
        "plt.plot(y,marker='o')\n",
        "plt.show()"
      ],
      "metadata": {
        "id": "Hy3SMDKrU9lx",
        "colab": {
          "base_uri": "https://localhost:8080/",
          "height": 265
        },
        "outputId": "32862187-9f09-4cca-e8e4-a81e64a2bc1f"
      },
      "execution_count": null,
      "outputs": [
        {
          "output_type": "display_data",
          "data": {
            "text/plain": [
              "<Figure size 432x288 with 1 Axes>"
            ],
            "image/png": "[encoded data removed]"
          },
          "metadata": {
            "needs_background": "light"
          }
        }
      ]
    },
    {
      "cell_type": "code",
      "source": [
        "#marking each point with a star\n",
        "plt.plot(y,marker='*')\n",
        "plt.show()\n",
        "#similarly we can use point(.), diamond(d),square(s),pixel(,),etc to mark points."
      ],
      "metadata": {
        "id": "w0pWkNLoVYPY",
        "colab": {
          "base_uri": "https://localhost:8080/",
          "height": 265
        },
        "outputId": "d1308389-45ac-4180-8867-3175489807a4"
      },
      "execution_count": null,
      "outputs": [
        {
          "output_type": "display_data",
          "data": {
            "text/plain": [
              "<Figure size 432x288 with 1 Axes>"
            ],
            "image/png": "[encoded data removed]"
          },
          "metadata": {
            "needs_background": "light"
          }
        }
      ]
    },
    {
      "cell_type": "markdown",
      "source": [
        "*Markersize*\n",
        "\n",
        "You can use thekeyword arguement **markersize** or the shorter version **ms** to set the size of the markers.   "
      ],
      "metadata": {
        "id": "bzzbbO57V2dx"
      }
    },
    {
      "cell_type": "code",
      "source": [
        "#set the sizeof the marker to 12\n",
        "plt.plot(y,marker='s',ms=12)\n",
        "plt.show()"
      ],
      "metadata": {
        "id": "oX36kH5YWJEl",
        "colab": {
          "base_uri": "https://localhost:8080/",
          "height": 265
        },
        "outputId": "8e17e567-2a2a-4de8-a421-3d2bf1353ac1"
      },
      "execution_count": null,
      "outputs": [
        {
          "output_type": "display_data",
          "data": {
            "text/plain": [
              "<Figure size 432x288 with 1 Axes>"
            ],
            "image/png": "[encoded data removed]"
          },
          "metadata": {
            "needs_background": "light"
          }
        }
      ]
    },
    {
      "cell_type": "markdown",
      "source": [
        "*MarkerColor*\n",
        "\n",
        "We can use the keyword arguement **markeredgecolor** or the shorter version **mec** to set the color of the edge of the marker."
      ],
      "metadata": {
        "id": "bZIxKsCsWU23"
      }
    },
    {
      "cell_type": "code",
      "source": [
        "plt.plot(y,marker='s',ms=12,mec='r') #set the red color\n",
        "plt.show()"
      ],
      "metadata": {
        "id": "jCg_Ne2_WsR-",
        "colab": {
          "base_uri": "https://localhost:8080/",
          "height": 265
        },
        "outputId": "4f95b7b4-70b8-45fc-cd31-f10b0fa93343"
      },
      "execution_count": null,
      "outputs": [
        {
          "output_type": "display_data",
          "data": {
            "text/plain": [
              "<Figure size 432x288 with 1 Axes>"
            ],
            "image/png": "[encoded data removed]"
          },
          "metadata": {
            "needs_background": "light"
          }
        }
      ]
    },
    {
      "cell_type": "code",
      "source": [
        "plt.plot(y,marker='s',mfc='r') #set the markerface color to red\n",
        "plt.show()"
      ],
      "metadata": {
        "id": "Dt4VcgMYW6_I",
        "colab": {
          "base_uri": "https://localhost:8080/",
          "height": 265
        },
        "outputId": "fa3c23ff-c011-4c99-92c5-8fb2b1a0007a"
      },
      "execution_count": null,
      "outputs": [
        {
          "output_type": "display_data",
          "data": {
            "text/plain": [
              "<Figure size 432x288 with 1 Axes>"
            ],
            "image/png": "[encoded data removed]"
          },
          "metadata": {
            "needs_background": "light"
          }
        }
      ]
    },
    {
      "cell_type": "markdown",
      "source": [
        "*Matplotlib Line*\n",
        "\n",
        "**LineStyle**\n",
        "\n",
        "You can use the word **linestyle**,or **ls** to change the style of the plotted line.\n"
      ],
      "metadata": {
        "id": "ZylbFg7yXQD4"
      }
    },
    {
      "cell_type": "code",
      "source": [
        "plt.plot(y,linestyle='dotted')\n",
        "plt.show()"
      ],
      "metadata": {
        "id": "9vghgLRPX2H8",
        "colab": {
          "base_uri": "https://localhost:8080/",
          "height": 265
        },
        "outputId": "dfeef253-04ad-4164-89e0-9a34a618b444"
      },
      "execution_count": null,
      "outputs": [
        {
          "output_type": "display_data",
          "data": {
            "text/plain": [
              "<Figure size 432x288 with 1 Axes>"
            ],
            "image/png": "[encoded data removed]"
          },
          "metadata": {
            "needs_background": "light"
          }
        }
      ]
    },
    {
      "cell_type": "code",
      "source": [
        "plt.plot(y,linestyle='dashed')\n",
        "plt.plot()"
      ],
      "metadata": {
        "id": "u5fqTqaCX9Xt",
        "colab": {
          "base_uri": "https://localhost:8080/",
          "height": 282
        },
        "outputId": "bf05715e-5fe3-4f81-e13c-9ce390a4cf00"
      },
      "execution_count": null,
      "outputs": [
        {
          "output_type": "execute_result",
          "data": {
            "text/plain": [
              "[]"
            ]
          },
          "metadata": {},
          "execution_count": 458
        },
        {
          "output_type": "display_data",
          "data": {
            "text/plain": [
              "<Figure size 432x288 with 1 Axes>"
            ],
            "image/png": "[encoded data removed]"
          },
          "metadata": {
            "needs_background": "light"
          }
        }
      ]
    },
    {
      "cell_type": "markdown",
      "source": [
        "**LineColor**\n",
        "\n",
        "You can use the keyword arguement ** color** or shorter version **c** to set the color of the line."
      ],
      "metadata": {
        "id": "LHD2o-AwYIu2"
      }
    },
    {
      "cell_type": "code",
      "source": [
        "plt.plot(y,color='r')\n",
        "plt.show()"
      ],
      "metadata": {
        "id": "-fdH4oppYVgE",
        "colab": {
          "base_uri": "https://localhost:8080/",
          "height": 265
        },
        "outputId": "3d7780ec-de35-44cb-ece1-8f64a3b450f0"
      },
      "execution_count": null,
      "outputs": [
        {
          "output_type": "display_data",
          "data": {
            "text/plain": [
              "<Figure size 432x288 with 1 Axes>"
            ],
            "image/png": "[encoded data removed]"
          },
          "metadata": {
            "needs_background": "light"
          }
        }
      ]
    },
    {
      "cell_type": "markdown",
      "source": [
        "*Matplotlib Labels and Title*\n",
        "\n",
        " With pyplot, we can use the xlabel() and ylabel() functions to set a label for the x and y axis."
      ],
      "metadata": {
        "id": "4x_ueqjCYgL6"
      }
    },
    {
      "cell_type": "code",
      "source": [
        "a=np.array([10,11,12,13,14,15])\n",
        "b=np.array([100,121,144,169,196,225])\n",
        "plt.plot(a,b)\n",
        "plt.xlabel('Number')\n",
        "plt.ylabel('Square')\n",
        "plt.plot()\n"
      ],
      "metadata": {
        "id": "tC3jGyTfZElI",
        "colab": {
          "base_uri": "https://localhost:8080/",
          "height": 296
        },
        "outputId": "0b53859c-42d3-4d63-9a25-234a7654387e"
      },
      "execution_count": null,
      "outputs": [
        {
          "output_type": "execute_result",
          "data": {
            "text/plain": [
              "[]"
            ]
          },
          "metadata": {},
          "execution_count": 460
        },
        {
          "output_type": "display_data",
          "data": {
            "text/plain": [
              "<Figure size 432x288 with 1 Axes>"
            ],
            "image/png": "[encoded data removed]"
          },
          "metadata": {
            "needs_background": "light"
          }
        }
      ]
    },
    {
      "cell_type": "markdown",
      "source": [
        "For writing a title, you can use the **title()** function to set a title for the plot."
      ],
      "metadata": {
        "id": "kGgPmejQaAhL"
      }
    },
    {
      "cell_type": "code",
      "source": [
        "#writing title for the above plot\n",
        "plt.title(\"Graph of X-square\")\n",
        "plt.plot(a,b)\n",
        "plt.plot()"
      ],
      "metadata": {
        "id": "omIm_hZoaSUD",
        "colab": {
          "base_uri": "https://localhost:8080/",
          "height": 298
        },
        "outputId": "4e3f7952-257a-4373-f4bd-a1192ac4f978"
      },
      "execution_count": null,
      "outputs": [
        {
          "output_type": "execute_result",
          "data": {
            "text/plain": [
              "[]"
            ]
          },
          "metadata": {},
          "execution_count": 461
        },
        {
          "output_type": "display_data",
          "data": {
            "text/plain": [
              "<Figure size 432x288 with 1 Axes>"
            ],
            "image/png": "[encoded data removed]"
          },
          "metadata": {
            "needs_background": "light"
          }
        }
      ]
    },
    {
      "cell_type": "markdown",
      "source": [
        "*Add grid to the plot*\n",
        "\n",
        "  With Pyplot, you can use the grid () function to add grid lines to the plot."
      ],
      "metadata": {
        "id": "yJGAJ0NmdPPG"
      }
    },
    {
      "cell_type": "code",
      "source": [
        "plt.plot(a,b)\n",
        "plt.grid()\n",
        "plt.show()"
      ],
      "metadata": {
        "id": "2kFpl7qIde9P",
        "colab": {
          "base_uri": "https://localhost:8080/",
          "height": 265
        },
        "outputId": "c79a2cb5-36a8-4624-c555-dcffac97d633"
      },
      "execution_count": null,
      "outputs": [
        {
          "output_type": "display_data",
          "data": {
            "text/plain": [
              "<Figure size 432x288 with 1 Axes>"
            ],
            "image/png": "[encoded data removed]"
          },
          "metadata": {
            "needs_background": "light"
          }
        }
      ]
    },
    {
      "cell_type": "markdown",
      "source": [
        "*Display Multiple plots*\n",
        "\n",
        "With **subplot()** function, you can draw multiple plots in one figure.\n",
        "The subplot() function takes three arguements that describes the layout of the figure.\n",
        "The layout is organized in rows and columns, which are represented by the first and the second arguements.\n",
        "The third arguement represents the index of the current plot."
      ],
      "metadata": {
        "id": "mT3gOuDUdpm1"
      }
    },
    {
      "cell_type": "code",
      "source": [
        "#plot1\n",
        "a=np.array([11,12,13,14])\n",
        "b=np.array([121,144,169,196])\n",
        "plt.subplot(1,2,1)\n",
        "plt.plot(a,b)\n",
        "\n",
        "#plot2\n",
        "x=np.array([7,8,9,10])\n",
        "y=np.array([343,512,729,1000])\n",
        "plt.subplot(1,2,2)\n",
        "plt.plot(x,y)\n",
        "\n",
        "plt.show()"
      ],
      "metadata": {
        "id": "om8-bUjOeEp8",
        "colab": {
          "base_uri": "https://localhost:8080/",
          "height": 265
        },
        "outputId": "b69bb605-efc7-4545-cf67-0358d757f412"
      },
      "execution_count": null,
      "outputs": [
        {
          "output_type": "display_data",
          "data": {
            "text/plain": [
              "<Figure size 432x288 with 2 Axes>"
            ],
            "image/png": "[encoded data removed]"
          },
          "metadata": {
            "needs_background": "light"
          }
        }
      ]
    },
    {
      "cell_type": "markdown",
      "source": [
        "*Different Plots using Matplotlib*\n",
        "\n"
      ],
      "metadata": {
        "id": "0aOB2GCPiDhq"
      }
    },
    {
      "cell_type": "code",
      "source": [
        "#scatter plot using matplotlib\n",
        "#using x and y from above\n",
        "plt.scatter(x,y)\n",
        "plt.show()"
      ],
      "metadata": {
        "id": "ufsbIg0JlA0R",
        "colab": {
          "base_uri": "https://localhost:8080/",
          "height": 265
        },
        "outputId": "0e82a2df-f416-4431-f858-1b996f0397f5"
      },
      "execution_count": null,
      "outputs": [
        {
          "output_type": "display_data",
          "data": {
            "text/plain": [
              "<Figure size 432x288 with 1 Axes>"
            ],
            "image/png": "[encoded data removed]"
          },
          "metadata": {
            "needs_background": "light"
          }
        }
      ]
    },
    {
      "cell_type": "code",
      "source": [
        "#bar plot using matplotlib\n",
        "#using a and b from above\n",
        "plt.bar(a,b)\n",
        "plt.show()"
      ],
      "metadata": {
        "id": "7X40FKWNlRSb",
        "colab": {
          "base_uri": "https://localhost:8080/",
          "height": 265
        },
        "outputId": "fb8fd241-9ef4-4956-eb0d-f243915dc1af"
      },
      "execution_count": null,
      "outputs": [
        {
          "output_type": "display_data",
          "data": {
            "text/plain": [
              "<Figure size 432x288 with 1 Axes>"
            ],
            "image/png": "[encoded data removed]"
          },
          "metadata": {
            "needs_background": "light"
          }
        }
      ]
    },
    {
      "cell_type": "code",
      "source": [
        "#creatng horizontal bars using barh() function\n",
        "plt.barh(a,b)\n",
        "plt.plot()"
      ],
      "metadata": {
        "id": "jf_2AlXllfcX",
        "colab": {
          "base_uri": "https://localhost:8080/",
          "height": 282
        },
        "outputId": "4222dc15-e478-4d17-d756-18c3854fdb2b"
      },
      "execution_count": null,
      "outputs": [
        {
          "output_type": "execute_result",
          "data": {
            "text/plain": [
              "[]"
            ]
          },
          "metadata": {},
          "execution_count": 466
        },
        {
          "output_type": "display_data",
          "data": {
            "text/plain": [
              "<Figure size 432x288 with 1 Axes>"
            ],
            "image/png": "[encoded data removed]"
          },
          "metadata": {
            "needs_background": "light"
          }
        }
      ]
    },
    {
      "cell_type": "code",
      "source": [
        "#we can also add color to the bar plots\n",
        "plt.bar(x,y,color='hotpink')  #since there are 140 supported colors,\n",
        "plt.show()                      #so we can use any ot those colors."
      ],
      "metadata": {
        "id": "erHD80qXlpbn",
        "colab": {
          "base_uri": "https://localhost:8080/",
          "height": 265
        },
        "outputId": "1f098ced-5924-46c9-fa84-11c04b46818b"
      },
      "execution_count": null,
      "outputs": [
        {
          "output_type": "display_data",
          "data": {
            "text/plain": [
              "<Figure size 432x288 with 1 Axes>"
            ],
            "image/png": "[encoded data removed]"
          },
          "metadata": {
            "needs_background": "light"
          }
        }
      ]
    },
    {
      "cell_type": "code",
      "source": [
        "#we can also change bar width and bar height\n",
        "plt.bar(a,b,width=0.2)\n",
        "plt.show()\n",
        "\n",
        "plt.barh(x,y,height=0.2)\n",
        "plt.show()"
      ],
      "metadata": {
        "id": "xn1eYH8XmGd3",
        "colab": {
          "base_uri": "https://localhost:8080/",
          "height": 513
        },
        "outputId": "878ee19f-6b7f-45aa-868d-f597ba1b1afd"
      },
      "execution_count": null,
      "outputs": [
        {
          "output_type": "display_data",
          "data": {
            "text/plain": [
              "<Figure size 432x288 with 1 Axes>"
            ],
            "image/png": "[encoded data removed]"
          },
          "metadata": {
            "needs_background": "light"
          }
        },
        {
          "output_type": "display_data",
          "data": {
            "text/plain": [
              "<Figure size 432x288 with 1 Axes>"
            ],
            "image/png": "[encoded data removed]"
          },
          "metadata": {
            "needs_background": "light"
          }
        }
      ]
    },
    {
      "cell_type": "markdown",
      "source": [
        "* The default width value is **0.8**.\n",
        "* The **barh()** takes the keyword arguement **height** to set the height of the bars.\n",
        "* The default height value is **0.8**."
      ],
      "metadata": {
        "id": "xKXY1jwqmx1q"
      }
    },
    {
      "cell_type": "markdown",
      "source": [
        "*Histograms*\n",
        "\n",
        "A histogram is a graph showing frequency distributions.\n",
        "It is a graph showing the number of observations within each given interval."
      ],
      "metadata": {
        "id": "Gz1D0i0xnQfg"
      }
    },
    {
      "cell_type": "markdown",
      "source": [
        "**Create Histogram**\n",
        "In Matplotlib, we use the hist() function to create histograms.\n",
        "\n",
        "The hist() function will use an array of numbers to create a histogram, the array is sent into the function as an argument."
      ],
      "metadata": {
        "id": "FE7OwLg4nZT6"
      }
    },
    {
      "cell_type": "code",
      "source": [
        "c=np.random.normal(120,10,25)\n",
        "plt.hist(c)\n",
        "plt.show()"
      ],
      "metadata": {
        "id": "3TITH__0oJ0P",
        "colab": {
          "base_uri": "https://localhost:8080/",
          "height": 265
        },
        "outputId": "c36d9a19-b0aa-48a7-f82f-c01dbb1ddf06"
      },
      "execution_count": null,
      "outputs": [
        {
          "output_type": "display_data",
          "data": {
            "text/plain": [
              "<Figure size 432x288 with 1 Axes>"
            ],
            "image/png": "[encoded data removed]"
          },
          "metadata": {
            "needs_background": "light"
          }
        }
      ]
    },
    {
      "cell_type": "markdown",
      "source": [
        "*PieCharts*\n",
        "\n",
        "With Pyplot, you can use the pie() function to draw pie charts.\n"
      ],
      "metadata": {
        "id": "kot7X-U5pDFF"
      }
    },
    {
      "cell_type": "code",
      "source": [
        "z=np.array([24,56,71,21,10])\n",
        "plt.pie(z)\n",
        "plt.show()"
      ],
      "metadata": {
        "id": "-MH_1gW1pPIz",
        "colab": {
          "base_uri": "https://localhost:8080/",
          "height": 248
        },
        "outputId": "725c6bfa-906b-4ebc-e4d2-299f675ba75a"
      },
      "execution_count": null,
      "outputs": [
        {
          "output_type": "display_data",
          "data": {
            "text/plain": [
              "<Figure size 432x288 with 1 Axes>"
            ],
            "image/png": "[encoded data removed]"
          },
          "metadata": {}
        }
      ]
    },
    {
      "cell_type": "code",
      "source": [
        "#we can also add labels to the piechart\n",
        "pielabels=['Household','Savings','Food','Rent','Bills']\n",
        "plt.pie(z,labels=pielabels)\n",
        "plt.show()"
      ],
      "metadata": {
        "id": "rl9-NhuVq_Oa",
        "colab": {
          "base_uri": "https://localhost:8080/",
          "height": 248
        },
        "outputId": "ec71e0aa-2d18-48cd-eb43-8d654eabab72"
      },
      "execution_count": null,
      "outputs": [
        {
          "output_type": "display_data",
          "data": {
            "text/plain": [
              "<Figure size 432x288 with 1 Axes>"
            ],
            "image/png": "[encoded data removed]"
          },
          "metadata": {}
        }
      ]
    },
    {
      "cell_type": "code",
      "source": [
        "#using legend\n",
        "plt.pie(z,labels=pielabels)\n",
        "plt.legend()\n",
        "plt.show()"
      ],
      "metadata": {
        "id": "eO1L26BKro51",
        "colab": {
          "base_uri": "https://localhost:8080/",
          "height": 248
        },
        "outputId": "8a1f4c9f-dcea-485f-c220-74a98f56b637"
      },
      "execution_count": null,
      "outputs": [
        {
          "output_type": "display_data",
          "data": {
            "text/plain": [
              "<Figure size 432x288 with 1 Axes>"
            ],
            "image/png": "[encoded data removed]"
          },
          "metadata": {}
        }
      ]
    },
    {
      "cell_type": "markdown",
      "source": [
        "4. **Seaborn**\n",
        "\n",
        "Seaborn is a library that uses Matplotlib underneath to plot graphs. It will be used to visualize random distributions."
      ],
      "metadata": {
        "id": "azeTgDmysIGP"
      }
    },
    {
      "cell_type": "markdown",
      "source": [
        "*Install Seaborn*\n",
        "\n",
        "If you have Python and PIP already installed on a system, install it using this command:\n",
        "\n",
        "```\n",
        "C:\\Users\\Your Name>pip install seaborn\n",
        "```\n",
        "\n"
      ],
      "metadata": {
        "id": "TFnH9mxevBy1"
      }
    },
    {
      "cell_type": "markdown",
      "source": [
        "*Import Seaborn*\n",
        "\n",
        "Import the Seaborn module in your code using the following statement.\n",
        "\n",
        "\n",
        "```\n",
        "import seaborn as sns\n",
        "```\n",
        "\n"
      ],
      "metadata": {
        "id": "mMl0wrM2v1MI"
      }
    },
    {
      "cell_type": "markdown",
      "source": [
        "*Distplots*\n",
        "\n",
        "**Distplot** stands for **distribution plot**, it takes as input an array and plots a curve corresponding to the distribution of points in the array.\n",
        "\n"
      ],
      "metadata": {
        "id": "bvREgi8Q1Jjy"
      }
    },
    {
      "cell_type": "code",
      "source": [
        "import seaborn as sns\n",
        "sns.distplot([10, 11, 12, 13, 14, 15])\n",
        "plt.show()"
      ],
      "metadata": {
        "id": "oP76NbQF1WQg",
        "colab": {
          "base_uri": "https://localhost:8080/",
          "height": 320
        },
        "outputId": "491174d5-4f5b-44d7-a7ef-df120bd32c4e"
      },
      "execution_count": null,
      "outputs": [
        {
          "output_type": "stream",
          "name": "stderr",
          "text": [
            "/usr/local/lib/python3.7/dist-packages/seaborn/distributions.py:2619: FutureWarning: `distplot` is a deprecated function and will be removed in a future version. Please adapt your code to use either `displot` (a figure-level function with similar flexibility) or `histplot` (an axes-level function for histograms).\n",
            "  warnings.warn(msg, FutureWarning)\n"
          ]
        },
        {
          "output_type": "display_data",
          "data": {
            "text/plain": [
              "<Figure size 432x288 with 1 Axes>"
            ],
            "image/png": "[encoded data removed]"
          },
          "metadata": {
            "needs_background": "light"
          }
        }
      ]
    },
    {
      "cell_type": "code",
      "source": [
        "#Plotting a Distplot without the Histogram\n",
        "sns.distplot([10, 11, 12, 13, 14, 15],hist=False)\n",
        "plt.show()"
      ],
      "metadata": {
        "id": "UMTg6Zzf17K6",
        "colab": {
          "base_uri": "https://localhost:8080/",
          "height": 320
        },
        "outputId": "1af8f1e8-2b10-4dd6-af4c-faeb5a423464"
      },
      "execution_count": null,
      "outputs": [
        {
          "output_type": "stream",
          "name": "stderr",
          "text": [
            "/usr/local/lib/python3.7/dist-packages/seaborn/distributions.py:2619: FutureWarning: `distplot` is a deprecated function and will be removed in a future version. Please adapt your code to use either `displot` (a figure-level function with similar flexibility) or `kdeplot` (an axes-level function for kernel density plots).\n",
            "  warnings.warn(msg, FutureWarning)\n"
          ]
        },
        {
          "output_type": "display_data",
          "data": {
            "text/plain": [
              "<Figure size 432x288 with 1 Axes>"
            ],
            "image/png": "[encoded data removed]"
          },
          "metadata": {
            "needs_background": "light"
          }
        }
      ]
    },
    {
      "cell_type": "markdown",
      "source": [
        "*Different categories of plot in Seaborn*\n",
        "\n",
        "Plots are basically used for visualizing the relationship between variables. Those variables can be either be completely numerical or a category like a group, class or division. Seaborn divides plot into the below categories –\n",
        "\n",
        "\n",
        "**Relational plots**: This plot is used to understand the relation between two variables.\n",
        "\n",
        "**Categorical plots**: This plot deals with categorical variables and how they can be visualized.\n",
        "\n",
        "**Distribution plots**: This plot is used for examining univariate and bivariate distributions\n",
        "\n",
        "**Regression plots**: The regression plots in seaborn are primarily intended to add a visual guide that helps to emphasize patterns in a dataset during exploratory data analyses.\n",
        "\n",
        "**Matrix plots**: A matrix plot is an array of scatterplots.\n",
        "\n",
        "**Multi-plot grids**: It is an useful approach is to draw multiple instances of the same plot on different subsets of the dataset."
      ],
      "metadata": {
        "id": "vP-JpAPd2WSw"
      }
    },
    {
      "cell_type": "markdown",
      "source": [
        "**Plotting categorical scatter plots with Seaborn**\n",
        "\n",
        "* *StripPlot*\n",
        "\n"
      ],
      "metadata": {
        "id": "iiXe4a7V3_FD"
      }
    },
    {
      "cell_type": "code",
      "source": [
        "a1=['Jan','Feb','Mar','Apr','May','Jun']\n",
        "a2=[21,52,36,69,78,87]\n",
        "ax=sns.stripplot(a1,a2)\n",
        "ax.set(xlabel='months',ylabel='Amount_Spend')\n",
        "plt.title('Monthly Expenditure')\n",
        "plt.show()"
      ],
      "metadata": {
        "id": "GHRn6GEI7HHE",
        "colab": {
          "base_uri": "https://localhost:8080/",
          "height": 350
        },
        "outputId": "a638fa16-bbe1-4ab5-af9c-9f321c86286f"
      },
      "execution_count": null,
      "outputs": [
        {
          "output_type": "stream",
          "name": "stderr",
          "text": [
            "/usr/local/lib/python3.7/dist-packages/seaborn/_decorators.py:43: FutureWarning: Pass the following variables as keyword args: x, y. From version 0.12, the only valid positional argument will be `data`, and passing other arguments without an explicit keyword will result in an error or misinterpretation.\n",
            "  FutureWarning\n"
          ]
        },
        {
          "output_type": "display_data",
          "data": {
            "text/plain": [
              "<Figure size 432x288 with 1 Axes>"
            ],
            "image/png": "[encoded data removed]"
          },
          "metadata": {
            "needs_background": "light"
          }
        }
      ]
    },
    {
      "cell_type": "markdown",
      "source": [
        "This is the one kind of scatter plot of categorical data with the help of seaborn.  \n",
        "\n",
        "**Categorical data** is represented on the x-axis and values correspond to them represented through the y-axis.\n",
        "\n",
        "**.striplot()** function is used to define the type of the plot and to plot them on canvas using.\n",
        "\n",
        "**.set()** function is used to set labels of x-axis and y-axis.\n",
        "\n",
        "**.title()** function is used to give a title to the graph.\n",
        "\n",
        "To view plot we use **.show()** function."
      ],
      "metadata": {
        "id": "HGMu-uMY71pF"
      }
    },
    {
      "cell_type": "markdown",
      "source": [
        "* ***SwarmPlot***\n"
      ],
      "metadata": {
        "id": "SAuuRXVe8Jho"
      }
    },
    {
      "cell_type": "code",
      "source": [
        "#using dataframe that we  created earlier while demonstrating pandas\n",
        "bx=sns.swarmplot(x='Name',y='Physics',data=df)\n",
        "plt.show()"
      ],
      "metadata": {
        "id": "37Ju4WVV8b-H",
        "colab": {
          "base_uri": "https://localhost:8080/",
          "height": 279
        },
        "outputId": "bfd63d6b-e59f-4bd2-a489-53256c197613"
      },
      "execution_count": null,
      "outputs": [
        {
          "output_type": "display_data",
          "data": {
            "text/plain": [
              "<Figure size 432x288 with 1 Axes>"
            ],
            "image/png": "[encoded data removed]"
          },
          "metadata": {
            "needs_background": "light"
          }
        }
      ]
    },
    {
      "cell_type": "markdown",
      "source": [
        "This is very much similar to stripplot but the only difference is that it does not allow overlapping of markers. It causes jittering in the markers of the plot so that graph can easily be read without information loss as seen in the above plot.\n",
        "\n",
        "\n",
        "We use **.swarmplot()** function to plot swarm plot.\n",
        "\n",
        "Another difference that we can notice in Seaborn and Matplotlib is that working with DataFrames doesn’t go quite as smoothly with Matplotlib, which can be annoying if we doing exploratory analysis with Pandas. And that’s exactly what Seaborn does easily, the plotting functions operate on DataFrames and arrays that contain a whole dataset.\n",
        "\n",
        "If we want we can also change the representation of data on a particular axis."
      ],
      "metadata": {
        "id": "dEppZnFG82nZ"
      }
    },
    {
      "cell_type": "markdown",
      "source": [
        "* ***BarPlot***\n",
        "\n",
        "A barplot is basically used to aggregate the categorical data according to some methods and by default it’s the mean. It can also be understood as a visualization of the group by action. To use this plot we choose a categorical column for the x-axis and a numerical column for the y-axis, and we see that it creates a plot taking a mean per categorical column.\n",
        "\n",
        "Syntax:\n",
        "\n",
        "\n",
        "```\n",
        "barplot([x, y, hue, data, order, hue_order, …])\n",
        "```\n",
        "\n"
      ],
      "metadata": {
        "id": "PBGpfNAU9AOx"
      }
    },
    {
      "cell_type": "code",
      "source": [
        "#using dataframe that we  created earlier while demonstrating pandas\n",
        "sns.barplot(x='Name',y='Computer Science',data=df,palette='viridis')"
      ],
      "metadata": {
        "id": "iceKKbXB9Ksh",
        "colab": {
          "base_uri": "https://localhost:8080/",
          "height": 299
        },
        "outputId": "3f7b6d66-a6b9-4064-b0b4-ecae03aed9a9"
      },
      "execution_count": null,
      "outputs": [
        {
          "output_type": "execute_result",
          "data": {
            "text/plain": [
              "<matplotlib.axes._subplots.AxesSubplot at 0x7f2f29519910>"
            ]
          },
          "metadata": {},
          "execution_count": 477
        },
        {
          "output_type": "display_data",
          "data": {
            "text/plain": [
              "<Figure size 432x288 with 1 Axes>"
            ],
            "image/png": "[encoded data removed]"
          },
          "metadata": {
            "needs_background": "light"
          }
        }
      ]
    },
    {
      "cell_type": "markdown",
      "source": [
        "Palette is used to set the color of the plot.\n",
        "\n",
        "The estimator is used as a statistical function for estimation within each categorical bin."
      ],
      "metadata": {
        "id": "mY_707eA9p1k"
      }
    },
    {
      "cell_type": "markdown",
      "source": [
        "* ***CountPlot***\n",
        "\n",
        "A countplot basically counts the categories and returns a count of their occurrences. It is one of the simplest plots provided by the seaborn library.\n",
        "\n",
        "Syntax:\n",
        "\n",
        "\n",
        "```\n",
        "countplot([x, y, hue, data, order, …])\n",
        "```\n",
        "\n"
      ],
      "metadata": {
        "id": "WkdlKBZU9vN6"
      }
    },
    {
      "cell_type": "code",
      "source": [
        "#using dataframe that we  created earlier while demonstrating pandas\n",
        "sns.countplot(x='Name',data=df)"
      ],
      "metadata": {
        "id": "01ABaBYK97fE",
        "colab": {
          "base_uri": "https://localhost:8080/",
          "height": 296
        },
        "outputId": "c182e0ab-4134-4743-d748-9e6394df934d"
      },
      "execution_count": null,
      "outputs": [
        {
          "output_type": "execute_result",
          "data": {
            "text/plain": [
              "<matplotlib.axes._subplots.AxesSubplot at 0x7f2f29494050>"
            ]
          },
          "metadata": {},
          "execution_count": 478
        },
        {
          "output_type": "display_data",
          "data": {
            "text/plain": [
              "<Figure size 432x288 with 1 Axes>"
            ],
            "image/png": "[encoded data removed]"
          },
          "metadata": {
            "needs_background": "light"
          }
        }
      ]
    },
    {
      "cell_type": "markdown",
      "source": [
        "* ***BoxPlot***\n",
        "\n",
        "Boxplot is a chart that is used to visualize how a given data (variable) is distributed using quartiles. It shows the minimum, maximum, median, first quartile and third quartile in the data set.\n",
        "\n",
        "Syntax:\n",
        "\n",
        "\n",
        "```\n",
        "boxplot([x, y, hue, data, order, hue_order, …])\n",
        "```\n",
        "\n",
        "A box plot (or box-and-whisker plot) shows the distribution of quantitative data in a way that facilitates comparisons between variables or across levels of a categorical variable. The box shows the quartiles of the dataset while the whiskers extend to show the rest of the distribution, except for points that are determined to be “outliers” using a method that is a function of the inter-quartile range.\n",
        "\n",
        "A box plot gives a five-number summary of a set of data which is-\n",
        "\n",
        "**Minimum** – It is the minimum value in the dataset excluding the outliers\n",
        "\n",
        "**First Quartile (Q1)** – 25% of the data lies below the First (lower) Quartile.\n",
        "\n",
        "**Median (Q2)** – It is the mid-point of the dataset. Half of the values lie below it and half above.\n",
        "\n",
        "**Third Quartile (Q3)** – 75% of the data lies below the Third (Upper) Quartile.\n",
        "\n",
        "**Maximum** – It is the maximum value in the dataset excluding the outliers.\n",
        "\n",
        "**Note**: The box plot shown in the above diagram is a perfect plot with no skewness. The plots can have skewness and the median might not be at the center of the box.\n",
        "\n",
        "The area inside the box (50% of the data) is known as the Inter Quartile Range. The IQR is calculated as –\n",
        "\n",
        "***IQR = Q3-Q1***\n",
        "\n",
        "**Outliers** are the data points below and above the lower and upper limit. The lower and upper limit is calculated as –\n",
        "\n",
        "**Lower Limit = Q1 - 1.5*IQR**\n",
        "**Upper Limit = Q3 + 1.5*IQR**\n",
        "\n",
        "The values below and above these limits are considered outliers and the minimum and maximum values are calculated from the points which lie under the lower and upper limit.\n",
        "\n",
        "**How to interpret the box plot?**\n",
        "\n",
        "The bottom of the box is the 25% percentile and the top is the 75% percentile value of the data.\n",
        "\n",
        "So, essentially the box represents the middle 50% of all the datapoints which represents the core region when the data is situated. The height of the boxplot is also called the Inter Quartile Range (IQR), which mathematically is the difference between the 75th and 25th percentile values of the data.\n",
        "\n",
        "The thick line in the middle of the box represents the median. Whereas, the upper and lower whisker marks 1.5 times the IQR from the top (and bottom) of the box.\n",
        "\n",
        "But, why whiskers matter?\n",
        "\n",
        "Because, the points that lie outside the whiskers, that is, **(1.5 x IQR)** in both directions are generally considered as outliers.\n",
        "\n",
        "\n",
        "**Uses of a Box Plot**\n",
        "\n",
        "*  Box plots provide a visual summary of the data with which we can quickly identify the average value of the data, how dispersed the data is, whether the data is skewed or not (skewness).\n",
        "\n",
        "* The Median gives you the average value of the data.\n",
        "\n",
        "* Box Plots shows Skewness of the data-\n",
        "\n",
        "a) If the Median is at the center of the Box and the whiskers are almost the\n",
        "   same on both the ends then the data is Normally Distributed.\n",
        "\n",
        "b) If the Median lies closer to the First Quartile and if the whisker at the lower end is shorter (as in the above example) then it has a Positive Skew (Right Skew).\n",
        "\n",
        "c) If the Median lies closer to the Third Quartile and if the whisker at the\n",
        "   upper end is shorter then it has a Negative Skew (Left Skew).\n",
        "\n",
        "* The dispersion or spread of data can be visualized by the minimum and maximum values which are found at the end of the whiskers.\n",
        "\n",
        "* The Box plot gives us the idea of about the Outliers which are the points which are numerically distant from the rest of the data."
      ],
      "metadata": {
        "id": "Xys17wfi-L0t"
      }
    },
    {
      "cell_type": "code",
      "source": [
        "DF=sns.load_dataset('iris')\n",
        "DF.head()"
      ],
      "metadata": {
        "id": "bhESaCYw-aLy",
        "colab": {
          "base_uri": "https://localhost:8080/",
          "height": 206
        },
        "outputId": "6b78dbf0-f228-42f0-e4a3-2a2608c58075"
      },
      "execution_count": null,
      "outputs": [
        {
          "output_type": "execute_result",
          "data": {
            "text/plain": [
              "   sepal_length  sepal_width  petal_length  petal_width species\n",
              "0           5.1          3.5           1.4          0.2  setosa\n",
              "1           4.9          3.0           1.4          0.2  setosa\n",
              "2           4.7          3.2           1.3          0.2  setosa\n",
              "3           4.6          3.1           1.5          0.2  setosa\n",
              "4           5.0          3.6           1.4          0.2  setosa"
            ],
            "text/html": [
              "\n",
              "  <div id=\"df-8b6ac03b-90ca-4662-8b85-1e5eb4f966a8\">\n",
              "    <div class=\"colab-df-container\">\n",
              "      <div>\n",
              "<style scoped>\n",
              "    .dataframe tbody tr th:only-of-type {\n",
              "        vertical-align: middle;\n",
              "    }\n",
              "\n",
              "    .dataframe tbody tr th {\n",
              "        vertical-align: top;\n",
              "    }\n",
              "\n",
              "    .dataframe thead th {\n",
              "        text-align: right;\n",
              "    }\n",
              "</style>\n",
              "<table border=\"1\" class=\"dataframe\">\n",
              "  <thead>\n",
              "    <tr style=\"text-align: right;\">\n",
              "      <th></th>\n",
              "      <th>sepal_length</th>\n",
              "      <th>sepal_width</th>\n",
              "      <th>petal_length</th>\n",
              "      <th>petal_width</th>\n",
              "      <th>species</th>\n",
              "    </tr>\n",
              "  </thead>\n",
              "  <tbody>\n",
              "    <tr>\n",
              "      <th>0</th>\n",
              "      <td>5.1</td>\n",
              "      <td>3.5</td>\n",
              "      <td>1.4</td>\n",
              "      <td>0.2</td>\n",
              "      <td>setosa</td>\n",
              "    </tr>\n",
              "    <tr>\n",
              "      <th>1</th>\n",
              "      <td>4.9</td>\n",
              "      <td>3.0</td>\n",
              "      <td>1.4</td>\n",
              "      <td>0.2</td>\n",
              "      <td>setosa</td>\n",
              "    </tr>\n",
              "    <tr>\n",
              "      <th>2</th>\n",
              "      <td>4.7</td>\n",
              "      <td>3.2</td>\n",
              "      <td>1.3</td>\n",
              "      <td>0.2</td>\n",
              "      <td>setosa</td>\n",
              "    </tr>\n",
              "    <tr>\n",
              "      <th>3</th>\n",
              "      <td>4.6</td>\n",
              "      <td>3.1</td>\n",
              "      <td>1.5</td>\n",
              "      <td>0.2</td>\n",
              "      <td>setosa</td>\n",
              "    </tr>\n",
              "    <tr>\n",
              "      <th>4</th>\n",
              "      <td>5.0</td>\n",
              "      <td>3.6</td>\n",
              "      <td>1.4</td>\n",
              "      <td>0.2</td>\n",
              "      <td>setosa</td>\n",
              "    </tr>\n",
              "  </tbody>\n",
              "</table>\n",
              "</div>\n",
              "      <button class=\"colab-df-convert\" onclick=\"convertToInteractive('df-8b6ac03b-90ca-4662-8b85-1e5eb4f966a8')\"\n",
              "              title=\"Convert this dataframe to an interactive table.\"\n",
              "              style=\"display:none;\">\n",
              "        \n",
              "  <svg xmlns=\"http://www.w3.org/2000/svg\" height=\"24px\"viewBox=\"0 0 24 24\"\n",
              "       width=\"24px\">\n",
              "    <path d=\"M0 0h24v24H0V0z\" fill=\"none\"/>\n",
              "    <path d=\"M18.56 5.44l.94 2.06.94-2.06 2.06-.94-2.06-.94-.94-2.06-.94 2.06-2.06.94zm-11 1L8.5 8.5l.94-2.06 2.06-.94-2.06-.94L8.5 2.5l-.94 2.06-2.06.94zm10 10l.94 2.06.94-2.06 2.06-.94-2.06-.94-.94-2.06-.94 2.06-2.06.94z\"/><path d=\"M17.41 7.96l-1.37-1.37c-.4-.4-.92-.59-1.43-.59-.52 0-1.04.2-1.43.59L10.3 9.45l-7.72 7.72c-.78.78-.78 2.05 0 2.83L4 21.41c.39.39.9.59 1.41.59.51 0 1.02-.2 1.41-.59l7.78-7.78 2.81-2.81c.8-.78.8-2.07 0-2.86zM5.41 20L4 18.59l7.72-7.72 1.47 1.35L5.41 20z\"/>\n",
              "  </svg>\n",
              "      </button>\n",
              "      \n",
              "  <style>\n",
              "    .colab-df-container {\n",
              "      display:flex;\n",
              "      flex-wrap:wrap;\n",
              "      gap: 12px;\n",
              "    }\n",
              "\n",
              "    .colab-df-convert {\n",
              "      background-color: #E8F0FE;\n",
              "      border: none;\n",
              "      border-radius: 50%;\n",
              "      cursor: pointer;\n",
              "      display: none;\n",
              "      fill: #1967D2;\n",
              "      height: 32px;\n",
              "      padding: 0 0 0 0;\n",
              "      width: 32px;\n",
              "    }\n",
              "\n",
              "    .colab-df-convert:hover {\n",
              "      background-color: #E2EBFA;\n",
              "      box-shadow: 0px 1px 2px rgba(60, 64, 67, 0.3), 0px 1px 3px 1px rgba(60, 64, 67, 0.15);\n",
              "      fill: #174EA6;\n",
              "    }\n",
              "\n",
              "    [theme=dark] .colab-df-convert {\n",
              "      background-color: #3B4455;\n",
              "      fill: #D2E3FC;\n",
              "    }\n",
              "\n",
              "    [theme=dark] .colab-df-convert:hover {\n",
              "      background-color: #434B5C;\n",
              "      box-shadow: 0px 1px 3px 1px rgba(0, 0, 0, 0.15);\n",
              "      filter: drop-shadow(0px 1px 2px rgba(0, 0, 0, 0.3));\n",
              "      fill: #FFFFFF;\n",
              "    }\n",
              "  </style>\n",
              "\n",
              "      <script>\n",
              "        const buttonEl =\n",
              "          document.querySelector('#df-8b6ac03b-90ca-4662-8b85-1e5eb4f966a8 button.colab-df-convert');\n",
              "        buttonEl.style.display =\n",
              "          google.colab.kernel.accessAllowed ? 'block' : 'none';\n",
              "\n",
              "        async function convertToInteractive(key) {\n",
              "          const element = document.querySelector('#df-8b6ac03b-90ca-4662-8b85-1e5eb4f966a8');\n",
              "          const dataTable =\n",
              "            await google.colab.kernel.invokeFunction('convertToInteractive',\n",
              "                                                     [key], {});\n",
              "          if (!dataTable) return;\n",
              "\n",
              "          const docLinkHtml = 'Like what you see? Visit the ' +\n",
              "            '<a target=\"_blank\" href=https://colab.research.google.com/notebooks/data_table.ipynb>data table notebook</a>'\n",
              "            + ' to learn more about interactive tables.';\n",
              "          element.innerHTML = '';\n",
              "          dataTable['output_type'] = 'display_data';\n",
              "          await google.colab.output.renderOutput(dataTable, element);\n",
              "          const docLink = document.createElement('div');\n",
              "          docLink.innerHTML = docLinkHtml;\n",
              "          element.appendChild(docLink);\n",
              "        }\n",
              "      </script>\n",
              "    </div>\n",
              "  </div>\n",
              "  "
            ]
          },
          "metadata": {},
          "execution_count": 479
        }
      ]
    },
    {
      "cell_type": "code",
      "source": [
        "sns.boxplot( y=DF[\"sepal_length\"] )\n",
        "plt.show()"
      ],
      "metadata": {
        "colab": {
          "base_uri": "https://localhost:8080/",
          "height": 252
        },
        "id": "Aa3ljwK5sP86",
        "outputId": "9b9c4685-b0f1-409b-ae6e-9d012a879794"
      },
      "execution_count": null,
      "outputs": [
        {
          "output_type": "display_data",
          "data": {
            "text/plain": [
              "<Figure size 432x288 with 1 Axes>"
            ],
            "image/png": "[encoded data removed]"
          },
          "metadata": {
            "needs_background": "light"
          }
        }
      ]
    },
    {
      "cell_type": "markdown",
      "source": [
        "***How to interpret the boxplot?***\n",
        "\n",
        "The bottom of the box is the 25% percentile and the top is the 75% percentile value of the data.\n",
        "\n",
        "So, essentially the box represents the middle 50% of all the datapoints which represents the core region when the data is situated. The height of the boxplot is also called the **Inter Quartile Range (IQR)**, which mathematically is the difference between the 75th and 25th percentile values of the data.\n",
        "\n",
        "The thick line in the middle of the box represents the median. Whereas, the upper and lower whisker marks 1.5 times the IQR from the top (and bottom) of the box.\n",
        "\n",
        "But, why whiskers matter?\n",
        "\n",
        "Because, the points that lie outside the whiskers, that is, (1.5 x IQR) in both directions are generally considered as outliers."
      ],
      "metadata": {
        "id": "Vyj8nvyg_05d"
      }
    },
    {
      "cell_type": "markdown",
      "source": [
        "* ***ViolinPlot***\n",
        "\n",
        "Violin Plot is a method to visualize the distribution of numerical data of different variables. It is similar to Box Plot but with a rotated plot on each side, giving more information about the density estimate on the y-axis.\n",
        "The density is mirrored and flipped over and the resulting shape is filled in, creating an image resembling a violin. The advantage of a violin plot is that it can show nuances in the distribution that aren’t perceptible in a boxplot. On the other hand, the boxplot more clearly shows the outliers in the data.\n",
        "\n",
        "Violin Plots hold more information than the box plots, they are less popular. Because of their unpopularity, their meaning can be harder to grasp for many readers not familiar with the violin plot representation.\n",
        "\n",
        "Syntax:\n",
        "\n",
        "\n",
        "```\n",
        "violinplot([x, y, hue, data, order, …])\n",
        "```\n",
        "\n"
      ],
      "metadata": {
        "id": "dVxvb57mAYn_"
      }
    },
    {
      "cell_type": "code",
      "source": [
        "fig, ax = plt.subplots(figsize =(9, 7))\n",
        "sns.violinplot( ax = ax, y = DF[\"sepal_length\"] )"
      ],
      "metadata": {
        "id": "ggPKZMoNA46P",
        "colab": {
          "base_uri": "https://localhost:8080/",
          "height": 432
        },
        "outputId": "4d1ef323-4128-442d-a127-670ad9f09bce"
      },
      "execution_count": null,
      "outputs": [
        {
          "output_type": "execute_result",
          "data": {
            "text/plain": [
              "<matplotlib.axes._subplots.AxesSubplot at 0x7f2f29392610>"
            ]
          },
          "metadata": {},
          "execution_count": 481
        },
        {
          "output_type": "display_data",
          "data": {
            "text/plain": [
              "<Figure size 648x504 with 1 Axes>"
            ],
            "image/png": "[encoded data removed]"
          },
          "metadata": {
            "needs_background": "light"
          }
        }
      ]
    },
    {
      "cell_type": "code",
      "source": [
        "sns.get_dataset_names()      #to see the list of available datasets"
      ],
      "metadata": {
        "id": "MMjTBfBIT58l",
        "colab": {
          "base_uri": "https://localhost:8080/"
        },
        "outputId": "21ad2c9f-ea90-405c-c77b-60154ce659ef"
      },
      "execution_count": null,
      "outputs": [
        {
          "output_type": "execute_result",
          "data": {
            "text/plain": [
              "['anagrams',\n",
              " 'anscombe',\n",
              " 'attention',\n",
              " 'brain_networks',\n",
              " 'car_crashes',\n",
              " 'diamonds',\n",
              " 'dots',\n",
              " 'dowjones',\n",
              " 'exercise',\n",
              " 'flights',\n",
              " 'fmri',\n",
              " 'geyser',\n",
              " 'glue',\n",
              " 'healthexp',\n",
              " 'iris',\n",
              " 'mpg',\n",
              " 'penguins',\n",
              " 'planets',\n",
              " 'seaice',\n",
              " 'taxis',\n",
              " 'tips',\n",
              " 'titanic']"
            ]
          },
          "metadata": {},
          "execution_count": 482
        }
      ]
    }
  ]
}